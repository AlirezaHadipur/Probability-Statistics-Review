{
  "nbformat": 4,
  "nbformat_minor": 0,
  "metadata": {
    "colab": {
      "provenance": []
    },
    "kernelspec": {
      "name": "python3",
      "display_name": "Python 3"
    },
    "language_info": {
      "name": "python"
    }
  },
  "cells": [
    {
      "cell_type": "markdown",
      "source": [
        "**Table of Contents**"
      ],
      "metadata": {
        "id": "oCb6dcorT6mr"
      }
    },
    {
      "cell_type": "markdown",
      "source": [
        ">[Descripton](#scrollTo=tS1kJQHrUEX0)\n",
        "\n",
        ">[Import Libraries](#scrollTo=YbwVTfLLDRxt)\n",
        "\n",
        ">[Create Dataset](#scrollTo=s_VPiogIDOoL)\n",
        "\n",
        ">[Marginal Distribution](#scrollTo=QlGGA0DGPJqj)\n",
        "\n",
        ">>[Compute Marginal numbers](#scrollTo=Zan6XXWOgkcB)\n",
        "\n",
        ">>[Compute joint distribution](#scrollTo=txNz9jAigsT6)\n",
        "\n",
        ">>[Extract some usefull information](#scrollTo=meUF0UqwHG6A)\n",
        "\n",
        ">>[AND](#scrollTo=VuWEHhDkqKr1)\n",
        "\n",
        ">>[OR](#scrollTo=KncuMPLnqPPm)\n",
        "\n",
        ">>[Conditional Probability](#scrollTo=s_2rRTfLqTWN)\n",
        "\n",
        ">>[Independence and dependence](#scrollTo=zArswkqWtQfP)\n",
        "\n"
      ],
      "metadata": {
        "colab_type": "toc",
        "id": "b55a9-_3Tz3u"
      }
    },
    {
      "cell_type": "markdown",
      "source": [
        "# Descripton"
      ],
      "metadata": {
        "id": "tS1kJQHrUEX0"
      }
    },
    {
      "cell_type": "markdown",
      "source": [
        "**In this notebook, first of all, I will create a handmade dataset(it is not real), it's about 3 types of diseases that are widespread to all continents. My goal is to show how we can easily get useful information from MARGINAL DISTRIBUTIONS. I also show how we can easily work with handmade datasets using the Pandas library.**"
      ],
      "metadata": {
        "id": "AtcJeDdhUIOy"
      }
    },
    {
      "cell_type": "markdown",
      "source": [
        "# Import Libraries"
      ],
      "metadata": {
        "id": "YbwVTfLLDRxt"
      }
    },
    {
      "cell_type": "code",
      "source": [
        "import numpy as np\n",
        "import pandas as pd\n",
        "import seaborn as sns\n",
        "import matplotlib.pyplot as plt"
      ],
      "metadata": {
        "id": "fDlz_AiADc6d"
      },
      "execution_count": 1,
      "outputs": []
    },
    {
      "cell_type": "markdown",
      "source": [
        "# Create Dataset"
      ],
      "metadata": {
        "id": "s_VPiogIDOoL"
      }
    },
    {
      "cell_type": "markdown",
      "source": [
        "First and foremost, I created 3 main parts of a data frame (table).\n",
        "\n",
        "The 3 main parts are columns, rows, and data"
      ],
      "metadata": {
        "id": "-3FgbrJzVX_K"
      }
    },
    {
      "cell_type": "code",
      "execution_count": 2,
      "metadata": {
        "id": "0TbmKjABDHKM"
      },
      "outputs": [],
      "source": [
        "columns = ['North America', 'South America', 'Asia', 'Australia', 'Europe', 'Africa']\n",
        "rows = ['Type A', 'Type B', 'Type C']\n",
        "data = [\n",
        "          [150, 120, 540, 15, 180, 20],\n",
        "          [100, 10, 50, 120, 130, 70],\n",
        "          [90, 200, 750, 140, 10, 95]\n",
        "      ]\n",
        "dataset = pd.DataFrame(data=data, index=rows, columns=columns)"
      ]
    },
    {
      "cell_type": "code",
      "source": [
        "dataset"
      ],
      "metadata": {
        "colab": {
          "base_uri": "https://localhost:8080/",
          "height": 143
        },
        "id": "8MSaqCSWF7Iv",
        "outputId": "9d5d1f14-f52e-4c95-9336-0f1df66e7852"
      },
      "execution_count": 3,
      "outputs": [
        {
          "output_type": "execute_result",
          "data": {
            "text/plain": [
              "        North America  South America  Asia  Australia  Europe  Africa\n",
              "Type A            150            120   540         15     180      20\n",
              "Type B            100             10    50        120     130      70\n",
              "Type C             90            200   750        140      10      95"
            ],
            "text/html": [
              "\n",
              "  <div id=\"df-2f5da536-73bf-458e-a484-d233bf710a47\" class=\"colab-df-container\">\n",
              "    <div>\n",
              "<style scoped>\n",
              "    .dataframe tbody tr th:only-of-type {\n",
              "        vertical-align: middle;\n",
              "    }\n",
              "\n",
              "    .dataframe tbody tr th {\n",
              "        vertical-align: top;\n",
              "    }\n",
              "\n",
              "    .dataframe thead th {\n",
              "        text-align: right;\n",
              "    }\n",
              "</style>\n",
              "<table border=\"1\" class=\"dataframe\">\n",
              "  <thead>\n",
              "    <tr style=\"text-align: right;\">\n",
              "      <th></th>\n",
              "      <th>North America</th>\n",
              "      <th>South America</th>\n",
              "      <th>Asia</th>\n",
              "      <th>Australia</th>\n",
              "      <th>Europe</th>\n",
              "      <th>Africa</th>\n",
              "    </tr>\n",
              "  </thead>\n",
              "  <tbody>\n",
              "    <tr>\n",
              "      <th>Type A</th>\n",
              "      <td>150</td>\n",
              "      <td>120</td>\n",
              "      <td>540</td>\n",
              "      <td>15</td>\n",
              "      <td>180</td>\n",
              "      <td>20</td>\n",
              "    </tr>\n",
              "    <tr>\n",
              "      <th>Type B</th>\n",
              "      <td>100</td>\n",
              "      <td>10</td>\n",
              "      <td>50</td>\n",
              "      <td>120</td>\n",
              "      <td>130</td>\n",
              "      <td>70</td>\n",
              "    </tr>\n",
              "    <tr>\n",
              "      <th>Type C</th>\n",
              "      <td>90</td>\n",
              "      <td>200</td>\n",
              "      <td>750</td>\n",
              "      <td>140</td>\n",
              "      <td>10</td>\n",
              "      <td>95</td>\n",
              "    </tr>\n",
              "  </tbody>\n",
              "</table>\n",
              "</div>\n",
              "    <div class=\"colab-df-buttons\">\n",
              "\n",
              "  <div class=\"colab-df-container\">\n",
              "    <button class=\"colab-df-convert\" onclick=\"convertToInteractive('df-2f5da536-73bf-458e-a484-d233bf710a47')\"\n",
              "            title=\"Convert this dataframe to an interactive table.\"\n",
              "            style=\"display:none;\">\n",
              "\n",
              "  <svg xmlns=\"http://www.w3.org/2000/svg\" height=\"24px\" viewBox=\"0 -960 960 960\">\n",
              "    <path d=\"M120-120v-720h720v720H120Zm60-500h600v-160H180v160Zm220 220h160v-160H400v160Zm0 220h160v-160H400v160ZM180-400h160v-160H180v160Zm440 0h160v-160H620v160ZM180-180h160v-160H180v160Zm440 0h160v-160H620v160Z\"/>\n",
              "  </svg>\n",
              "    </button>\n",
              "\n",
              "  <style>\n",
              "    .colab-df-container {\n",
              "      display:flex;\n",
              "      gap: 12px;\n",
              "    }\n",
              "\n",
              "    .colab-df-convert {\n",
              "      background-color: #E8F0FE;\n",
              "      border: none;\n",
              "      border-radius: 50%;\n",
              "      cursor: pointer;\n",
              "      display: none;\n",
              "      fill: #1967D2;\n",
              "      height: 32px;\n",
              "      padding: 0 0 0 0;\n",
              "      width: 32px;\n",
              "    }\n",
              "\n",
              "    .colab-df-convert:hover {\n",
              "      background-color: #E2EBFA;\n",
              "      box-shadow: 0px 1px 2px rgba(60, 64, 67, 0.3), 0px 1px 3px 1px rgba(60, 64, 67, 0.15);\n",
              "      fill: #174EA6;\n",
              "    }\n",
              "\n",
              "    .colab-df-buttons div {\n",
              "      margin-bottom: 4px;\n",
              "    }\n",
              "\n",
              "    [theme=dark] .colab-df-convert {\n",
              "      background-color: #3B4455;\n",
              "      fill: #D2E3FC;\n",
              "    }\n",
              "\n",
              "    [theme=dark] .colab-df-convert:hover {\n",
              "      background-color: #434B5C;\n",
              "      box-shadow: 0px 1px 3px 1px rgba(0, 0, 0, 0.15);\n",
              "      filter: drop-shadow(0px 1px 2px rgba(0, 0, 0, 0.3));\n",
              "      fill: #FFFFFF;\n",
              "    }\n",
              "  </style>\n",
              "\n",
              "    <script>\n",
              "      const buttonEl =\n",
              "        document.querySelector('#df-2f5da536-73bf-458e-a484-d233bf710a47 button.colab-df-convert');\n",
              "      buttonEl.style.display =\n",
              "        google.colab.kernel.accessAllowed ? 'block' : 'none';\n",
              "\n",
              "      async function convertToInteractive(key) {\n",
              "        const element = document.querySelector('#df-2f5da536-73bf-458e-a484-d233bf710a47');\n",
              "        const dataTable =\n",
              "          await google.colab.kernel.invokeFunction('convertToInteractive',\n",
              "                                                    [key], {});\n",
              "        if (!dataTable) return;\n",
              "\n",
              "        const docLinkHtml = 'Like what you see? Visit the ' +\n",
              "          '<a target=\"_blank\" href=https://colab.research.google.com/notebooks/data_table.ipynb>data table notebook</a>'\n",
              "          + ' to learn more about interactive tables.';\n",
              "        element.innerHTML = '';\n",
              "        dataTable['output_type'] = 'display_data';\n",
              "        await google.colab.output.renderOutput(dataTable, element);\n",
              "        const docLink = document.createElement('div');\n",
              "        docLink.innerHTML = docLinkHtml;\n",
              "        element.appendChild(docLink);\n",
              "      }\n",
              "    </script>\n",
              "  </div>\n",
              "\n",
              "\n",
              "<div id=\"df-dd633262-fad6-43a9-890e-501491bae9a3\">\n",
              "  <button class=\"colab-df-quickchart\" onclick=\"quickchart('df-dd633262-fad6-43a9-890e-501491bae9a3')\"\n",
              "            title=\"Suggest charts\"\n",
              "            style=\"display:none;\">\n",
              "\n",
              "<svg xmlns=\"http://www.w3.org/2000/svg\" height=\"24px\"viewBox=\"0 0 24 24\"\n",
              "     width=\"24px\">\n",
              "    <g>\n",
              "        <path d=\"M19 3H5c-1.1 0-2 .9-2 2v14c0 1.1.9 2 2 2h14c1.1 0 2-.9 2-2V5c0-1.1-.9-2-2-2zM9 17H7v-7h2v7zm4 0h-2V7h2v10zm4 0h-2v-4h2v4z\"/>\n",
              "    </g>\n",
              "</svg>\n",
              "  </button>\n",
              "\n",
              "<style>\n",
              "  .colab-df-quickchart {\n",
              "      --bg-color: #E8F0FE;\n",
              "      --fill-color: #1967D2;\n",
              "      --hover-bg-color: #E2EBFA;\n",
              "      --hover-fill-color: #174EA6;\n",
              "      --disabled-fill-color: #AAA;\n",
              "      --disabled-bg-color: #DDD;\n",
              "  }\n",
              "\n",
              "  [theme=dark] .colab-df-quickchart {\n",
              "      --bg-color: #3B4455;\n",
              "      --fill-color: #D2E3FC;\n",
              "      --hover-bg-color: #434B5C;\n",
              "      --hover-fill-color: #FFFFFF;\n",
              "      --disabled-bg-color: #3B4455;\n",
              "      --disabled-fill-color: #666;\n",
              "  }\n",
              "\n",
              "  .colab-df-quickchart {\n",
              "    background-color: var(--bg-color);\n",
              "    border: none;\n",
              "    border-radius: 50%;\n",
              "    cursor: pointer;\n",
              "    display: none;\n",
              "    fill: var(--fill-color);\n",
              "    height: 32px;\n",
              "    padding: 0;\n",
              "    width: 32px;\n",
              "  }\n",
              "\n",
              "  .colab-df-quickchart:hover {\n",
              "    background-color: var(--hover-bg-color);\n",
              "    box-shadow: 0 1px 2px rgba(60, 64, 67, 0.3), 0 1px 3px 1px rgba(60, 64, 67, 0.15);\n",
              "    fill: var(--button-hover-fill-color);\n",
              "  }\n",
              "\n",
              "  .colab-df-quickchart-complete:disabled,\n",
              "  .colab-df-quickchart-complete:disabled:hover {\n",
              "    background-color: var(--disabled-bg-color);\n",
              "    fill: var(--disabled-fill-color);\n",
              "    box-shadow: none;\n",
              "  }\n",
              "\n",
              "  .colab-df-spinner {\n",
              "    border: 2px solid var(--fill-color);\n",
              "    border-color: transparent;\n",
              "    border-bottom-color: var(--fill-color);\n",
              "    animation:\n",
              "      spin 1s steps(1) infinite;\n",
              "  }\n",
              "\n",
              "  @keyframes spin {\n",
              "    0% {\n",
              "      border-color: transparent;\n",
              "      border-bottom-color: var(--fill-color);\n",
              "      border-left-color: var(--fill-color);\n",
              "    }\n",
              "    20% {\n",
              "      border-color: transparent;\n",
              "      border-left-color: var(--fill-color);\n",
              "      border-top-color: var(--fill-color);\n",
              "    }\n",
              "    30% {\n",
              "      border-color: transparent;\n",
              "      border-left-color: var(--fill-color);\n",
              "      border-top-color: var(--fill-color);\n",
              "      border-right-color: var(--fill-color);\n",
              "    }\n",
              "    40% {\n",
              "      border-color: transparent;\n",
              "      border-right-color: var(--fill-color);\n",
              "      border-top-color: var(--fill-color);\n",
              "    }\n",
              "    60% {\n",
              "      border-color: transparent;\n",
              "      border-right-color: var(--fill-color);\n",
              "    }\n",
              "    80% {\n",
              "      border-color: transparent;\n",
              "      border-right-color: var(--fill-color);\n",
              "      border-bottom-color: var(--fill-color);\n",
              "    }\n",
              "    90% {\n",
              "      border-color: transparent;\n",
              "      border-bottom-color: var(--fill-color);\n",
              "    }\n",
              "  }\n",
              "</style>\n",
              "\n",
              "  <script>\n",
              "    async function quickchart(key) {\n",
              "      const quickchartButtonEl =\n",
              "        document.querySelector('#' + key + ' button');\n",
              "      quickchartButtonEl.disabled = true;  // To prevent multiple clicks.\n",
              "      quickchartButtonEl.classList.add('colab-df-spinner');\n",
              "      try {\n",
              "        const charts = await google.colab.kernel.invokeFunction(\n",
              "            'suggestCharts', [key], {});\n",
              "      } catch (error) {\n",
              "        console.error('Error during call to suggestCharts:', error);\n",
              "      }\n",
              "      quickchartButtonEl.classList.remove('colab-df-spinner');\n",
              "      quickchartButtonEl.classList.add('colab-df-quickchart-complete');\n",
              "    }\n",
              "    (() => {\n",
              "      let quickchartButtonEl =\n",
              "        document.querySelector('#df-dd633262-fad6-43a9-890e-501491bae9a3 button');\n",
              "      quickchartButtonEl.style.display =\n",
              "        google.colab.kernel.accessAllowed ? 'block' : 'none';\n",
              "    })();\n",
              "  </script>\n",
              "</div>\n",
              "    </div>\n",
              "  </div>\n"
            ],
            "application/vnd.google.colaboratory.intrinsic+json": {
              "type": "dataframe",
              "variable_name": "dataset",
              "summary": "{\n  \"name\": \"dataset\",\n  \"rows\": 3,\n  \"fields\": [\n    {\n      \"column\": \"North America\",\n      \"properties\": {\n        \"dtype\": \"number\",\n        \"std\": 32,\n        \"min\": 90,\n        \"max\": 150,\n        \"num_unique_values\": 3,\n        \"samples\": [\n          150,\n          100,\n          90\n        ],\n        \"semantic_type\": \"\",\n        \"description\": \"\"\n      }\n    },\n    {\n      \"column\": \"South America\",\n      \"properties\": {\n        \"dtype\": \"number\",\n        \"std\": 95,\n        \"min\": 10,\n        \"max\": 200,\n        \"num_unique_values\": 3,\n        \"samples\": [\n          120,\n          10,\n          200\n        ],\n        \"semantic_type\": \"\",\n        \"description\": \"\"\n      }\n    },\n    {\n      \"column\": \"Asia\",\n      \"properties\": {\n        \"dtype\": \"number\",\n        \"std\": 359,\n        \"min\": 50,\n        \"max\": 750,\n        \"num_unique_values\": 3,\n        \"samples\": [\n          540,\n          50,\n          750\n        ],\n        \"semantic_type\": \"\",\n        \"description\": \"\"\n      }\n    },\n    {\n      \"column\": \"Australia\",\n      \"properties\": {\n        \"dtype\": \"number\",\n        \"std\": 67,\n        \"min\": 15,\n        \"max\": 140,\n        \"num_unique_values\": 3,\n        \"samples\": [\n          15,\n          120,\n          140\n        ],\n        \"semantic_type\": \"\",\n        \"description\": \"\"\n      }\n    },\n    {\n      \"column\": \"Europe\",\n      \"properties\": {\n        \"dtype\": \"number\",\n        \"std\": 87,\n        \"min\": 10,\n        \"max\": 180,\n        \"num_unique_values\": 3,\n        \"samples\": [\n          180,\n          130,\n          10\n        ],\n        \"semantic_type\": \"\",\n        \"description\": \"\"\n      }\n    },\n    {\n      \"column\": \"Africa\",\n      \"properties\": {\n        \"dtype\": \"number\",\n        \"std\": 38,\n        \"min\": 20,\n        \"max\": 95,\n        \"num_unique_values\": 3,\n        \"samples\": [\n          20,\n          70,\n          95\n        ],\n        \"semantic_type\": \"\",\n        \"description\": \"\"\n      }\n    }\n  ]\n}"
            }
          },
          "metadata": {},
          "execution_count": 3
        }
      ]
    },
    {
      "cell_type": "markdown",
      "source": [
        "This is our raw dataframe."
      ],
      "metadata": {
        "id": "k9PAt_6DV62a"
      }
    },
    {
      "cell_type": "markdown",
      "source": [
        "# Marginal Distribution"
      ],
      "metadata": {
        "id": "QlGGA0DGPJqj"
      }
    },
    {
      "cell_type": "markdown",
      "source": [
        "## Compute Marginal numbers"
      ],
      "metadata": {
        "id": "Zan6XXWOgkcB"
      }
    },
    {
      "cell_type": "markdown",
      "source": [
        "For MARGINAL DISTRIBUTIONS we need a total number of each row and column. so let's compute them."
      ],
      "metadata": {
        "id": "J5FDhG0tV_AK"
      }
    },
    {
      "cell_type": "code",
      "source": [
        "dataset['TOTAL'] = dataset.sum(axis=1)"
      ],
      "metadata": {
        "id": "NyQgqMiOGTC5"
      },
      "execution_count": 4,
      "outputs": []
    },
    {
      "cell_type": "code",
      "source": [
        "dataset"
      ],
      "metadata": {
        "colab": {
          "base_uri": "https://localhost:8080/",
          "height": 143
        },
        "id": "EOp-2E_UF_ii",
        "outputId": "56393aa9-8341-413f-94a7-38f624ce3ab3"
      },
      "execution_count": 5,
      "outputs": [
        {
          "output_type": "execute_result",
          "data": {
            "text/plain": [
              "        North America  South America  Asia  Australia  Europe  Africa  TOTAL\n",
              "Type A            150            120   540         15     180      20   1025\n",
              "Type B            100             10    50        120     130      70    480\n",
              "Type C             90            200   750        140      10      95   1285"
            ],
            "text/html": [
              "\n",
              "  <div id=\"df-9276a30a-0f37-454e-b19b-544b20f2ff01\" class=\"colab-df-container\">\n",
              "    <div>\n",
              "<style scoped>\n",
              "    .dataframe tbody tr th:only-of-type {\n",
              "        vertical-align: middle;\n",
              "    }\n",
              "\n",
              "    .dataframe tbody tr th {\n",
              "        vertical-align: top;\n",
              "    }\n",
              "\n",
              "    .dataframe thead th {\n",
              "        text-align: right;\n",
              "    }\n",
              "</style>\n",
              "<table border=\"1\" class=\"dataframe\">\n",
              "  <thead>\n",
              "    <tr style=\"text-align: right;\">\n",
              "      <th></th>\n",
              "      <th>North America</th>\n",
              "      <th>South America</th>\n",
              "      <th>Asia</th>\n",
              "      <th>Australia</th>\n",
              "      <th>Europe</th>\n",
              "      <th>Africa</th>\n",
              "      <th>TOTAL</th>\n",
              "    </tr>\n",
              "  </thead>\n",
              "  <tbody>\n",
              "    <tr>\n",
              "      <th>Type A</th>\n",
              "      <td>150</td>\n",
              "      <td>120</td>\n",
              "      <td>540</td>\n",
              "      <td>15</td>\n",
              "      <td>180</td>\n",
              "      <td>20</td>\n",
              "      <td>1025</td>\n",
              "    </tr>\n",
              "    <tr>\n",
              "      <th>Type B</th>\n",
              "      <td>100</td>\n",
              "      <td>10</td>\n",
              "      <td>50</td>\n",
              "      <td>120</td>\n",
              "      <td>130</td>\n",
              "      <td>70</td>\n",
              "      <td>480</td>\n",
              "    </tr>\n",
              "    <tr>\n",
              "      <th>Type C</th>\n",
              "      <td>90</td>\n",
              "      <td>200</td>\n",
              "      <td>750</td>\n",
              "      <td>140</td>\n",
              "      <td>10</td>\n",
              "      <td>95</td>\n",
              "      <td>1285</td>\n",
              "    </tr>\n",
              "  </tbody>\n",
              "</table>\n",
              "</div>\n",
              "    <div class=\"colab-df-buttons\">\n",
              "\n",
              "  <div class=\"colab-df-container\">\n",
              "    <button class=\"colab-df-convert\" onclick=\"convertToInteractive('df-9276a30a-0f37-454e-b19b-544b20f2ff01')\"\n",
              "            title=\"Convert this dataframe to an interactive table.\"\n",
              "            style=\"display:none;\">\n",
              "\n",
              "  <svg xmlns=\"http://www.w3.org/2000/svg\" height=\"24px\" viewBox=\"0 -960 960 960\">\n",
              "    <path d=\"M120-120v-720h720v720H120Zm60-500h600v-160H180v160Zm220 220h160v-160H400v160Zm0 220h160v-160H400v160ZM180-400h160v-160H180v160Zm440 0h160v-160H620v160ZM180-180h160v-160H180v160Zm440 0h160v-160H620v160Z\"/>\n",
              "  </svg>\n",
              "    </button>\n",
              "\n",
              "  <style>\n",
              "    .colab-df-container {\n",
              "      display:flex;\n",
              "      gap: 12px;\n",
              "    }\n",
              "\n",
              "    .colab-df-convert {\n",
              "      background-color: #E8F0FE;\n",
              "      border: none;\n",
              "      border-radius: 50%;\n",
              "      cursor: pointer;\n",
              "      display: none;\n",
              "      fill: #1967D2;\n",
              "      height: 32px;\n",
              "      padding: 0 0 0 0;\n",
              "      width: 32px;\n",
              "    }\n",
              "\n",
              "    .colab-df-convert:hover {\n",
              "      background-color: #E2EBFA;\n",
              "      box-shadow: 0px 1px 2px rgba(60, 64, 67, 0.3), 0px 1px 3px 1px rgba(60, 64, 67, 0.15);\n",
              "      fill: #174EA6;\n",
              "    }\n",
              "\n",
              "    .colab-df-buttons div {\n",
              "      margin-bottom: 4px;\n",
              "    }\n",
              "\n",
              "    [theme=dark] .colab-df-convert {\n",
              "      background-color: #3B4455;\n",
              "      fill: #D2E3FC;\n",
              "    }\n",
              "\n",
              "    [theme=dark] .colab-df-convert:hover {\n",
              "      background-color: #434B5C;\n",
              "      box-shadow: 0px 1px 3px 1px rgba(0, 0, 0, 0.15);\n",
              "      filter: drop-shadow(0px 1px 2px rgba(0, 0, 0, 0.3));\n",
              "      fill: #FFFFFF;\n",
              "    }\n",
              "  </style>\n",
              "\n",
              "    <script>\n",
              "      const buttonEl =\n",
              "        document.querySelector('#df-9276a30a-0f37-454e-b19b-544b20f2ff01 button.colab-df-convert');\n",
              "      buttonEl.style.display =\n",
              "        google.colab.kernel.accessAllowed ? 'block' : 'none';\n",
              "\n",
              "      async function convertToInteractive(key) {\n",
              "        const element = document.querySelector('#df-9276a30a-0f37-454e-b19b-544b20f2ff01');\n",
              "        const dataTable =\n",
              "          await google.colab.kernel.invokeFunction('convertToInteractive',\n",
              "                                                    [key], {});\n",
              "        if (!dataTable) return;\n",
              "\n",
              "        const docLinkHtml = 'Like what you see? Visit the ' +\n",
              "          '<a target=\"_blank\" href=https://colab.research.google.com/notebooks/data_table.ipynb>data table notebook</a>'\n",
              "          + ' to learn more about interactive tables.';\n",
              "        element.innerHTML = '';\n",
              "        dataTable['output_type'] = 'display_data';\n",
              "        await google.colab.output.renderOutput(dataTable, element);\n",
              "        const docLink = document.createElement('div');\n",
              "        docLink.innerHTML = docLinkHtml;\n",
              "        element.appendChild(docLink);\n",
              "      }\n",
              "    </script>\n",
              "  </div>\n",
              "\n",
              "\n",
              "<div id=\"df-10518520-911f-414a-b44f-a992887a684d\">\n",
              "  <button class=\"colab-df-quickchart\" onclick=\"quickchart('df-10518520-911f-414a-b44f-a992887a684d')\"\n",
              "            title=\"Suggest charts\"\n",
              "            style=\"display:none;\">\n",
              "\n",
              "<svg xmlns=\"http://www.w3.org/2000/svg\" height=\"24px\"viewBox=\"0 0 24 24\"\n",
              "     width=\"24px\">\n",
              "    <g>\n",
              "        <path d=\"M19 3H5c-1.1 0-2 .9-2 2v14c0 1.1.9 2 2 2h14c1.1 0 2-.9 2-2V5c0-1.1-.9-2-2-2zM9 17H7v-7h2v7zm4 0h-2V7h2v10zm4 0h-2v-4h2v4z\"/>\n",
              "    </g>\n",
              "</svg>\n",
              "  </button>\n",
              "\n",
              "<style>\n",
              "  .colab-df-quickchart {\n",
              "      --bg-color: #E8F0FE;\n",
              "      --fill-color: #1967D2;\n",
              "      --hover-bg-color: #E2EBFA;\n",
              "      --hover-fill-color: #174EA6;\n",
              "      --disabled-fill-color: #AAA;\n",
              "      --disabled-bg-color: #DDD;\n",
              "  }\n",
              "\n",
              "  [theme=dark] .colab-df-quickchart {\n",
              "      --bg-color: #3B4455;\n",
              "      --fill-color: #D2E3FC;\n",
              "      --hover-bg-color: #434B5C;\n",
              "      --hover-fill-color: #FFFFFF;\n",
              "      --disabled-bg-color: #3B4455;\n",
              "      --disabled-fill-color: #666;\n",
              "  }\n",
              "\n",
              "  .colab-df-quickchart {\n",
              "    background-color: var(--bg-color);\n",
              "    border: none;\n",
              "    border-radius: 50%;\n",
              "    cursor: pointer;\n",
              "    display: none;\n",
              "    fill: var(--fill-color);\n",
              "    height: 32px;\n",
              "    padding: 0;\n",
              "    width: 32px;\n",
              "  }\n",
              "\n",
              "  .colab-df-quickchart:hover {\n",
              "    background-color: var(--hover-bg-color);\n",
              "    box-shadow: 0 1px 2px rgba(60, 64, 67, 0.3), 0 1px 3px 1px rgba(60, 64, 67, 0.15);\n",
              "    fill: var(--button-hover-fill-color);\n",
              "  }\n",
              "\n",
              "  .colab-df-quickchart-complete:disabled,\n",
              "  .colab-df-quickchart-complete:disabled:hover {\n",
              "    background-color: var(--disabled-bg-color);\n",
              "    fill: var(--disabled-fill-color);\n",
              "    box-shadow: none;\n",
              "  }\n",
              "\n",
              "  .colab-df-spinner {\n",
              "    border: 2px solid var(--fill-color);\n",
              "    border-color: transparent;\n",
              "    border-bottom-color: var(--fill-color);\n",
              "    animation:\n",
              "      spin 1s steps(1) infinite;\n",
              "  }\n",
              "\n",
              "  @keyframes spin {\n",
              "    0% {\n",
              "      border-color: transparent;\n",
              "      border-bottom-color: var(--fill-color);\n",
              "      border-left-color: var(--fill-color);\n",
              "    }\n",
              "    20% {\n",
              "      border-color: transparent;\n",
              "      border-left-color: var(--fill-color);\n",
              "      border-top-color: var(--fill-color);\n",
              "    }\n",
              "    30% {\n",
              "      border-color: transparent;\n",
              "      border-left-color: var(--fill-color);\n",
              "      border-top-color: var(--fill-color);\n",
              "      border-right-color: var(--fill-color);\n",
              "    }\n",
              "    40% {\n",
              "      border-color: transparent;\n",
              "      border-right-color: var(--fill-color);\n",
              "      border-top-color: var(--fill-color);\n",
              "    }\n",
              "    60% {\n",
              "      border-color: transparent;\n",
              "      border-right-color: var(--fill-color);\n",
              "    }\n",
              "    80% {\n",
              "      border-color: transparent;\n",
              "      border-right-color: var(--fill-color);\n",
              "      border-bottom-color: var(--fill-color);\n",
              "    }\n",
              "    90% {\n",
              "      border-color: transparent;\n",
              "      border-bottom-color: var(--fill-color);\n",
              "    }\n",
              "  }\n",
              "</style>\n",
              "\n",
              "  <script>\n",
              "    async function quickchart(key) {\n",
              "      const quickchartButtonEl =\n",
              "        document.querySelector('#' + key + ' button');\n",
              "      quickchartButtonEl.disabled = true;  // To prevent multiple clicks.\n",
              "      quickchartButtonEl.classList.add('colab-df-spinner');\n",
              "      try {\n",
              "        const charts = await google.colab.kernel.invokeFunction(\n",
              "            'suggestCharts', [key], {});\n",
              "      } catch (error) {\n",
              "        console.error('Error during call to suggestCharts:', error);\n",
              "      }\n",
              "      quickchartButtonEl.classList.remove('colab-df-spinner');\n",
              "      quickchartButtonEl.classList.add('colab-df-quickchart-complete');\n",
              "    }\n",
              "    (() => {\n",
              "      let quickchartButtonEl =\n",
              "        document.querySelector('#df-10518520-911f-414a-b44f-a992887a684d button');\n",
              "      quickchartButtonEl.style.display =\n",
              "        google.colab.kernel.accessAllowed ? 'block' : 'none';\n",
              "    })();\n",
              "  </script>\n",
              "</div>\n",
              "    </div>\n",
              "  </div>\n"
            ],
            "application/vnd.google.colaboratory.intrinsic+json": {
              "type": "dataframe",
              "variable_name": "dataset",
              "summary": "{\n  \"name\": \"dataset\",\n  \"rows\": 3,\n  \"fields\": [\n    {\n      \"column\": \"North America\",\n      \"properties\": {\n        \"dtype\": \"number\",\n        \"std\": 32,\n        \"min\": 90,\n        \"max\": 150,\n        \"num_unique_values\": 3,\n        \"samples\": [\n          150,\n          100,\n          90\n        ],\n        \"semantic_type\": \"\",\n        \"description\": \"\"\n      }\n    },\n    {\n      \"column\": \"South America\",\n      \"properties\": {\n        \"dtype\": \"number\",\n        \"std\": 95,\n        \"min\": 10,\n        \"max\": 200,\n        \"num_unique_values\": 3,\n        \"samples\": [\n          120,\n          10,\n          200\n        ],\n        \"semantic_type\": \"\",\n        \"description\": \"\"\n      }\n    },\n    {\n      \"column\": \"Asia\",\n      \"properties\": {\n        \"dtype\": \"number\",\n        \"std\": 359,\n        \"min\": 50,\n        \"max\": 750,\n        \"num_unique_values\": 3,\n        \"samples\": [\n          540,\n          50,\n          750\n        ],\n        \"semantic_type\": \"\",\n        \"description\": \"\"\n      }\n    },\n    {\n      \"column\": \"Australia\",\n      \"properties\": {\n        \"dtype\": \"number\",\n        \"std\": 67,\n        \"min\": 15,\n        \"max\": 140,\n        \"num_unique_values\": 3,\n        \"samples\": [\n          15,\n          120,\n          140\n        ],\n        \"semantic_type\": \"\",\n        \"description\": \"\"\n      }\n    },\n    {\n      \"column\": \"Europe\",\n      \"properties\": {\n        \"dtype\": \"number\",\n        \"std\": 87,\n        \"min\": 10,\n        \"max\": 180,\n        \"num_unique_values\": 3,\n        \"samples\": [\n          180,\n          130,\n          10\n        ],\n        \"semantic_type\": \"\",\n        \"description\": \"\"\n      }\n    },\n    {\n      \"column\": \"Africa\",\n      \"properties\": {\n        \"dtype\": \"number\",\n        \"std\": 38,\n        \"min\": 20,\n        \"max\": 95,\n        \"num_unique_values\": 3,\n        \"samples\": [\n          20,\n          70,\n          95\n        ],\n        \"semantic_type\": \"\",\n        \"description\": \"\"\n      }\n    },\n    {\n      \"column\": \"TOTAL\",\n      \"properties\": {\n        \"dtype\": \"number\",\n        \"std\": 410,\n        \"min\": 480,\n        \"max\": 1285,\n        \"num_unique_values\": 3,\n        \"samples\": [\n          1025,\n          480,\n          1285\n        ],\n        \"semantic_type\": \"\",\n        \"description\": \"\"\n      }\n    }\n  ]\n}"
            }
          },
          "metadata": {},
          "execution_count": 5
        }
      ]
    },
    {
      "cell_type": "code",
      "source": [
        "dataset.loc['TOTAL'] = dataset.sum(axis=0)"
      ],
      "metadata": {
        "id": "l5aQgYyFPfXZ"
      },
      "execution_count": 6,
      "outputs": []
    },
    {
      "cell_type": "code",
      "source": [
        "dataset"
      ],
      "metadata": {
        "colab": {
          "base_uri": "https://localhost:8080/",
          "height": 175
        },
        "id": "Y_-9STGYGGFL",
        "outputId": "df4cdbc0-da81-41e6-fb41-82e6d25810b1"
      },
      "execution_count": 7,
      "outputs": [
        {
          "output_type": "execute_result",
          "data": {
            "text/plain": [
              "        North America  South America  Asia  Australia  Europe  Africa  TOTAL\n",
              "Type A            150            120   540         15     180      20   1025\n",
              "Type B            100             10    50        120     130      70    480\n",
              "Type C             90            200   750        140      10      95   1285\n",
              "TOTAL             340            330  1340        275     320     185   2790"
            ],
            "text/html": [
              "\n",
              "  <div id=\"df-09b1c99b-e84a-4189-a6c5-fe0220870eba\" class=\"colab-df-container\">\n",
              "    <div>\n",
              "<style scoped>\n",
              "    .dataframe tbody tr th:only-of-type {\n",
              "        vertical-align: middle;\n",
              "    }\n",
              "\n",
              "    .dataframe tbody tr th {\n",
              "        vertical-align: top;\n",
              "    }\n",
              "\n",
              "    .dataframe thead th {\n",
              "        text-align: right;\n",
              "    }\n",
              "</style>\n",
              "<table border=\"1\" class=\"dataframe\">\n",
              "  <thead>\n",
              "    <tr style=\"text-align: right;\">\n",
              "      <th></th>\n",
              "      <th>North America</th>\n",
              "      <th>South America</th>\n",
              "      <th>Asia</th>\n",
              "      <th>Australia</th>\n",
              "      <th>Europe</th>\n",
              "      <th>Africa</th>\n",
              "      <th>TOTAL</th>\n",
              "    </tr>\n",
              "  </thead>\n",
              "  <tbody>\n",
              "    <tr>\n",
              "      <th>Type A</th>\n",
              "      <td>150</td>\n",
              "      <td>120</td>\n",
              "      <td>540</td>\n",
              "      <td>15</td>\n",
              "      <td>180</td>\n",
              "      <td>20</td>\n",
              "      <td>1025</td>\n",
              "    </tr>\n",
              "    <tr>\n",
              "      <th>Type B</th>\n",
              "      <td>100</td>\n",
              "      <td>10</td>\n",
              "      <td>50</td>\n",
              "      <td>120</td>\n",
              "      <td>130</td>\n",
              "      <td>70</td>\n",
              "      <td>480</td>\n",
              "    </tr>\n",
              "    <tr>\n",
              "      <th>Type C</th>\n",
              "      <td>90</td>\n",
              "      <td>200</td>\n",
              "      <td>750</td>\n",
              "      <td>140</td>\n",
              "      <td>10</td>\n",
              "      <td>95</td>\n",
              "      <td>1285</td>\n",
              "    </tr>\n",
              "    <tr>\n",
              "      <th>TOTAL</th>\n",
              "      <td>340</td>\n",
              "      <td>330</td>\n",
              "      <td>1340</td>\n",
              "      <td>275</td>\n",
              "      <td>320</td>\n",
              "      <td>185</td>\n",
              "      <td>2790</td>\n",
              "    </tr>\n",
              "  </tbody>\n",
              "</table>\n",
              "</div>\n",
              "    <div class=\"colab-df-buttons\">\n",
              "\n",
              "  <div class=\"colab-df-container\">\n",
              "    <button class=\"colab-df-convert\" onclick=\"convertToInteractive('df-09b1c99b-e84a-4189-a6c5-fe0220870eba')\"\n",
              "            title=\"Convert this dataframe to an interactive table.\"\n",
              "            style=\"display:none;\">\n",
              "\n",
              "  <svg xmlns=\"http://www.w3.org/2000/svg\" height=\"24px\" viewBox=\"0 -960 960 960\">\n",
              "    <path d=\"M120-120v-720h720v720H120Zm60-500h600v-160H180v160Zm220 220h160v-160H400v160Zm0 220h160v-160H400v160ZM180-400h160v-160H180v160Zm440 0h160v-160H620v160ZM180-180h160v-160H180v160Zm440 0h160v-160H620v160Z\"/>\n",
              "  </svg>\n",
              "    </button>\n",
              "\n",
              "  <style>\n",
              "    .colab-df-container {\n",
              "      display:flex;\n",
              "      gap: 12px;\n",
              "    }\n",
              "\n",
              "    .colab-df-convert {\n",
              "      background-color: #E8F0FE;\n",
              "      border: none;\n",
              "      border-radius: 50%;\n",
              "      cursor: pointer;\n",
              "      display: none;\n",
              "      fill: #1967D2;\n",
              "      height: 32px;\n",
              "      padding: 0 0 0 0;\n",
              "      width: 32px;\n",
              "    }\n",
              "\n",
              "    .colab-df-convert:hover {\n",
              "      background-color: #E2EBFA;\n",
              "      box-shadow: 0px 1px 2px rgba(60, 64, 67, 0.3), 0px 1px 3px 1px rgba(60, 64, 67, 0.15);\n",
              "      fill: #174EA6;\n",
              "    }\n",
              "\n",
              "    .colab-df-buttons div {\n",
              "      margin-bottom: 4px;\n",
              "    }\n",
              "\n",
              "    [theme=dark] .colab-df-convert {\n",
              "      background-color: #3B4455;\n",
              "      fill: #D2E3FC;\n",
              "    }\n",
              "\n",
              "    [theme=dark] .colab-df-convert:hover {\n",
              "      background-color: #434B5C;\n",
              "      box-shadow: 0px 1px 3px 1px rgba(0, 0, 0, 0.15);\n",
              "      filter: drop-shadow(0px 1px 2px rgba(0, 0, 0, 0.3));\n",
              "      fill: #FFFFFF;\n",
              "    }\n",
              "  </style>\n",
              "\n",
              "    <script>\n",
              "      const buttonEl =\n",
              "        document.querySelector('#df-09b1c99b-e84a-4189-a6c5-fe0220870eba button.colab-df-convert');\n",
              "      buttonEl.style.display =\n",
              "        google.colab.kernel.accessAllowed ? 'block' : 'none';\n",
              "\n",
              "      async function convertToInteractive(key) {\n",
              "        const element = document.querySelector('#df-09b1c99b-e84a-4189-a6c5-fe0220870eba');\n",
              "        const dataTable =\n",
              "          await google.colab.kernel.invokeFunction('convertToInteractive',\n",
              "                                                    [key], {});\n",
              "        if (!dataTable) return;\n",
              "\n",
              "        const docLinkHtml = 'Like what you see? Visit the ' +\n",
              "          '<a target=\"_blank\" href=https://colab.research.google.com/notebooks/data_table.ipynb>data table notebook</a>'\n",
              "          + ' to learn more about interactive tables.';\n",
              "        element.innerHTML = '';\n",
              "        dataTable['output_type'] = 'display_data';\n",
              "        await google.colab.output.renderOutput(dataTable, element);\n",
              "        const docLink = document.createElement('div');\n",
              "        docLink.innerHTML = docLinkHtml;\n",
              "        element.appendChild(docLink);\n",
              "      }\n",
              "    </script>\n",
              "  </div>\n",
              "\n",
              "\n",
              "<div id=\"df-4a9a9def-2e40-49e7-81bf-6861bfb7eaaf\">\n",
              "  <button class=\"colab-df-quickchart\" onclick=\"quickchart('df-4a9a9def-2e40-49e7-81bf-6861bfb7eaaf')\"\n",
              "            title=\"Suggest charts\"\n",
              "            style=\"display:none;\">\n",
              "\n",
              "<svg xmlns=\"http://www.w3.org/2000/svg\" height=\"24px\"viewBox=\"0 0 24 24\"\n",
              "     width=\"24px\">\n",
              "    <g>\n",
              "        <path d=\"M19 3H5c-1.1 0-2 .9-2 2v14c0 1.1.9 2 2 2h14c1.1 0 2-.9 2-2V5c0-1.1-.9-2-2-2zM9 17H7v-7h2v7zm4 0h-2V7h2v10zm4 0h-2v-4h2v4z\"/>\n",
              "    </g>\n",
              "</svg>\n",
              "  </button>\n",
              "\n",
              "<style>\n",
              "  .colab-df-quickchart {\n",
              "      --bg-color: #E8F0FE;\n",
              "      --fill-color: #1967D2;\n",
              "      --hover-bg-color: #E2EBFA;\n",
              "      --hover-fill-color: #174EA6;\n",
              "      --disabled-fill-color: #AAA;\n",
              "      --disabled-bg-color: #DDD;\n",
              "  }\n",
              "\n",
              "  [theme=dark] .colab-df-quickchart {\n",
              "      --bg-color: #3B4455;\n",
              "      --fill-color: #D2E3FC;\n",
              "      --hover-bg-color: #434B5C;\n",
              "      --hover-fill-color: #FFFFFF;\n",
              "      --disabled-bg-color: #3B4455;\n",
              "      --disabled-fill-color: #666;\n",
              "  }\n",
              "\n",
              "  .colab-df-quickchart {\n",
              "    background-color: var(--bg-color);\n",
              "    border: none;\n",
              "    border-radius: 50%;\n",
              "    cursor: pointer;\n",
              "    display: none;\n",
              "    fill: var(--fill-color);\n",
              "    height: 32px;\n",
              "    padding: 0;\n",
              "    width: 32px;\n",
              "  }\n",
              "\n",
              "  .colab-df-quickchart:hover {\n",
              "    background-color: var(--hover-bg-color);\n",
              "    box-shadow: 0 1px 2px rgba(60, 64, 67, 0.3), 0 1px 3px 1px rgba(60, 64, 67, 0.15);\n",
              "    fill: var(--button-hover-fill-color);\n",
              "  }\n",
              "\n",
              "  .colab-df-quickchart-complete:disabled,\n",
              "  .colab-df-quickchart-complete:disabled:hover {\n",
              "    background-color: var(--disabled-bg-color);\n",
              "    fill: var(--disabled-fill-color);\n",
              "    box-shadow: none;\n",
              "  }\n",
              "\n",
              "  .colab-df-spinner {\n",
              "    border: 2px solid var(--fill-color);\n",
              "    border-color: transparent;\n",
              "    border-bottom-color: var(--fill-color);\n",
              "    animation:\n",
              "      spin 1s steps(1) infinite;\n",
              "  }\n",
              "\n",
              "  @keyframes spin {\n",
              "    0% {\n",
              "      border-color: transparent;\n",
              "      border-bottom-color: var(--fill-color);\n",
              "      border-left-color: var(--fill-color);\n",
              "    }\n",
              "    20% {\n",
              "      border-color: transparent;\n",
              "      border-left-color: var(--fill-color);\n",
              "      border-top-color: var(--fill-color);\n",
              "    }\n",
              "    30% {\n",
              "      border-color: transparent;\n",
              "      border-left-color: var(--fill-color);\n",
              "      border-top-color: var(--fill-color);\n",
              "      border-right-color: var(--fill-color);\n",
              "    }\n",
              "    40% {\n",
              "      border-color: transparent;\n",
              "      border-right-color: var(--fill-color);\n",
              "      border-top-color: var(--fill-color);\n",
              "    }\n",
              "    60% {\n",
              "      border-color: transparent;\n",
              "      border-right-color: var(--fill-color);\n",
              "    }\n",
              "    80% {\n",
              "      border-color: transparent;\n",
              "      border-right-color: var(--fill-color);\n",
              "      border-bottom-color: var(--fill-color);\n",
              "    }\n",
              "    90% {\n",
              "      border-color: transparent;\n",
              "      border-bottom-color: var(--fill-color);\n",
              "    }\n",
              "  }\n",
              "</style>\n",
              "\n",
              "  <script>\n",
              "    async function quickchart(key) {\n",
              "      const quickchartButtonEl =\n",
              "        document.querySelector('#' + key + ' button');\n",
              "      quickchartButtonEl.disabled = true;  // To prevent multiple clicks.\n",
              "      quickchartButtonEl.classList.add('colab-df-spinner');\n",
              "      try {\n",
              "        const charts = await google.colab.kernel.invokeFunction(\n",
              "            'suggestCharts', [key], {});\n",
              "      } catch (error) {\n",
              "        console.error('Error during call to suggestCharts:', error);\n",
              "      }\n",
              "      quickchartButtonEl.classList.remove('colab-df-spinner');\n",
              "      quickchartButtonEl.classList.add('colab-df-quickchart-complete');\n",
              "    }\n",
              "    (() => {\n",
              "      let quickchartButtonEl =\n",
              "        document.querySelector('#df-4a9a9def-2e40-49e7-81bf-6861bfb7eaaf button');\n",
              "      quickchartButtonEl.style.display =\n",
              "        google.colab.kernel.accessAllowed ? 'block' : 'none';\n",
              "    })();\n",
              "  </script>\n",
              "</div>\n",
              "    </div>\n",
              "  </div>\n"
            ],
            "application/vnd.google.colaboratory.intrinsic+json": {
              "type": "dataframe",
              "variable_name": "dataset",
              "summary": "{\n  \"name\": \"dataset\",\n  \"rows\": 4,\n  \"fields\": [\n    {\n      \"column\": \"North America\",\n      \"properties\": {\n        \"dtype\": \"number\",\n        \"std\": 116,\n        \"min\": 90,\n        \"max\": 340,\n        \"num_unique_values\": 4,\n        \"samples\": [\n          100,\n          340,\n          150\n        ],\n        \"semantic_type\": \"\",\n        \"description\": \"\"\n      }\n    },\n    {\n      \"column\": \"South America\",\n      \"properties\": {\n        \"dtype\": \"number\",\n        \"std\": 134,\n        \"min\": 10,\n        \"max\": 330,\n        \"num_unique_values\": 4,\n        \"samples\": [\n          10,\n          330,\n          120\n        ],\n        \"semantic_type\": \"\",\n        \"description\": \"\"\n      }\n    },\n    {\n      \"column\": \"Asia\",\n      \"properties\": {\n        \"dtype\": \"number\",\n        \"std\": 534,\n        \"min\": 50,\n        \"max\": 1340,\n        \"num_unique_values\": 4,\n        \"samples\": [\n          50,\n          1340,\n          540\n        ],\n        \"semantic_type\": \"\",\n        \"description\": \"\"\n      }\n    },\n    {\n      \"column\": \"Australia\",\n      \"properties\": {\n        \"dtype\": \"number\",\n        \"std\": 106,\n        \"min\": 15,\n        \"max\": 275,\n        \"num_unique_values\": 4,\n        \"samples\": [\n          120,\n          275,\n          15\n        ],\n        \"semantic_type\": \"\",\n        \"description\": \"\"\n      }\n    },\n    {\n      \"column\": \"Europe\",\n      \"properties\": {\n        \"dtype\": \"number\",\n        \"std\": 128,\n        \"min\": 10,\n        \"max\": 320,\n        \"num_unique_values\": 4,\n        \"samples\": [\n          130,\n          320,\n          180\n        ],\n        \"semantic_type\": \"\",\n        \"description\": \"\"\n      }\n    },\n    {\n      \"column\": \"Africa\",\n      \"properties\": {\n        \"dtype\": \"number\",\n        \"std\": 69,\n        \"min\": 20,\n        \"max\": 185,\n        \"num_unique_values\": 4,\n        \"samples\": [\n          70,\n          185,\n          20\n        ],\n        \"semantic_type\": \"\",\n        \"description\": \"\"\n      }\n    },\n    {\n      \"column\": \"TOTAL\",\n      \"properties\": {\n        \"dtype\": \"number\",\n        \"std\": 988,\n        \"min\": 480,\n        \"max\": 2790,\n        \"num_unique_values\": 4,\n        \"samples\": [\n          480,\n          2790,\n          1025\n        ],\n        \"semantic_type\": \"\",\n        \"description\": \"\"\n      }\n    }\n  ]\n}"
            }
          },
          "metadata": {},
          "execution_count": 7
        }
      ]
    },
    {
      "cell_type": "markdown",
      "source": [
        "## Compute joint distribution"
      ],
      "metadata": {
        "id": "txNz9jAigsT6"
      }
    },
    {
      "cell_type": "code",
      "source": [
        "def color_map(val):\n",
        "  for i in range(dataset['TOTAL'].size):\n",
        "    if val == dataset['TOTAL'][i]:\n",
        "      color = 'green'\n",
        "      return f'color: {color}'\n",
        "\n",
        "  for j in range(dataset.loc['TOTAL'].size):\n",
        "    if val == dataset.loc['TOTAL'][j]:\n",
        "      color = 'green'\n",
        "      return f'color: {color}'"
      ],
      "metadata": {
        "id": "kduFuO8VejND"
      },
      "execution_count": 8,
      "outputs": []
    },
    {
      "cell_type": "code",
      "source": [
        "styled_data = dataset.style.applymap(color_map)"
      ],
      "metadata": {
        "id": "B4qKWtG5gLK5"
      },
      "execution_count": 9,
      "outputs": []
    },
    {
      "cell_type": "code",
      "source": [
        "styled_data"
      ],
      "metadata": {
        "colab": {
          "base_uri": "https://localhost:8080/",
          "height": 175
        },
        "id": "Y1sLt6tfGKcK",
        "outputId": "af647134-f520-468f-db94-3f48921c9012"
      },
      "execution_count": 10,
      "outputs": [
        {
          "output_type": "execute_result",
          "data": {
            "text/plain": [
              "<pandas.io.formats.style.Styler at 0x7c2cae873ac0>"
            ],
            "text/html": [
              "<style type=\"text/css\">\n",
              "#T_a9ae0_row0_col6, #T_a9ae0_row1_col6, #T_a9ae0_row2_col6, #T_a9ae0_row3_col0, #T_a9ae0_row3_col1, #T_a9ae0_row3_col2, #T_a9ae0_row3_col3, #T_a9ae0_row3_col4, #T_a9ae0_row3_col5, #T_a9ae0_row3_col6 {\n",
              "  color: green;\n",
              "}\n",
              "</style>\n",
              "<table id=\"T_a9ae0\" class=\"dataframe\">\n",
              "  <thead>\n",
              "    <tr>\n",
              "      <th class=\"blank level0\" >&nbsp;</th>\n",
              "      <th id=\"T_a9ae0_level0_col0\" class=\"col_heading level0 col0\" >North America</th>\n",
              "      <th id=\"T_a9ae0_level0_col1\" class=\"col_heading level0 col1\" >South America</th>\n",
              "      <th id=\"T_a9ae0_level0_col2\" class=\"col_heading level0 col2\" >Asia</th>\n",
              "      <th id=\"T_a9ae0_level0_col3\" class=\"col_heading level0 col3\" >Australia</th>\n",
              "      <th id=\"T_a9ae0_level0_col4\" class=\"col_heading level0 col4\" >Europe</th>\n",
              "      <th id=\"T_a9ae0_level0_col5\" class=\"col_heading level0 col5\" >Africa</th>\n",
              "      <th id=\"T_a9ae0_level0_col6\" class=\"col_heading level0 col6\" >TOTAL</th>\n",
              "    </tr>\n",
              "  </thead>\n",
              "  <tbody>\n",
              "    <tr>\n",
              "      <th id=\"T_a9ae0_level0_row0\" class=\"row_heading level0 row0\" >Type A</th>\n",
              "      <td id=\"T_a9ae0_row0_col0\" class=\"data row0 col0\" >150</td>\n",
              "      <td id=\"T_a9ae0_row0_col1\" class=\"data row0 col1\" >120</td>\n",
              "      <td id=\"T_a9ae0_row0_col2\" class=\"data row0 col2\" >540</td>\n",
              "      <td id=\"T_a9ae0_row0_col3\" class=\"data row0 col3\" >15</td>\n",
              "      <td id=\"T_a9ae0_row0_col4\" class=\"data row0 col4\" >180</td>\n",
              "      <td id=\"T_a9ae0_row0_col5\" class=\"data row0 col5\" >20</td>\n",
              "      <td id=\"T_a9ae0_row0_col6\" class=\"data row0 col6\" >1025</td>\n",
              "    </tr>\n",
              "    <tr>\n",
              "      <th id=\"T_a9ae0_level0_row1\" class=\"row_heading level0 row1\" >Type B</th>\n",
              "      <td id=\"T_a9ae0_row1_col0\" class=\"data row1 col0\" >100</td>\n",
              "      <td id=\"T_a9ae0_row1_col1\" class=\"data row1 col1\" >10</td>\n",
              "      <td id=\"T_a9ae0_row1_col2\" class=\"data row1 col2\" >50</td>\n",
              "      <td id=\"T_a9ae0_row1_col3\" class=\"data row1 col3\" >120</td>\n",
              "      <td id=\"T_a9ae0_row1_col4\" class=\"data row1 col4\" >130</td>\n",
              "      <td id=\"T_a9ae0_row1_col5\" class=\"data row1 col5\" >70</td>\n",
              "      <td id=\"T_a9ae0_row1_col6\" class=\"data row1 col6\" >480</td>\n",
              "    </tr>\n",
              "    <tr>\n",
              "      <th id=\"T_a9ae0_level0_row2\" class=\"row_heading level0 row2\" >Type C</th>\n",
              "      <td id=\"T_a9ae0_row2_col0\" class=\"data row2 col0\" >90</td>\n",
              "      <td id=\"T_a9ae0_row2_col1\" class=\"data row2 col1\" >200</td>\n",
              "      <td id=\"T_a9ae0_row2_col2\" class=\"data row2 col2\" >750</td>\n",
              "      <td id=\"T_a9ae0_row2_col3\" class=\"data row2 col3\" >140</td>\n",
              "      <td id=\"T_a9ae0_row2_col4\" class=\"data row2 col4\" >10</td>\n",
              "      <td id=\"T_a9ae0_row2_col5\" class=\"data row2 col5\" >95</td>\n",
              "      <td id=\"T_a9ae0_row2_col6\" class=\"data row2 col6\" >1285</td>\n",
              "    </tr>\n",
              "    <tr>\n",
              "      <th id=\"T_a9ae0_level0_row3\" class=\"row_heading level0 row3\" >TOTAL</th>\n",
              "      <td id=\"T_a9ae0_row3_col0\" class=\"data row3 col0\" >340</td>\n",
              "      <td id=\"T_a9ae0_row3_col1\" class=\"data row3 col1\" >330</td>\n",
              "      <td id=\"T_a9ae0_row3_col2\" class=\"data row3 col2\" >1340</td>\n",
              "      <td id=\"T_a9ae0_row3_col3\" class=\"data row3 col3\" >275</td>\n",
              "      <td id=\"T_a9ae0_row3_col4\" class=\"data row3 col4\" >320</td>\n",
              "      <td id=\"T_a9ae0_row3_col5\" class=\"data row3 col5\" >185</td>\n",
              "      <td id=\"T_a9ae0_row3_col6\" class=\"data row3 col6\" >2790</td>\n",
              "    </tr>\n",
              "  </tbody>\n",
              "</table>\n"
            ]
          },
          "metadata": {},
          "execution_count": 10
        }
      ]
    },
    {
      "cell_type": "markdown",
      "source": [
        "The above data frame has marginal numbers that show the sum of each row and column items, but we need the probability of each cell, it's called joint distribution. For this goal, we should divide each cell value by the total number"
      ],
      "metadata": {
        "id": "gmi63xJVWlvy"
      }
    },
    {
      "cell_type": "code",
      "source": [
        "joint_dist = round(dataset / 2790, 3)"
      ],
      "metadata": {
        "id": "1HXkGATrR1dN"
      },
      "execution_count": 11,
      "outputs": []
    },
    {
      "cell_type": "code",
      "source": [
        "joint_dist"
      ],
      "metadata": {
        "colab": {
          "base_uri": "https://localhost:8080/",
          "height": 175
        },
        "id": "YDScUoHlG466",
        "outputId": "c21c604f-6be7-405f-d337-869573b0791d"
      },
      "execution_count": 12,
      "outputs": [
        {
          "output_type": "execute_result",
          "data": {
            "text/plain": [
              "        North America  South America   Asia  Australia  Europe  Africa  TOTAL\n",
              "Type A          0.054          0.043  0.194      0.005   0.065   0.007  0.367\n",
              "Type B          0.036          0.004  0.018      0.043   0.047   0.025  0.172\n",
              "Type C          0.032          0.072  0.269      0.050   0.004   0.034  0.461\n",
              "TOTAL           0.122          0.118  0.480      0.099   0.115   0.066  1.000"
            ],
            "text/html": [
              "\n",
              "  <div id=\"df-da559693-5718-445d-97b7-2cdff940e955\" class=\"colab-df-container\">\n",
              "    <div>\n",
              "<style scoped>\n",
              "    .dataframe tbody tr th:only-of-type {\n",
              "        vertical-align: middle;\n",
              "    }\n",
              "\n",
              "    .dataframe tbody tr th {\n",
              "        vertical-align: top;\n",
              "    }\n",
              "\n",
              "    .dataframe thead th {\n",
              "        text-align: right;\n",
              "    }\n",
              "</style>\n",
              "<table border=\"1\" class=\"dataframe\">\n",
              "  <thead>\n",
              "    <tr style=\"text-align: right;\">\n",
              "      <th></th>\n",
              "      <th>North America</th>\n",
              "      <th>South America</th>\n",
              "      <th>Asia</th>\n",
              "      <th>Australia</th>\n",
              "      <th>Europe</th>\n",
              "      <th>Africa</th>\n",
              "      <th>TOTAL</th>\n",
              "    </tr>\n",
              "  </thead>\n",
              "  <tbody>\n",
              "    <tr>\n",
              "      <th>Type A</th>\n",
              "      <td>0.054</td>\n",
              "      <td>0.043</td>\n",
              "      <td>0.194</td>\n",
              "      <td>0.005</td>\n",
              "      <td>0.065</td>\n",
              "      <td>0.007</td>\n",
              "      <td>0.367</td>\n",
              "    </tr>\n",
              "    <tr>\n",
              "      <th>Type B</th>\n",
              "      <td>0.036</td>\n",
              "      <td>0.004</td>\n",
              "      <td>0.018</td>\n",
              "      <td>0.043</td>\n",
              "      <td>0.047</td>\n",
              "      <td>0.025</td>\n",
              "      <td>0.172</td>\n",
              "    </tr>\n",
              "    <tr>\n",
              "      <th>Type C</th>\n",
              "      <td>0.032</td>\n",
              "      <td>0.072</td>\n",
              "      <td>0.269</td>\n",
              "      <td>0.050</td>\n",
              "      <td>0.004</td>\n",
              "      <td>0.034</td>\n",
              "      <td>0.461</td>\n",
              "    </tr>\n",
              "    <tr>\n",
              "      <th>TOTAL</th>\n",
              "      <td>0.122</td>\n",
              "      <td>0.118</td>\n",
              "      <td>0.480</td>\n",
              "      <td>0.099</td>\n",
              "      <td>0.115</td>\n",
              "      <td>0.066</td>\n",
              "      <td>1.000</td>\n",
              "    </tr>\n",
              "  </tbody>\n",
              "</table>\n",
              "</div>\n",
              "    <div class=\"colab-df-buttons\">\n",
              "\n",
              "  <div class=\"colab-df-container\">\n",
              "    <button class=\"colab-df-convert\" onclick=\"convertToInteractive('df-da559693-5718-445d-97b7-2cdff940e955')\"\n",
              "            title=\"Convert this dataframe to an interactive table.\"\n",
              "            style=\"display:none;\">\n",
              "\n",
              "  <svg xmlns=\"http://www.w3.org/2000/svg\" height=\"24px\" viewBox=\"0 -960 960 960\">\n",
              "    <path d=\"M120-120v-720h720v720H120Zm60-500h600v-160H180v160Zm220 220h160v-160H400v160Zm0 220h160v-160H400v160ZM180-400h160v-160H180v160Zm440 0h160v-160H620v160ZM180-180h160v-160H180v160Zm440 0h160v-160H620v160Z\"/>\n",
              "  </svg>\n",
              "    </button>\n",
              "\n",
              "  <style>\n",
              "    .colab-df-container {\n",
              "      display:flex;\n",
              "      gap: 12px;\n",
              "    }\n",
              "\n",
              "    .colab-df-convert {\n",
              "      background-color: #E8F0FE;\n",
              "      border: none;\n",
              "      border-radius: 50%;\n",
              "      cursor: pointer;\n",
              "      display: none;\n",
              "      fill: #1967D2;\n",
              "      height: 32px;\n",
              "      padding: 0 0 0 0;\n",
              "      width: 32px;\n",
              "    }\n",
              "\n",
              "    .colab-df-convert:hover {\n",
              "      background-color: #E2EBFA;\n",
              "      box-shadow: 0px 1px 2px rgba(60, 64, 67, 0.3), 0px 1px 3px 1px rgba(60, 64, 67, 0.15);\n",
              "      fill: #174EA6;\n",
              "    }\n",
              "\n",
              "    .colab-df-buttons div {\n",
              "      margin-bottom: 4px;\n",
              "    }\n",
              "\n",
              "    [theme=dark] .colab-df-convert {\n",
              "      background-color: #3B4455;\n",
              "      fill: #D2E3FC;\n",
              "    }\n",
              "\n",
              "    [theme=dark] .colab-df-convert:hover {\n",
              "      background-color: #434B5C;\n",
              "      box-shadow: 0px 1px 3px 1px rgba(0, 0, 0, 0.15);\n",
              "      filter: drop-shadow(0px 1px 2px rgba(0, 0, 0, 0.3));\n",
              "      fill: #FFFFFF;\n",
              "    }\n",
              "  </style>\n",
              "\n",
              "    <script>\n",
              "      const buttonEl =\n",
              "        document.querySelector('#df-da559693-5718-445d-97b7-2cdff940e955 button.colab-df-convert');\n",
              "      buttonEl.style.display =\n",
              "        google.colab.kernel.accessAllowed ? 'block' : 'none';\n",
              "\n",
              "      async function convertToInteractive(key) {\n",
              "        const element = document.querySelector('#df-da559693-5718-445d-97b7-2cdff940e955');\n",
              "        const dataTable =\n",
              "          await google.colab.kernel.invokeFunction('convertToInteractive',\n",
              "                                                    [key], {});\n",
              "        if (!dataTable) return;\n",
              "\n",
              "        const docLinkHtml = 'Like what you see? Visit the ' +\n",
              "          '<a target=\"_blank\" href=https://colab.research.google.com/notebooks/data_table.ipynb>data table notebook</a>'\n",
              "          + ' to learn more about interactive tables.';\n",
              "        element.innerHTML = '';\n",
              "        dataTable['output_type'] = 'display_data';\n",
              "        await google.colab.output.renderOutput(dataTable, element);\n",
              "        const docLink = document.createElement('div');\n",
              "        docLink.innerHTML = docLinkHtml;\n",
              "        element.appendChild(docLink);\n",
              "      }\n",
              "    </script>\n",
              "  </div>\n",
              "\n",
              "\n",
              "<div id=\"df-a9e0cea8-b19f-4162-b201-7414b028cbc4\">\n",
              "  <button class=\"colab-df-quickchart\" onclick=\"quickchart('df-a9e0cea8-b19f-4162-b201-7414b028cbc4')\"\n",
              "            title=\"Suggest charts\"\n",
              "            style=\"display:none;\">\n",
              "\n",
              "<svg xmlns=\"http://www.w3.org/2000/svg\" height=\"24px\"viewBox=\"0 0 24 24\"\n",
              "     width=\"24px\">\n",
              "    <g>\n",
              "        <path d=\"M19 3H5c-1.1 0-2 .9-2 2v14c0 1.1.9 2 2 2h14c1.1 0 2-.9 2-2V5c0-1.1-.9-2-2-2zM9 17H7v-7h2v7zm4 0h-2V7h2v10zm4 0h-2v-4h2v4z\"/>\n",
              "    </g>\n",
              "</svg>\n",
              "  </button>\n",
              "\n",
              "<style>\n",
              "  .colab-df-quickchart {\n",
              "      --bg-color: #E8F0FE;\n",
              "      --fill-color: #1967D2;\n",
              "      --hover-bg-color: #E2EBFA;\n",
              "      --hover-fill-color: #174EA6;\n",
              "      --disabled-fill-color: #AAA;\n",
              "      --disabled-bg-color: #DDD;\n",
              "  }\n",
              "\n",
              "  [theme=dark] .colab-df-quickchart {\n",
              "      --bg-color: #3B4455;\n",
              "      --fill-color: #D2E3FC;\n",
              "      --hover-bg-color: #434B5C;\n",
              "      --hover-fill-color: #FFFFFF;\n",
              "      --disabled-bg-color: #3B4455;\n",
              "      --disabled-fill-color: #666;\n",
              "  }\n",
              "\n",
              "  .colab-df-quickchart {\n",
              "    background-color: var(--bg-color);\n",
              "    border: none;\n",
              "    border-radius: 50%;\n",
              "    cursor: pointer;\n",
              "    display: none;\n",
              "    fill: var(--fill-color);\n",
              "    height: 32px;\n",
              "    padding: 0;\n",
              "    width: 32px;\n",
              "  }\n",
              "\n",
              "  .colab-df-quickchart:hover {\n",
              "    background-color: var(--hover-bg-color);\n",
              "    box-shadow: 0 1px 2px rgba(60, 64, 67, 0.3), 0 1px 3px 1px rgba(60, 64, 67, 0.15);\n",
              "    fill: var(--button-hover-fill-color);\n",
              "  }\n",
              "\n",
              "  .colab-df-quickchart-complete:disabled,\n",
              "  .colab-df-quickchart-complete:disabled:hover {\n",
              "    background-color: var(--disabled-bg-color);\n",
              "    fill: var(--disabled-fill-color);\n",
              "    box-shadow: none;\n",
              "  }\n",
              "\n",
              "  .colab-df-spinner {\n",
              "    border: 2px solid var(--fill-color);\n",
              "    border-color: transparent;\n",
              "    border-bottom-color: var(--fill-color);\n",
              "    animation:\n",
              "      spin 1s steps(1) infinite;\n",
              "  }\n",
              "\n",
              "  @keyframes spin {\n",
              "    0% {\n",
              "      border-color: transparent;\n",
              "      border-bottom-color: var(--fill-color);\n",
              "      border-left-color: var(--fill-color);\n",
              "    }\n",
              "    20% {\n",
              "      border-color: transparent;\n",
              "      border-left-color: var(--fill-color);\n",
              "      border-top-color: var(--fill-color);\n",
              "    }\n",
              "    30% {\n",
              "      border-color: transparent;\n",
              "      border-left-color: var(--fill-color);\n",
              "      border-top-color: var(--fill-color);\n",
              "      border-right-color: var(--fill-color);\n",
              "    }\n",
              "    40% {\n",
              "      border-color: transparent;\n",
              "      border-right-color: var(--fill-color);\n",
              "      border-top-color: var(--fill-color);\n",
              "    }\n",
              "    60% {\n",
              "      border-color: transparent;\n",
              "      border-right-color: var(--fill-color);\n",
              "    }\n",
              "    80% {\n",
              "      border-color: transparent;\n",
              "      border-right-color: var(--fill-color);\n",
              "      border-bottom-color: var(--fill-color);\n",
              "    }\n",
              "    90% {\n",
              "      border-color: transparent;\n",
              "      border-bottom-color: var(--fill-color);\n",
              "    }\n",
              "  }\n",
              "</style>\n",
              "\n",
              "  <script>\n",
              "    async function quickchart(key) {\n",
              "      const quickchartButtonEl =\n",
              "        document.querySelector('#' + key + ' button');\n",
              "      quickchartButtonEl.disabled = true;  // To prevent multiple clicks.\n",
              "      quickchartButtonEl.classList.add('colab-df-spinner');\n",
              "      try {\n",
              "        const charts = await google.colab.kernel.invokeFunction(\n",
              "            'suggestCharts', [key], {});\n",
              "      } catch (error) {\n",
              "        console.error('Error during call to suggestCharts:', error);\n",
              "      }\n",
              "      quickchartButtonEl.classList.remove('colab-df-spinner');\n",
              "      quickchartButtonEl.classList.add('colab-df-quickchart-complete');\n",
              "    }\n",
              "    (() => {\n",
              "      let quickchartButtonEl =\n",
              "        document.querySelector('#df-a9e0cea8-b19f-4162-b201-7414b028cbc4 button');\n",
              "      quickchartButtonEl.style.display =\n",
              "        google.colab.kernel.accessAllowed ? 'block' : 'none';\n",
              "    })();\n",
              "  </script>\n",
              "</div>\n",
              "    </div>\n",
              "  </div>\n"
            ],
            "application/vnd.google.colaboratory.intrinsic+json": {
              "type": "dataframe",
              "variable_name": "joint_dist",
              "summary": "{\n  \"name\": \"joint_dist\",\n  \"rows\": 4,\n  \"fields\": [\n    {\n      \"column\": \"North America\",\n      \"properties\": {\n        \"dtype\": \"number\",\n        \"std\": 0.04177718675704879,\n        \"min\": 0.032,\n        \"max\": 0.122,\n        \"num_unique_values\": 4,\n        \"samples\": [\n          0.036,\n          0.122,\n          0.054\n        ],\n        \"semantic_type\": \"\",\n        \"description\": \"\"\n      }\n    },\n    {\n      \"column\": \"South America\",\n      \"properties\": {\n        \"dtype\": \"number\",\n        \"std\": 0.04806506007486103,\n        \"min\": 0.004,\n        \"max\": 0.118,\n        \"num_unique_values\": 4,\n        \"samples\": [\n          0.004,\n          0.118,\n          0.043\n        ],\n        \"semantic_type\": \"\",\n        \"description\": \"\"\n      }\n    },\n    {\n      \"column\": \"Asia\",\n      \"properties\": {\n        \"dtype\": \"number\",\n        \"std\": 0.19134676201423773,\n        \"min\": 0.018,\n        \"max\": 0.48,\n        \"num_unique_values\": 4,\n        \"samples\": [\n          0.018,\n          0.48,\n          0.194\n        ],\n        \"semantic_type\": \"\",\n        \"description\": \"\"\n      }\n    },\n    {\n      \"column\": \"Australia\",\n      \"properties\": {\n        \"dtype\": \"number\",\n        \"std\": 0.038612390066747576,\n        \"min\": 0.005,\n        \"max\": 0.099,\n        \"num_unique_values\": 4,\n        \"samples\": [\n          0.043,\n          0.099,\n          0.005\n        ],\n        \"semantic_type\": \"\",\n        \"description\": \"\"\n      }\n    },\n    {\n      \"column\": \"Europe\",\n      \"properties\": {\n        \"dtype\": \"number\",\n        \"std\": 0.0459519676764046,\n        \"min\": 0.004,\n        \"max\": 0.115,\n        \"num_unique_values\": 4,\n        \"samples\": [\n          0.047,\n          0.115,\n          0.065\n        ],\n        \"semantic_type\": \"\",\n        \"description\": \"\"\n      }\n    },\n    {\n      \"column\": \"Africa\",\n      \"properties\": {\n        \"dtype\": \"number\",\n        \"std\": 0.024698178070456944,\n        \"min\": 0.007,\n        \"max\": 0.066,\n        \"num_unique_values\": 4,\n        \"samples\": [\n          0.025,\n          0.066,\n          0.007\n        ],\n        \"semantic_type\": \"\",\n        \"description\": \"\"\n      }\n    },\n    {\n      \"column\": \"TOTAL\",\n      \"properties\": {\n        \"dtype\": \"number\",\n        \"std\": 0.3543980812589143,\n        \"min\": 0.172,\n        \"max\": 1.0,\n        \"num_unique_values\": 4,\n        \"samples\": [\n          0.172,\n          1.0,\n          0.367\n        ],\n        \"semantic_type\": \"\",\n        \"description\": \"\"\n      }\n    }\n  ]\n}"
            }
          },
          "metadata": {},
          "execution_count": 12
        }
      ]
    },
    {
      "cell_type": "markdown",
      "source": [
        "Now we have a table with marginal joint distributions. with this data, we can get some important information"
      ],
      "metadata": {
        "id": "TfMivIAiEItL"
      }
    },
    {
      "cell_type": "markdown",
      "source": [
        "## Extract some usefull information"
      ],
      "metadata": {
        "id": "meUF0UqwHG6A"
      }
    },
    {
      "cell_type": "markdown",
      "source": [
        "**1. For example, we can easily see that the percentage of Asian people over all people in this table is 48% because the sum of Asians in total is 0.48 over 1.00**"
      ],
      "metadata": {
        "id": "caAsA9sFHNwx"
      }
    },
    {
      "cell_type": "code",
      "source": [
        "asian = joint_dist['Asia'][-1]\n",
        "print(f'percent of Asian: {asian*100}%')"
      ],
      "metadata": {
        "colab": {
          "base_uri": "https://localhost:8080/"
        },
        "id": "1PFsJUVgHMiH",
        "outputId": "a1400f3b-8695-45d0-e148-210c40840338"
      },
      "execution_count": 13,
      "outputs": [
        {
          "output_type": "stream",
          "name": "stdout",
          "text": [
            "percent of Asian: 48.0%\n"
          ]
        }
      ]
    },
    {
      "cell_type": "code",
      "source": [
        "def color_map(val):\n",
        "  if val == joint_dist['Asia'][-1]:\n",
        "    color = 'green'\n",
        "    return f'color: {color}'"
      ],
      "metadata": {
        "id": "eY_RHxon_c2A"
      },
      "execution_count": 42,
      "outputs": []
    },
    {
      "cell_type": "code",
      "source": [
        "joint_dist.style.applymap(color_map)"
      ],
      "metadata": {
        "colab": {
          "base_uri": "https://localhost:8080/",
          "height": 175
        },
        "id": "vLWFXuFU_5jE",
        "outputId": "0f6de898-d5f3-4717-dfeb-513a788d43d1"
      },
      "execution_count": 43,
      "outputs": [
        {
          "output_type": "execute_result",
          "data": {
            "text/plain": [
              "<pandas.io.formats.style.Styler at 0x7c2ca7943df0>"
            ],
            "text/html": [
              "<style type=\"text/css\">\n",
              "#T_a7b14_row3_col2 {\n",
              "  color: green;\n",
              "}\n",
              "</style>\n",
              "<table id=\"T_a7b14\" class=\"dataframe\">\n",
              "  <thead>\n",
              "    <tr>\n",
              "      <th class=\"blank level0\" >&nbsp;</th>\n",
              "      <th id=\"T_a7b14_level0_col0\" class=\"col_heading level0 col0\" >North America</th>\n",
              "      <th id=\"T_a7b14_level0_col1\" class=\"col_heading level0 col1\" >South America</th>\n",
              "      <th id=\"T_a7b14_level0_col2\" class=\"col_heading level0 col2\" >Asia</th>\n",
              "      <th id=\"T_a7b14_level0_col3\" class=\"col_heading level0 col3\" >Australia</th>\n",
              "      <th id=\"T_a7b14_level0_col4\" class=\"col_heading level0 col4\" >Europe</th>\n",
              "      <th id=\"T_a7b14_level0_col5\" class=\"col_heading level0 col5\" >Africa</th>\n",
              "      <th id=\"T_a7b14_level0_col6\" class=\"col_heading level0 col6\" >TOTAL</th>\n",
              "    </tr>\n",
              "  </thead>\n",
              "  <tbody>\n",
              "    <tr>\n",
              "      <th id=\"T_a7b14_level0_row0\" class=\"row_heading level0 row0\" >Type A</th>\n",
              "      <td id=\"T_a7b14_row0_col0\" class=\"data row0 col0\" >0.054000</td>\n",
              "      <td id=\"T_a7b14_row0_col1\" class=\"data row0 col1\" >0.043000</td>\n",
              "      <td id=\"T_a7b14_row0_col2\" class=\"data row0 col2\" >0.194000</td>\n",
              "      <td id=\"T_a7b14_row0_col3\" class=\"data row0 col3\" >0.005000</td>\n",
              "      <td id=\"T_a7b14_row0_col4\" class=\"data row0 col4\" >0.065000</td>\n",
              "      <td id=\"T_a7b14_row0_col5\" class=\"data row0 col5\" >0.007000</td>\n",
              "      <td id=\"T_a7b14_row0_col6\" class=\"data row0 col6\" >0.367000</td>\n",
              "    </tr>\n",
              "    <tr>\n",
              "      <th id=\"T_a7b14_level0_row1\" class=\"row_heading level0 row1\" >Type B</th>\n",
              "      <td id=\"T_a7b14_row1_col0\" class=\"data row1 col0\" >0.036000</td>\n",
              "      <td id=\"T_a7b14_row1_col1\" class=\"data row1 col1\" >0.004000</td>\n",
              "      <td id=\"T_a7b14_row1_col2\" class=\"data row1 col2\" >0.018000</td>\n",
              "      <td id=\"T_a7b14_row1_col3\" class=\"data row1 col3\" >0.043000</td>\n",
              "      <td id=\"T_a7b14_row1_col4\" class=\"data row1 col4\" >0.047000</td>\n",
              "      <td id=\"T_a7b14_row1_col5\" class=\"data row1 col5\" >0.025000</td>\n",
              "      <td id=\"T_a7b14_row1_col6\" class=\"data row1 col6\" >0.172000</td>\n",
              "    </tr>\n",
              "    <tr>\n",
              "      <th id=\"T_a7b14_level0_row2\" class=\"row_heading level0 row2\" >Type C</th>\n",
              "      <td id=\"T_a7b14_row2_col0\" class=\"data row2 col0\" >0.032000</td>\n",
              "      <td id=\"T_a7b14_row2_col1\" class=\"data row2 col1\" >0.072000</td>\n",
              "      <td id=\"T_a7b14_row2_col2\" class=\"data row2 col2\" >0.269000</td>\n",
              "      <td id=\"T_a7b14_row2_col3\" class=\"data row2 col3\" >0.050000</td>\n",
              "      <td id=\"T_a7b14_row2_col4\" class=\"data row2 col4\" >0.004000</td>\n",
              "      <td id=\"T_a7b14_row2_col5\" class=\"data row2 col5\" >0.034000</td>\n",
              "      <td id=\"T_a7b14_row2_col6\" class=\"data row2 col6\" >0.461000</td>\n",
              "    </tr>\n",
              "    <tr>\n",
              "      <th id=\"T_a7b14_level0_row3\" class=\"row_heading level0 row3\" >TOTAL</th>\n",
              "      <td id=\"T_a7b14_row3_col0\" class=\"data row3 col0\" >0.122000</td>\n",
              "      <td id=\"T_a7b14_row3_col1\" class=\"data row3 col1\" >0.118000</td>\n",
              "      <td id=\"T_a7b14_row3_col2\" class=\"data row3 col2\" >0.480000</td>\n",
              "      <td id=\"T_a7b14_row3_col3\" class=\"data row3 col3\" >0.099000</td>\n",
              "      <td id=\"T_a7b14_row3_col4\" class=\"data row3 col4\" >0.115000</td>\n",
              "      <td id=\"T_a7b14_row3_col5\" class=\"data row3 col5\" >0.066000</td>\n",
              "      <td id=\"T_a7b14_row3_col6\" class=\"data row3 col6\" >1.000000</td>\n",
              "    </tr>\n",
              "  </tbody>\n",
              "</table>\n"
            ]
          },
          "metadata": {},
          "execution_count": 43
        }
      ]
    },
    {
      "cell_type": "markdown",
      "source": [
        "**2. Almost 37% of people in this table have Type A disease**"
      ],
      "metadata": {
        "id": "Pv5jnGXFICKC"
      }
    },
    {
      "cell_type": "code",
      "source": [
        "typeA = joint_dist.loc['Type A'][-1]\n",
        "print(f'percent of Type A: {typeA*100}%')"
      ],
      "metadata": {
        "colab": {
          "base_uri": "https://localhost:8080/"
        },
        "id": "1F4zux-PHf6z",
        "outputId": "3ac8f5bb-4640-4b0d-f989-4ce036e0952f"
      },
      "execution_count": 14,
      "outputs": [
        {
          "output_type": "stream",
          "name": "stdout",
          "text": [
            "percent of Type A: 36.7%\n"
          ]
        }
      ]
    },
    {
      "cell_type": "code",
      "source": [
        "def color_map(val):\n",
        "  if val == joint_dist.loc['Type A'][-1]:\n",
        "    color = 'green'\n",
        "    return f'color: {color}'"
      ],
      "metadata": {
        "id": "l7z5TUvJAQmV"
      },
      "execution_count": 45,
      "outputs": []
    },
    {
      "cell_type": "code",
      "source": [
        "joint_dist.style.applymap(color_map)"
      ],
      "metadata": {
        "colab": {
          "base_uri": "https://localhost:8080/",
          "height": 175
        },
        "id": "JpkzzJ_uAUa3",
        "outputId": "5b359af2-f8a4-4366-c4aa-84460a565593"
      },
      "execution_count": 46,
      "outputs": [
        {
          "output_type": "execute_result",
          "data": {
            "text/plain": [
              "<pandas.io.formats.style.Styler at 0x7c2ca7acf310>"
            ],
            "text/html": [
              "<style type=\"text/css\">\n",
              "#T_4f9ef_row0_col6 {\n",
              "  color: green;\n",
              "}\n",
              "</style>\n",
              "<table id=\"T_4f9ef\" class=\"dataframe\">\n",
              "  <thead>\n",
              "    <tr>\n",
              "      <th class=\"blank level0\" >&nbsp;</th>\n",
              "      <th id=\"T_4f9ef_level0_col0\" class=\"col_heading level0 col0\" >North America</th>\n",
              "      <th id=\"T_4f9ef_level0_col1\" class=\"col_heading level0 col1\" >South America</th>\n",
              "      <th id=\"T_4f9ef_level0_col2\" class=\"col_heading level0 col2\" >Asia</th>\n",
              "      <th id=\"T_4f9ef_level0_col3\" class=\"col_heading level0 col3\" >Australia</th>\n",
              "      <th id=\"T_4f9ef_level0_col4\" class=\"col_heading level0 col4\" >Europe</th>\n",
              "      <th id=\"T_4f9ef_level0_col5\" class=\"col_heading level0 col5\" >Africa</th>\n",
              "      <th id=\"T_4f9ef_level0_col6\" class=\"col_heading level0 col6\" >TOTAL</th>\n",
              "    </tr>\n",
              "  </thead>\n",
              "  <tbody>\n",
              "    <tr>\n",
              "      <th id=\"T_4f9ef_level0_row0\" class=\"row_heading level0 row0\" >Type A</th>\n",
              "      <td id=\"T_4f9ef_row0_col0\" class=\"data row0 col0\" >0.054000</td>\n",
              "      <td id=\"T_4f9ef_row0_col1\" class=\"data row0 col1\" >0.043000</td>\n",
              "      <td id=\"T_4f9ef_row0_col2\" class=\"data row0 col2\" >0.194000</td>\n",
              "      <td id=\"T_4f9ef_row0_col3\" class=\"data row0 col3\" >0.005000</td>\n",
              "      <td id=\"T_4f9ef_row0_col4\" class=\"data row0 col4\" >0.065000</td>\n",
              "      <td id=\"T_4f9ef_row0_col5\" class=\"data row0 col5\" >0.007000</td>\n",
              "      <td id=\"T_4f9ef_row0_col6\" class=\"data row0 col6\" >0.367000</td>\n",
              "    </tr>\n",
              "    <tr>\n",
              "      <th id=\"T_4f9ef_level0_row1\" class=\"row_heading level0 row1\" >Type B</th>\n",
              "      <td id=\"T_4f9ef_row1_col0\" class=\"data row1 col0\" >0.036000</td>\n",
              "      <td id=\"T_4f9ef_row1_col1\" class=\"data row1 col1\" >0.004000</td>\n",
              "      <td id=\"T_4f9ef_row1_col2\" class=\"data row1 col2\" >0.018000</td>\n",
              "      <td id=\"T_4f9ef_row1_col3\" class=\"data row1 col3\" >0.043000</td>\n",
              "      <td id=\"T_4f9ef_row1_col4\" class=\"data row1 col4\" >0.047000</td>\n",
              "      <td id=\"T_4f9ef_row1_col5\" class=\"data row1 col5\" >0.025000</td>\n",
              "      <td id=\"T_4f9ef_row1_col6\" class=\"data row1 col6\" >0.172000</td>\n",
              "    </tr>\n",
              "    <tr>\n",
              "      <th id=\"T_4f9ef_level0_row2\" class=\"row_heading level0 row2\" >Type C</th>\n",
              "      <td id=\"T_4f9ef_row2_col0\" class=\"data row2 col0\" >0.032000</td>\n",
              "      <td id=\"T_4f9ef_row2_col1\" class=\"data row2 col1\" >0.072000</td>\n",
              "      <td id=\"T_4f9ef_row2_col2\" class=\"data row2 col2\" >0.269000</td>\n",
              "      <td id=\"T_4f9ef_row2_col3\" class=\"data row2 col3\" >0.050000</td>\n",
              "      <td id=\"T_4f9ef_row2_col4\" class=\"data row2 col4\" >0.004000</td>\n",
              "      <td id=\"T_4f9ef_row2_col5\" class=\"data row2 col5\" >0.034000</td>\n",
              "      <td id=\"T_4f9ef_row2_col6\" class=\"data row2 col6\" >0.461000</td>\n",
              "    </tr>\n",
              "    <tr>\n",
              "      <th id=\"T_4f9ef_level0_row3\" class=\"row_heading level0 row3\" >TOTAL</th>\n",
              "      <td id=\"T_4f9ef_row3_col0\" class=\"data row3 col0\" >0.122000</td>\n",
              "      <td id=\"T_4f9ef_row3_col1\" class=\"data row3 col1\" >0.118000</td>\n",
              "      <td id=\"T_4f9ef_row3_col2\" class=\"data row3 col2\" >0.480000</td>\n",
              "      <td id=\"T_4f9ef_row3_col3\" class=\"data row3 col3\" >0.099000</td>\n",
              "      <td id=\"T_4f9ef_row3_col4\" class=\"data row3 col4\" >0.115000</td>\n",
              "      <td id=\"T_4f9ef_row3_col5\" class=\"data row3 col5\" >0.066000</td>\n",
              "      <td id=\"T_4f9ef_row3_col6\" class=\"data row3 col6\" >1.000000</td>\n",
              "    </tr>\n",
              "  </tbody>\n",
              "</table>\n"
            ]
          },
          "metadata": {},
          "execution_count": 46
        }
      ]
    },
    {
      "cell_type": "markdown",
      "source": [
        "## AND"
      ],
      "metadata": {
        "id": "VuWEHhDkqKr1"
      }
    },
    {
      "cell_type": "markdown",
      "source": [
        "**Question: What does each number in a cell show?**\n",
        "\n",
        "**Answer: each number in a cell is considered a joint distribution**"
      ],
      "metadata": {
        "id": "RLCYwOIiI0Cn"
      }
    },
    {
      "cell_type": "markdown",
      "source": [
        "For instance, we can find the percentage of people from NORTH AMERICA who have TYPE B disease is: almost 3.6%\n",
        "\n",
        "(people who are from North America **AND** have Type B)"
      ],
      "metadata": {
        "id": "NGvy2sCQJe9E"
      }
    },
    {
      "cell_type": "code",
      "source": [
        "northAmerica = joint_dist['North America']\n",
        "northAmerica_TypeB = northAmerica.loc['Type B']\n",
        "print(f'North America and Type B: {round(northAmerica_TypeB*100, 2)}%')"
      ],
      "metadata": {
        "colab": {
          "base_uri": "https://localhost:8080/"
        },
        "id": "X4BmhKeSIuJq",
        "outputId": "4b639752-fdfe-4d49-8086-db82a1345371"
      },
      "execution_count": 40,
      "outputs": [
        {
          "output_type": "stream",
          "name": "stdout",
          "text": [
            "North America and Type B: 3.6%\n"
          ]
        }
      ]
    },
    {
      "cell_type": "code",
      "source": [
        "def color_map(val):\n",
        "  if val == joint_dist['North America'][1]:\n",
        "    color = 'green'\n",
        "    return f'color: {color}'"
      ],
      "metadata": {
        "id": "o6DryVwWAd8u"
      },
      "execution_count": 47,
      "outputs": []
    },
    {
      "cell_type": "code",
      "source": [
        "joint_dist.style.applymap(color_map)"
      ],
      "metadata": {
        "colab": {
          "base_uri": "https://localhost:8080/",
          "height": 175
        },
        "id": "3yU6Tg23AqdP",
        "outputId": "91fc5c83-71c0-4aa1-b694-4f2b35618ab1"
      },
      "execution_count": 48,
      "outputs": [
        {
          "output_type": "execute_result",
          "data": {
            "text/plain": [
              "<pandas.io.formats.style.Styler at 0x7c2ca7943610>"
            ],
            "text/html": [
              "<style type=\"text/css\">\n",
              "#T_73861_row1_col0 {\n",
              "  color: green;\n",
              "}\n",
              "</style>\n",
              "<table id=\"T_73861\" class=\"dataframe\">\n",
              "  <thead>\n",
              "    <tr>\n",
              "      <th class=\"blank level0\" >&nbsp;</th>\n",
              "      <th id=\"T_73861_level0_col0\" class=\"col_heading level0 col0\" >North America</th>\n",
              "      <th id=\"T_73861_level0_col1\" class=\"col_heading level0 col1\" >South America</th>\n",
              "      <th id=\"T_73861_level0_col2\" class=\"col_heading level0 col2\" >Asia</th>\n",
              "      <th id=\"T_73861_level0_col3\" class=\"col_heading level0 col3\" >Australia</th>\n",
              "      <th id=\"T_73861_level0_col4\" class=\"col_heading level0 col4\" >Europe</th>\n",
              "      <th id=\"T_73861_level0_col5\" class=\"col_heading level0 col5\" >Africa</th>\n",
              "      <th id=\"T_73861_level0_col6\" class=\"col_heading level0 col6\" >TOTAL</th>\n",
              "    </tr>\n",
              "  </thead>\n",
              "  <tbody>\n",
              "    <tr>\n",
              "      <th id=\"T_73861_level0_row0\" class=\"row_heading level0 row0\" >Type A</th>\n",
              "      <td id=\"T_73861_row0_col0\" class=\"data row0 col0\" >0.054000</td>\n",
              "      <td id=\"T_73861_row0_col1\" class=\"data row0 col1\" >0.043000</td>\n",
              "      <td id=\"T_73861_row0_col2\" class=\"data row0 col2\" >0.194000</td>\n",
              "      <td id=\"T_73861_row0_col3\" class=\"data row0 col3\" >0.005000</td>\n",
              "      <td id=\"T_73861_row0_col4\" class=\"data row0 col4\" >0.065000</td>\n",
              "      <td id=\"T_73861_row0_col5\" class=\"data row0 col5\" >0.007000</td>\n",
              "      <td id=\"T_73861_row0_col6\" class=\"data row0 col6\" >0.367000</td>\n",
              "    </tr>\n",
              "    <tr>\n",
              "      <th id=\"T_73861_level0_row1\" class=\"row_heading level0 row1\" >Type B</th>\n",
              "      <td id=\"T_73861_row1_col0\" class=\"data row1 col0\" >0.036000</td>\n",
              "      <td id=\"T_73861_row1_col1\" class=\"data row1 col1\" >0.004000</td>\n",
              "      <td id=\"T_73861_row1_col2\" class=\"data row1 col2\" >0.018000</td>\n",
              "      <td id=\"T_73861_row1_col3\" class=\"data row1 col3\" >0.043000</td>\n",
              "      <td id=\"T_73861_row1_col4\" class=\"data row1 col4\" >0.047000</td>\n",
              "      <td id=\"T_73861_row1_col5\" class=\"data row1 col5\" >0.025000</td>\n",
              "      <td id=\"T_73861_row1_col6\" class=\"data row1 col6\" >0.172000</td>\n",
              "    </tr>\n",
              "    <tr>\n",
              "      <th id=\"T_73861_level0_row2\" class=\"row_heading level0 row2\" >Type C</th>\n",
              "      <td id=\"T_73861_row2_col0\" class=\"data row2 col0\" >0.032000</td>\n",
              "      <td id=\"T_73861_row2_col1\" class=\"data row2 col1\" >0.072000</td>\n",
              "      <td id=\"T_73861_row2_col2\" class=\"data row2 col2\" >0.269000</td>\n",
              "      <td id=\"T_73861_row2_col3\" class=\"data row2 col3\" >0.050000</td>\n",
              "      <td id=\"T_73861_row2_col4\" class=\"data row2 col4\" >0.004000</td>\n",
              "      <td id=\"T_73861_row2_col5\" class=\"data row2 col5\" >0.034000</td>\n",
              "      <td id=\"T_73861_row2_col6\" class=\"data row2 col6\" >0.461000</td>\n",
              "    </tr>\n",
              "    <tr>\n",
              "      <th id=\"T_73861_level0_row3\" class=\"row_heading level0 row3\" >TOTAL</th>\n",
              "      <td id=\"T_73861_row3_col0\" class=\"data row3 col0\" >0.122000</td>\n",
              "      <td id=\"T_73861_row3_col1\" class=\"data row3 col1\" >0.118000</td>\n",
              "      <td id=\"T_73861_row3_col2\" class=\"data row3 col2\" >0.480000</td>\n",
              "      <td id=\"T_73861_row3_col3\" class=\"data row3 col3\" >0.099000</td>\n",
              "      <td id=\"T_73861_row3_col4\" class=\"data row3 col4\" >0.115000</td>\n",
              "      <td id=\"T_73861_row3_col5\" class=\"data row3 col5\" >0.066000</td>\n",
              "      <td id=\"T_73861_row3_col6\" class=\"data row3 col6\" >1.000000</td>\n",
              "    </tr>\n",
              "  </tbody>\n",
              "</table>\n"
            ]
          },
          "metadata": {},
          "execution_count": 48
        }
      ]
    },
    {
      "cell_type": "markdown",
      "source": [
        "## OR"
      ],
      "metadata": {
        "id": "KncuMPLnqPPm"
      }
    },
    {
      "cell_type": "markdown",
      "source": [
        "**If we consider a whole row and a whole column and we add up each cell in this row and column we would have OR operand.**\n",
        "\n",
        "for example: if we want to know the percent of people who are from Australia **OR** have Type C, we should sum the cells that belong to this column and row."
      ],
      "metadata": {
        "id": "mTdHY5mtgg2F"
      }
    },
    {
      "cell_type": "code",
      "source": [
        "australia = joint_dist['Australia'][0:-1].sum()\n",
        "typeC = joint_dist.loc['Type C'][:-1].sum() - joint_dist['Australia'][2]\n",
        "print(f'TypeC OR Australia: {(typeC + australia)*100}%')"
      ],
      "metadata": {
        "id": "s5aENNw3LdrE",
        "colab": {
          "base_uri": "https://localhost:8080/"
        },
        "outputId": "4662e64d-48fd-4b9a-c17d-9a5a07cac2bc"
      },
      "execution_count": 21,
      "outputs": [
        {
          "output_type": "stream",
          "name": "stdout",
          "text": [
            "TypeC OR Australia: 50.9%\n"
          ]
        }
      ]
    },
    {
      "cell_type": "markdown",
      "source": [
        "Another way is that we can add the marginal distribution of Australia and type C and then subtract from the intersection of the two because we are counting it twice:\n",
        "\n",
        "(A union B) = A + B - (A intersecton B)\n",
        "\n"
      ],
      "metadata": {
        "id": "eTc_8_pYjn5G"
      }
    },
    {
      "cell_type": "code",
      "source": [
        "Aus_union_typeA = (joint_dist['Australia'][-1] + joint_dist.loc['Type A'][-1]) - joint_dist['Australia'][2]\n",
        "print(f'TypeA OR Australia: {Aus_union_typeA*100}%')"
      ],
      "metadata": {
        "colab": {
          "base_uri": "https://localhost:8080/"
        },
        "id": "xMcOPPSRlSL1",
        "outputId": "5af15406-2560-48d3-ccec-799662697c26"
      },
      "execution_count": 59,
      "outputs": [
        {
          "output_type": "stream",
          "name": "stdout",
          "text": [
            "TypeA OR Australia: 41.6%\n"
          ]
        }
      ]
    },
    {
      "cell_type": "code",
      "source": [
        "def color_map(val):\n",
        "  for i in range(joint_dist['Australia'].size-1):\n",
        "    if val == joint_dist['Australia'][i]:\n",
        "      color = 'green'\n",
        "      return f'color: {color}'\n",
        "\n",
        "  for j in range(joint_dist.loc['Type A'].size-1):\n",
        "    if val == joint_dist.loc['Type A'][j]:\n",
        "      color = 'green'\n",
        "      return f'color: {color}'"
      ],
      "metadata": {
        "id": "GCBuOCnRAxWW"
      },
      "execution_count": 60,
      "outputs": []
    },
    {
      "cell_type": "code",
      "source": [
        "joint_dist.style.applymap(color_map)"
      ],
      "metadata": {
        "colab": {
          "base_uri": "https://localhost:8080/",
          "height": 175
        },
        "id": "kh2_q5iBA50k",
        "outputId": "449e1a2d-9145-4057-a8ed-52d6b8b862db"
      },
      "execution_count": 61,
      "outputs": [
        {
          "output_type": "execute_result",
          "data": {
            "text/plain": [
              "<pandas.io.formats.style.Styler at 0x7c2ca7941ea0>"
            ],
            "text/html": [
              "<style type=\"text/css\">\n",
              "#T_004e1_row0_col0, #T_004e1_row0_col1, #T_004e1_row0_col2, #T_004e1_row0_col3, #T_004e1_row0_col4, #T_004e1_row0_col5, #T_004e1_row1_col3, #T_004e1_row2_col3 {\n",
              "  color: green;\n",
              "}\n",
              "</style>\n",
              "<table id=\"T_004e1\" class=\"dataframe\">\n",
              "  <thead>\n",
              "    <tr>\n",
              "      <th class=\"blank level0\" >&nbsp;</th>\n",
              "      <th id=\"T_004e1_level0_col0\" class=\"col_heading level0 col0\" >North America</th>\n",
              "      <th id=\"T_004e1_level0_col1\" class=\"col_heading level0 col1\" >South America</th>\n",
              "      <th id=\"T_004e1_level0_col2\" class=\"col_heading level0 col2\" >Asia</th>\n",
              "      <th id=\"T_004e1_level0_col3\" class=\"col_heading level0 col3\" >Australia</th>\n",
              "      <th id=\"T_004e1_level0_col4\" class=\"col_heading level0 col4\" >Europe</th>\n",
              "      <th id=\"T_004e1_level0_col5\" class=\"col_heading level0 col5\" >Africa</th>\n",
              "      <th id=\"T_004e1_level0_col6\" class=\"col_heading level0 col6\" >TOTAL</th>\n",
              "    </tr>\n",
              "  </thead>\n",
              "  <tbody>\n",
              "    <tr>\n",
              "      <th id=\"T_004e1_level0_row0\" class=\"row_heading level0 row0\" >Type A</th>\n",
              "      <td id=\"T_004e1_row0_col0\" class=\"data row0 col0\" >0.054000</td>\n",
              "      <td id=\"T_004e1_row0_col1\" class=\"data row0 col1\" >0.043000</td>\n",
              "      <td id=\"T_004e1_row0_col2\" class=\"data row0 col2\" >0.194000</td>\n",
              "      <td id=\"T_004e1_row0_col3\" class=\"data row0 col3\" >0.005000</td>\n",
              "      <td id=\"T_004e1_row0_col4\" class=\"data row0 col4\" >0.065000</td>\n",
              "      <td id=\"T_004e1_row0_col5\" class=\"data row0 col5\" >0.007000</td>\n",
              "      <td id=\"T_004e1_row0_col6\" class=\"data row0 col6\" >0.367000</td>\n",
              "    </tr>\n",
              "    <tr>\n",
              "      <th id=\"T_004e1_level0_row1\" class=\"row_heading level0 row1\" >Type B</th>\n",
              "      <td id=\"T_004e1_row1_col0\" class=\"data row1 col0\" >0.036000</td>\n",
              "      <td id=\"T_004e1_row1_col1\" class=\"data row1 col1\" >0.004000</td>\n",
              "      <td id=\"T_004e1_row1_col2\" class=\"data row1 col2\" >0.018000</td>\n",
              "      <td id=\"T_004e1_row1_col3\" class=\"data row1 col3\" >0.043000</td>\n",
              "      <td id=\"T_004e1_row1_col4\" class=\"data row1 col4\" >0.047000</td>\n",
              "      <td id=\"T_004e1_row1_col5\" class=\"data row1 col5\" >0.025000</td>\n",
              "      <td id=\"T_004e1_row1_col6\" class=\"data row1 col6\" >0.172000</td>\n",
              "    </tr>\n",
              "    <tr>\n",
              "      <th id=\"T_004e1_level0_row2\" class=\"row_heading level0 row2\" >Type C</th>\n",
              "      <td id=\"T_004e1_row2_col0\" class=\"data row2 col0\" >0.032000</td>\n",
              "      <td id=\"T_004e1_row2_col1\" class=\"data row2 col1\" >0.072000</td>\n",
              "      <td id=\"T_004e1_row2_col2\" class=\"data row2 col2\" >0.269000</td>\n",
              "      <td id=\"T_004e1_row2_col3\" class=\"data row2 col3\" >0.050000</td>\n",
              "      <td id=\"T_004e1_row2_col4\" class=\"data row2 col4\" >0.004000</td>\n",
              "      <td id=\"T_004e1_row2_col5\" class=\"data row2 col5\" >0.034000</td>\n",
              "      <td id=\"T_004e1_row2_col6\" class=\"data row2 col6\" >0.461000</td>\n",
              "    </tr>\n",
              "    <tr>\n",
              "      <th id=\"T_004e1_level0_row3\" class=\"row_heading level0 row3\" >TOTAL</th>\n",
              "      <td id=\"T_004e1_row3_col0\" class=\"data row3 col0\" >0.122000</td>\n",
              "      <td id=\"T_004e1_row3_col1\" class=\"data row3 col1\" >0.118000</td>\n",
              "      <td id=\"T_004e1_row3_col2\" class=\"data row3 col2\" >0.480000</td>\n",
              "      <td id=\"T_004e1_row3_col3\" class=\"data row3 col3\" >0.099000</td>\n",
              "      <td id=\"T_004e1_row3_col4\" class=\"data row3 col4\" >0.115000</td>\n",
              "      <td id=\"T_004e1_row3_col5\" class=\"data row3 col5\" >0.066000</td>\n",
              "      <td id=\"T_004e1_row3_col6\" class=\"data row3 col6\" >1.000000</td>\n",
              "    </tr>\n",
              "  </tbody>\n",
              "</table>\n"
            ]
          },
          "metadata": {},
          "execution_count": 61
        }
      ]
    },
    {
      "cell_type": "markdown",
      "source": [
        "**Both 2 ways have the same result**"
      ],
      "metadata": {
        "id": "AZozsGFzlyzd"
      }
    },
    {
      "cell_type": "markdown",
      "source": [
        "## Conditional Probability"
      ],
      "metadata": {
        "id": "s_2rRTfLqTWN"
      }
    },
    {
      "cell_type": "markdown",
      "source": [
        "By using marginal distribution we can simply compute CONDITIONAL PROBABILITY\n",
        "\n",
        "For instance: If we know a patient has Type B disease, what is the probability of being European?\n",
        "\n",
        "P(European | TypeB) = P(Europe intersection TypeB) / P(TypeB)"
      ],
      "metadata": {
        "id": "RXhBGKaIqgYl"
      }
    },
    {
      "cell_type": "code",
      "source": [
        "eu_typeB = joint_dist['Europe'][1]\n",
        "typeB = joint_dist.loc['Type B'][-1]\n",
        "print(f'P(Europe | TypeB): {round(eu_typeB / typeB, 2)}')"
      ],
      "metadata": {
        "colab": {
          "base_uri": "https://localhost:8080/"
        },
        "id": "tPEAODcQrYXB",
        "outputId": "5a00bc47-6d69-4cd0-8c66-28b4465a66a9"
      },
      "execution_count": 94,
      "outputs": [
        {
          "output_type": "stream",
          "name": "stdout",
          "text": [
            "P(Europe | TypeB): 0.27\n"
          ]
        }
      ]
    },
    {
      "cell_type": "code",
      "source": [
        "def color_map(val):\n",
        "  for j in range(joint_dist.loc['Type B'].size-1):\n",
        "    if val == joint_dist.loc['Type B'][j]:\n",
        "      if val == joint_dist['Europe'][1]:\n",
        "        color = 'blue'\n",
        "      else:\n",
        "        color = 'green'\n",
        "      return f'color: {color}'"
      ],
      "metadata": {
        "id": "OJCpQiHepx3y"
      },
      "execution_count": 97,
      "outputs": []
    },
    {
      "cell_type": "code",
      "source": [
        "joint_dist.style.applymap(color_map, subset=pd.IndexSlice['Type B', :])"
      ],
      "metadata": {
        "colab": {
          "base_uri": "https://localhost:8080/",
          "height": 175
        },
        "id": "8SuDH9EtFWx8",
        "outputId": "6db72999-9130-4a3c-cb14-da85073db367"
      },
      "execution_count": 98,
      "outputs": [
        {
          "output_type": "execute_result",
          "data": {
            "text/plain": [
              "<pandas.io.formats.style.Styler at 0x7c2ca7a399c0>"
            ],
            "text/html": [
              "<style type=\"text/css\">\n",
              "#T_42e50_row1_col0, #T_42e50_row1_col1, #T_42e50_row1_col2, #T_42e50_row1_col3, #T_42e50_row1_col5 {\n",
              "  color: green;\n",
              "}\n",
              "#T_42e50_row1_col4 {\n",
              "  color: blue;\n",
              "}\n",
              "</style>\n",
              "<table id=\"T_42e50\" class=\"dataframe\">\n",
              "  <thead>\n",
              "    <tr>\n",
              "      <th class=\"blank level0\" >&nbsp;</th>\n",
              "      <th id=\"T_42e50_level0_col0\" class=\"col_heading level0 col0\" >North America</th>\n",
              "      <th id=\"T_42e50_level0_col1\" class=\"col_heading level0 col1\" >South America</th>\n",
              "      <th id=\"T_42e50_level0_col2\" class=\"col_heading level0 col2\" >Asia</th>\n",
              "      <th id=\"T_42e50_level0_col3\" class=\"col_heading level0 col3\" >Australia</th>\n",
              "      <th id=\"T_42e50_level0_col4\" class=\"col_heading level0 col4\" >Europe</th>\n",
              "      <th id=\"T_42e50_level0_col5\" class=\"col_heading level0 col5\" >Africa</th>\n",
              "      <th id=\"T_42e50_level0_col6\" class=\"col_heading level0 col6\" >TOTAL</th>\n",
              "    </tr>\n",
              "  </thead>\n",
              "  <tbody>\n",
              "    <tr>\n",
              "      <th id=\"T_42e50_level0_row0\" class=\"row_heading level0 row0\" >Type A</th>\n",
              "      <td id=\"T_42e50_row0_col0\" class=\"data row0 col0\" >0.054000</td>\n",
              "      <td id=\"T_42e50_row0_col1\" class=\"data row0 col1\" >0.043000</td>\n",
              "      <td id=\"T_42e50_row0_col2\" class=\"data row0 col2\" >0.194000</td>\n",
              "      <td id=\"T_42e50_row0_col3\" class=\"data row0 col3\" >0.005000</td>\n",
              "      <td id=\"T_42e50_row0_col4\" class=\"data row0 col4\" >0.065000</td>\n",
              "      <td id=\"T_42e50_row0_col5\" class=\"data row0 col5\" >0.007000</td>\n",
              "      <td id=\"T_42e50_row0_col6\" class=\"data row0 col6\" >0.367000</td>\n",
              "    </tr>\n",
              "    <tr>\n",
              "      <th id=\"T_42e50_level0_row1\" class=\"row_heading level0 row1\" >Type B</th>\n",
              "      <td id=\"T_42e50_row1_col0\" class=\"data row1 col0\" >0.036000</td>\n",
              "      <td id=\"T_42e50_row1_col1\" class=\"data row1 col1\" >0.004000</td>\n",
              "      <td id=\"T_42e50_row1_col2\" class=\"data row1 col2\" >0.018000</td>\n",
              "      <td id=\"T_42e50_row1_col3\" class=\"data row1 col3\" >0.043000</td>\n",
              "      <td id=\"T_42e50_row1_col4\" class=\"data row1 col4\" >0.047000</td>\n",
              "      <td id=\"T_42e50_row1_col5\" class=\"data row1 col5\" >0.025000</td>\n",
              "      <td id=\"T_42e50_row1_col6\" class=\"data row1 col6\" >0.172000</td>\n",
              "    </tr>\n",
              "    <tr>\n",
              "      <th id=\"T_42e50_level0_row2\" class=\"row_heading level0 row2\" >Type C</th>\n",
              "      <td id=\"T_42e50_row2_col0\" class=\"data row2 col0\" >0.032000</td>\n",
              "      <td id=\"T_42e50_row2_col1\" class=\"data row2 col1\" >0.072000</td>\n",
              "      <td id=\"T_42e50_row2_col2\" class=\"data row2 col2\" >0.269000</td>\n",
              "      <td id=\"T_42e50_row2_col3\" class=\"data row2 col3\" >0.050000</td>\n",
              "      <td id=\"T_42e50_row2_col4\" class=\"data row2 col4\" >0.004000</td>\n",
              "      <td id=\"T_42e50_row2_col5\" class=\"data row2 col5\" >0.034000</td>\n",
              "      <td id=\"T_42e50_row2_col6\" class=\"data row2 col6\" >0.461000</td>\n",
              "    </tr>\n",
              "    <tr>\n",
              "      <th id=\"T_42e50_level0_row3\" class=\"row_heading level0 row3\" >TOTAL</th>\n",
              "      <td id=\"T_42e50_row3_col0\" class=\"data row3 col0\" >0.122000</td>\n",
              "      <td id=\"T_42e50_row3_col1\" class=\"data row3 col1\" >0.118000</td>\n",
              "      <td id=\"T_42e50_row3_col2\" class=\"data row3 col2\" >0.480000</td>\n",
              "      <td id=\"T_42e50_row3_col3\" class=\"data row3 col3\" >0.099000</td>\n",
              "      <td id=\"T_42e50_row3_col4\" class=\"data row3 col4\" >0.115000</td>\n",
              "      <td id=\"T_42e50_row3_col5\" class=\"data row3 col5\" >0.066000</td>\n",
              "      <td id=\"T_42e50_row3_col6\" class=\"data row3 col6\" >1.000000</td>\n",
              "    </tr>\n",
              "  </tbody>\n",
              "</table>\n"
            ]
          },
          "metadata": {},
          "execution_count": 98
        }
      ]
    },
    {
      "cell_type": "markdown",
      "source": [
        "##  Independence and dependence"
      ],
      "metadata": {
        "id": "zArswkqWtQfP"
      }
    },
    {
      "cell_type": "markdown",
      "source": [
        "Using Marginal Distribution, we can also check the dependency and independence.\n",
        "\n",
        "Two Random Variables A and B are independent if:\n",
        "\n",
        "1. P(A intersection B) = P(A) * P(B)\n",
        "\n",
        "or\n",
        "\n",
        "2. P(A | B) = P(A)"
      ],
      "metadata": {
        "id": "Sze4JG36tTKW"
      }
    },
    {
      "cell_type": "markdown",
      "source": [
        "In these two examples, we want to check if Disease is independent from the Continent.\n",
        "\n",
        "We use the `P(A intersection B) = P(A) * P(B)` formula, but you can also use `P(A | B) = P(A)`."
      ],
      "metadata": {
        "id": "YdPYXHVWt9FM"
      }
    },
    {
      "cell_type": "code",
      "source": [
        "typeC_intersect_SouthAmerica = joint_dist['South America'][2]\n",
        "typeC = joint_dist.loc['Type C'][-1]\n",
        "SouthAmerica = joint_dist['South America'][-1]\n",
        "\n",
        "if typeC_intersect_SouthAmerica == round(typeC * SouthAmerica):\n",
        "  print('They are independent')\n",
        "else:\n",
        "  print('They are dependent')\n",
        "\n",
        "print(f'TypeC intersect SouthAmerica: {typeC_intersect_SouthAmerica}, typeC: {typeC} * SouthAmerica: {SouthAmerica} = {round(SouthAmerica*typeC, 2)}')"
      ],
      "metadata": {
        "colab": {
          "base_uri": "https://localhost:8080/"
        },
        "id": "JoKo-v1osBiu",
        "outputId": "d86b8683-e9af-4093-e21c-904898176b4c"
      },
      "execution_count": 109,
      "outputs": [
        {
          "output_type": "stream",
          "name": "stdout",
          "text": [
            "They are dependent\n",
            "TypeC intersect SouthAmerica: 0.072, typeC: 0.461 * SouthAmerica: 0.118 = 0.05\n"
          ]
        }
      ]
    },
    {
      "cell_type": "code",
      "source": [
        "def color_map(val):\n",
        "  if val == joint_dist['South America'][-1] or val == joint_dist.loc['Type C'][-1]:\n",
        "    color = 'green'\n",
        "    return f'color: {color}'\n",
        "  elif val == joint_dist['South America'][2]:\n",
        "    color = 'blue'\n",
        "    return f'color: {color}'"
      ],
      "metadata": {
        "id": "JLp4FcywJQP3"
      },
      "execution_count": 107,
      "outputs": []
    },
    {
      "cell_type": "code",
      "source": [
        "joint_dist.style.applymap(color_map)"
      ],
      "metadata": {
        "colab": {
          "base_uri": "https://localhost:8080/",
          "height": 175
        },
        "id": "HK24nh6NJ_tu",
        "outputId": "8f4aae46-201b-4384-b8bd-53cf0a273fde"
      },
      "execution_count": 108,
      "outputs": [
        {
          "output_type": "execute_result",
          "data": {
            "text/plain": [
              "<pandas.io.formats.style.Styler at 0x7c2ca7a252a0>"
            ],
            "text/html": [
              "<style type=\"text/css\">\n",
              "#T_fb5f2_row2_col1 {\n",
              "  color: blue;\n",
              "}\n",
              "#T_fb5f2_row2_col6, #T_fb5f2_row3_col1 {\n",
              "  color: green;\n",
              "}\n",
              "</style>\n",
              "<table id=\"T_fb5f2\" class=\"dataframe\">\n",
              "  <thead>\n",
              "    <tr>\n",
              "      <th class=\"blank level0\" >&nbsp;</th>\n",
              "      <th id=\"T_fb5f2_level0_col0\" class=\"col_heading level0 col0\" >North America</th>\n",
              "      <th id=\"T_fb5f2_level0_col1\" class=\"col_heading level0 col1\" >South America</th>\n",
              "      <th id=\"T_fb5f2_level0_col2\" class=\"col_heading level0 col2\" >Asia</th>\n",
              "      <th id=\"T_fb5f2_level0_col3\" class=\"col_heading level0 col3\" >Australia</th>\n",
              "      <th id=\"T_fb5f2_level0_col4\" class=\"col_heading level0 col4\" >Europe</th>\n",
              "      <th id=\"T_fb5f2_level0_col5\" class=\"col_heading level0 col5\" >Africa</th>\n",
              "      <th id=\"T_fb5f2_level0_col6\" class=\"col_heading level0 col6\" >TOTAL</th>\n",
              "    </tr>\n",
              "  </thead>\n",
              "  <tbody>\n",
              "    <tr>\n",
              "      <th id=\"T_fb5f2_level0_row0\" class=\"row_heading level0 row0\" >Type A</th>\n",
              "      <td id=\"T_fb5f2_row0_col0\" class=\"data row0 col0\" >0.054000</td>\n",
              "      <td id=\"T_fb5f2_row0_col1\" class=\"data row0 col1\" >0.043000</td>\n",
              "      <td id=\"T_fb5f2_row0_col2\" class=\"data row0 col2\" >0.194000</td>\n",
              "      <td id=\"T_fb5f2_row0_col3\" class=\"data row0 col3\" >0.005000</td>\n",
              "      <td id=\"T_fb5f2_row0_col4\" class=\"data row0 col4\" >0.065000</td>\n",
              "      <td id=\"T_fb5f2_row0_col5\" class=\"data row0 col5\" >0.007000</td>\n",
              "      <td id=\"T_fb5f2_row0_col6\" class=\"data row0 col6\" >0.367000</td>\n",
              "    </tr>\n",
              "    <tr>\n",
              "      <th id=\"T_fb5f2_level0_row1\" class=\"row_heading level0 row1\" >Type B</th>\n",
              "      <td id=\"T_fb5f2_row1_col0\" class=\"data row1 col0\" >0.036000</td>\n",
              "      <td id=\"T_fb5f2_row1_col1\" class=\"data row1 col1\" >0.004000</td>\n",
              "      <td id=\"T_fb5f2_row1_col2\" class=\"data row1 col2\" >0.018000</td>\n",
              "      <td id=\"T_fb5f2_row1_col3\" class=\"data row1 col3\" >0.043000</td>\n",
              "      <td id=\"T_fb5f2_row1_col4\" class=\"data row1 col4\" >0.047000</td>\n",
              "      <td id=\"T_fb5f2_row1_col5\" class=\"data row1 col5\" >0.025000</td>\n",
              "      <td id=\"T_fb5f2_row1_col6\" class=\"data row1 col6\" >0.172000</td>\n",
              "    </tr>\n",
              "    <tr>\n",
              "      <th id=\"T_fb5f2_level0_row2\" class=\"row_heading level0 row2\" >Type C</th>\n",
              "      <td id=\"T_fb5f2_row2_col0\" class=\"data row2 col0\" >0.032000</td>\n",
              "      <td id=\"T_fb5f2_row2_col1\" class=\"data row2 col1\" >0.072000</td>\n",
              "      <td id=\"T_fb5f2_row2_col2\" class=\"data row2 col2\" >0.269000</td>\n",
              "      <td id=\"T_fb5f2_row2_col3\" class=\"data row2 col3\" >0.050000</td>\n",
              "      <td id=\"T_fb5f2_row2_col4\" class=\"data row2 col4\" >0.004000</td>\n",
              "      <td id=\"T_fb5f2_row2_col5\" class=\"data row2 col5\" >0.034000</td>\n",
              "      <td id=\"T_fb5f2_row2_col6\" class=\"data row2 col6\" >0.461000</td>\n",
              "    </tr>\n",
              "    <tr>\n",
              "      <th id=\"T_fb5f2_level0_row3\" class=\"row_heading level0 row3\" >TOTAL</th>\n",
              "      <td id=\"T_fb5f2_row3_col0\" class=\"data row3 col0\" >0.122000</td>\n",
              "      <td id=\"T_fb5f2_row3_col1\" class=\"data row3 col1\" >0.118000</td>\n",
              "      <td id=\"T_fb5f2_row3_col2\" class=\"data row3 col2\" >0.480000</td>\n",
              "      <td id=\"T_fb5f2_row3_col3\" class=\"data row3 col3\" >0.099000</td>\n",
              "      <td id=\"T_fb5f2_row3_col4\" class=\"data row3 col4\" >0.115000</td>\n",
              "      <td id=\"T_fb5f2_row3_col5\" class=\"data row3 col5\" >0.066000</td>\n",
              "      <td id=\"T_fb5f2_row3_col6\" class=\"data row3 col6\" >1.000000</td>\n",
              "    </tr>\n",
              "  </tbody>\n",
              "</table>\n"
            ]
          },
          "metadata": {},
          "execution_count": 108
        }
      ]
    },
    {
      "cell_type": "markdown",
      "source": [
        "Let's compute dependency for another cell"
      ],
      "metadata": {
        "id": "yqg9CZNKwk5e"
      }
    },
    {
      "cell_type": "code",
      "source": [
        "typeA_intersect_Africa = joint_dist['Africa'][0]\n",
        "typeA = joint_dist.loc['Type A'][-1]\n",
        "Africa = joint_dist['Africa'][-1]\n",
        "\n",
        "if typeA_intersect_Africa == round(typeA*Africa):\n",
        "  print('They are independent')\n",
        "else:\n",
        "  print('They are dependent')\n",
        "\n",
        "print(f'TypeA intersect Africa: {typeA_intersect_Africa}, typeA: {typeA} * Africa:{Africa} = {round(Africa*typeA, 2)}')"
      ],
      "metadata": {
        "colab": {
          "base_uri": "https://localhost:8080/"
        },
        "id": "Pdq3YXMvwQ0z",
        "outputId": "20feb439-0ffc-4803-8c64-440178902967"
      },
      "execution_count": 36,
      "outputs": [
        {
          "output_type": "stream",
          "name": "stdout",
          "text": [
            "They are dependent\n",
            "TypeA intersect Africa: 0.007, typeA: 0.367 * Africa:0.066 = 0.02\n"
          ]
        }
      ]
    },
    {
      "cell_type": "code",
      "source": [
        "def color_map(val):\n",
        "  if val == joint_dist['Africa'][-1] or val == joint_dist.loc['Type A'][-1]:\n",
        "    color = 'green'\n",
        "    return f'color: {color}'\n",
        "  elif val == joint_dist['Africa'][0]:\n",
        "    color = 'blue'\n",
        "    return f'color: {color}'"
      ],
      "metadata": {
        "id": "8p9SzMEBKkpU"
      },
      "execution_count": 112,
      "outputs": []
    },
    {
      "cell_type": "code",
      "source": [
        "joint_dist.style.applymap(color_map)"
      ],
      "metadata": {
        "colab": {
          "base_uri": "https://localhost:8080/",
          "height": 175
        },
        "id": "LBSidOZbKwHu",
        "outputId": "d0fc4e21-2551-40f2-e4df-d3638612ff4a"
      },
      "execution_count": 113,
      "outputs": [
        {
          "output_type": "execute_result",
          "data": {
            "text/plain": [
              "<pandas.io.formats.style.Styler at 0x7c2ca7a27580>"
            ],
            "text/html": [
              "<style type=\"text/css\">\n",
              "#T_bbd21_row0_col5 {\n",
              "  color: blue;\n",
              "}\n",
              "#T_bbd21_row0_col6, #T_bbd21_row3_col5 {\n",
              "  color: green;\n",
              "}\n",
              "</style>\n",
              "<table id=\"T_bbd21\" class=\"dataframe\">\n",
              "  <thead>\n",
              "    <tr>\n",
              "      <th class=\"blank level0\" >&nbsp;</th>\n",
              "      <th id=\"T_bbd21_level0_col0\" class=\"col_heading level0 col0\" >North America</th>\n",
              "      <th id=\"T_bbd21_level0_col1\" class=\"col_heading level0 col1\" >South America</th>\n",
              "      <th id=\"T_bbd21_level0_col2\" class=\"col_heading level0 col2\" >Asia</th>\n",
              "      <th id=\"T_bbd21_level0_col3\" class=\"col_heading level0 col3\" >Australia</th>\n",
              "      <th id=\"T_bbd21_level0_col4\" class=\"col_heading level0 col4\" >Europe</th>\n",
              "      <th id=\"T_bbd21_level0_col5\" class=\"col_heading level0 col5\" >Africa</th>\n",
              "      <th id=\"T_bbd21_level0_col6\" class=\"col_heading level0 col6\" >TOTAL</th>\n",
              "    </tr>\n",
              "  </thead>\n",
              "  <tbody>\n",
              "    <tr>\n",
              "      <th id=\"T_bbd21_level0_row0\" class=\"row_heading level0 row0\" >Type A</th>\n",
              "      <td id=\"T_bbd21_row0_col0\" class=\"data row0 col0\" >0.054000</td>\n",
              "      <td id=\"T_bbd21_row0_col1\" class=\"data row0 col1\" >0.043000</td>\n",
              "      <td id=\"T_bbd21_row0_col2\" class=\"data row0 col2\" >0.194000</td>\n",
              "      <td id=\"T_bbd21_row0_col3\" class=\"data row0 col3\" >0.005000</td>\n",
              "      <td id=\"T_bbd21_row0_col4\" class=\"data row0 col4\" >0.065000</td>\n",
              "      <td id=\"T_bbd21_row0_col5\" class=\"data row0 col5\" >0.007000</td>\n",
              "      <td id=\"T_bbd21_row0_col6\" class=\"data row0 col6\" >0.367000</td>\n",
              "    </tr>\n",
              "    <tr>\n",
              "      <th id=\"T_bbd21_level0_row1\" class=\"row_heading level0 row1\" >Type B</th>\n",
              "      <td id=\"T_bbd21_row1_col0\" class=\"data row1 col0\" >0.036000</td>\n",
              "      <td id=\"T_bbd21_row1_col1\" class=\"data row1 col1\" >0.004000</td>\n",
              "      <td id=\"T_bbd21_row1_col2\" class=\"data row1 col2\" >0.018000</td>\n",
              "      <td id=\"T_bbd21_row1_col3\" class=\"data row1 col3\" >0.043000</td>\n",
              "      <td id=\"T_bbd21_row1_col4\" class=\"data row1 col4\" >0.047000</td>\n",
              "      <td id=\"T_bbd21_row1_col5\" class=\"data row1 col5\" >0.025000</td>\n",
              "      <td id=\"T_bbd21_row1_col6\" class=\"data row1 col6\" >0.172000</td>\n",
              "    </tr>\n",
              "    <tr>\n",
              "      <th id=\"T_bbd21_level0_row2\" class=\"row_heading level0 row2\" >Type C</th>\n",
              "      <td id=\"T_bbd21_row2_col0\" class=\"data row2 col0\" >0.032000</td>\n",
              "      <td id=\"T_bbd21_row2_col1\" class=\"data row2 col1\" >0.072000</td>\n",
              "      <td id=\"T_bbd21_row2_col2\" class=\"data row2 col2\" >0.269000</td>\n",
              "      <td id=\"T_bbd21_row2_col3\" class=\"data row2 col3\" >0.050000</td>\n",
              "      <td id=\"T_bbd21_row2_col4\" class=\"data row2 col4\" >0.004000</td>\n",
              "      <td id=\"T_bbd21_row2_col5\" class=\"data row2 col5\" >0.034000</td>\n",
              "      <td id=\"T_bbd21_row2_col6\" class=\"data row2 col6\" >0.461000</td>\n",
              "    </tr>\n",
              "    <tr>\n",
              "      <th id=\"T_bbd21_level0_row3\" class=\"row_heading level0 row3\" >TOTAL</th>\n",
              "      <td id=\"T_bbd21_row3_col0\" class=\"data row3 col0\" >0.122000</td>\n",
              "      <td id=\"T_bbd21_row3_col1\" class=\"data row3 col1\" >0.118000</td>\n",
              "      <td id=\"T_bbd21_row3_col2\" class=\"data row3 col2\" >0.480000</td>\n",
              "      <td id=\"T_bbd21_row3_col3\" class=\"data row3 col3\" >0.099000</td>\n",
              "      <td id=\"T_bbd21_row3_col4\" class=\"data row3 col4\" >0.115000</td>\n",
              "      <td id=\"T_bbd21_row3_col5\" class=\"data row3 col5\" >0.066000</td>\n",
              "      <td id=\"T_bbd21_row3_col6\" class=\"data row3 col6\" >1.000000</td>\n",
              "    </tr>\n",
              "  </tbody>\n",
              "</table>\n"
            ]
          },
          "metadata": {},
          "execution_count": 113
        }
      ]
    },
    {
      "cell_type": "markdown",
      "source": [
        "And that's it :))"
      ],
      "metadata": {
        "id": "C4Yp7Kq_K5SG"
      }
    }
  ]
}