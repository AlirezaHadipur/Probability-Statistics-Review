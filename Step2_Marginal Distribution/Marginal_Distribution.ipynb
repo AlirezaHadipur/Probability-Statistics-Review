{
  "cells": [
    {
      "cell_type": "markdown",
      "metadata": {
        "id": "oCb6dcorT6mr"
      },
      "source": [
        "**Table of Contents**"
      ]
    },
    {
      "cell_type": "markdown",
      "metadata": {
        "colab_type": "toc",
        "id": "b55a9-_3Tz3u"
      },
      "source": [
        ">[Descripton](#scrollTo=tS1kJQHrUEX0)\n",
        "\n",
        ">[Import Libraries](#scrollTo=YbwVTfLLDRxt)\n",
        "\n",
        ">[Create Dataset](#scrollTo=s_VPiogIDOoL)\n",
        "\n",
        ">[Marginal Distribution](#scrollTo=QlGGA0DGPJqj)\n",
        "\n",
        ">>[Compute Marginal numbers](#scrollTo=Zan6XXWOgkcB)\n",
        "\n",
        ">>[Compute joint distribution](#scrollTo=txNz9jAigsT6)\n",
        "\n",
        ">>[Extract some usefull information](#scrollTo=meUF0UqwHG6A)\n",
        "\n",
        ">>[AND](#scrollTo=VuWEHhDkqKr1)\n",
        "\n",
        ">>[OR](#scrollTo=KncuMPLnqPPm)\n",
        "\n",
        ">>[Conditional Probability](#scrollTo=s_2rRTfLqTWN)\n",
        "\n",
        ">>[Independence and dependence](#scrollTo=zArswkqWtQfP)\n",
        "\n"
      ]
    },
    {
      "cell_type": "markdown",
      "metadata": {
        "id": "tS1kJQHrUEX0"
      },
      "source": [
        "# Descripton"
      ]
    },
    {
      "cell_type": "markdown",
      "metadata": {
        "id": "AtcJeDdhUIOy"
      },
      "source": [
        "**In this notebook, first of all, I will create a handmade dataset(it is not real), it's about 3 types of diseases that are widespread to all continents. My goal is to show how we can easily get useful information from MARGINAL DISTRIBUTIONS. I also show how we can easily work with handmade datasets using the Pandas library.**"
      ]
    },
    {
      "cell_type": "markdown",
      "metadata": {
        "id": "YbwVTfLLDRxt"
      },
      "source": [
        "# Import Libraries"
      ]
    },
    {
      "cell_type": "code",
      "execution_count": 1,
      "metadata": {
        "id": "fDlz_AiADc6d"
      },
      "outputs": [],
      "source": [
        "import numpy as np\n",
        "import pandas as pd\n",
        "import seaborn as sns\n",
        "import matplotlib.pyplot as plt"
      ]
    },
    {
      "cell_type": "markdown",
      "metadata": {
        "id": "s_VPiogIDOoL"
      },
      "source": [
        "# Create Dataset"
      ]
    },
    {
      "cell_type": "markdown",
      "metadata": {
        "id": "-3FgbrJzVX_K"
      },
      "source": [
        "First and foremost, I created 3 main parts of a data frame (table).\n",
        "\n",
        "The 3 main parts are columns, rows, and data"
      ]
    },
    {
      "cell_type": "code",
      "execution_count": 3,
      "metadata": {
        "id": "0TbmKjABDHKM"
      },
      "outputs": [],
      "source": [
        "columns = ['North America', 'South America', 'Asia', 'Australia', 'Europe', 'Africa']\n",
        "rows = ['Type A', 'Type B', 'Type C']\n",
        "data = [\n",
        "          [150, 120, 540, 15, 180, 20],\n",
        "          [100, 10, 50, 120, 130, 70],\n",
        "          [90, 200, 750, 140, 10, 95]\n",
        "      ]\n",
        "dataset = pd.DataFrame(data=data, index=rows, columns=columns)"
      ]
    },
    {
      "cell_type": "code",
      "execution_count": 4,
      "metadata": {
        "colab": {
          "base_uri": "https://localhost:8080/",
          "height": 143
        },
        "id": "8MSaqCSWF7Iv",
        "outputId": "9d5d1f14-f52e-4c95-9336-0f1df66e7852"
      },
      "outputs": [
        {
          "data": {
            "text/html": [
              "<div>\n",
              "<style scoped>\n",
              "    .dataframe tbody tr th:only-of-type {\n",
              "        vertical-align: middle;\n",
              "    }\n",
              "\n",
              "    .dataframe tbody tr th {\n",
              "        vertical-align: top;\n",
              "    }\n",
              "\n",
              "    .dataframe thead th {\n",
              "        text-align: right;\n",
              "    }\n",
              "</style>\n",
              "<table border=\"1\" class=\"dataframe\">\n",
              "  <thead>\n",
              "    <tr style=\"text-align: right;\">\n",
              "      <th></th>\n",
              "      <th>North America</th>\n",
              "      <th>South America</th>\n",
              "      <th>Asia</th>\n",
              "      <th>Australia</th>\n",
              "      <th>Europe</th>\n",
              "      <th>Africa</th>\n",
              "    </tr>\n",
              "  </thead>\n",
              "  <tbody>\n",
              "    <tr>\n",
              "      <th>Type A</th>\n",
              "      <td>150</td>\n",
              "      <td>120</td>\n",
              "      <td>540</td>\n",
              "      <td>15</td>\n",
              "      <td>180</td>\n",
              "      <td>20</td>\n",
              "    </tr>\n",
              "    <tr>\n",
              "      <th>Type B</th>\n",
              "      <td>100</td>\n",
              "      <td>10</td>\n",
              "      <td>50</td>\n",
              "      <td>120</td>\n",
              "      <td>130</td>\n",
              "      <td>70</td>\n",
              "    </tr>\n",
              "    <tr>\n",
              "      <th>Type C</th>\n",
              "      <td>90</td>\n",
              "      <td>200</td>\n",
              "      <td>750</td>\n",
              "      <td>140</td>\n",
              "      <td>10</td>\n",
              "      <td>95</td>\n",
              "    </tr>\n",
              "  </tbody>\n",
              "</table>\n",
              "</div>"
            ],
            "text/plain": [
              "        North America  South America  Asia  Australia  Europe  Africa\n",
              "Type A            150            120   540         15     180      20\n",
              "Type B            100             10    50        120     130      70\n",
              "Type C             90            200   750        140      10      95"
            ]
          },
          "execution_count": 4,
          "metadata": {},
          "output_type": "execute_result"
        }
      ],
      "source": [
        "dataset"
      ]
    },
    {
      "cell_type": "markdown",
      "metadata": {
        "id": "k9PAt_6DV62a"
      },
      "source": [
        "This is our raw dataframe."
      ]
    },
    {
      "cell_type": "markdown",
      "metadata": {
        "id": "QlGGA0DGPJqj"
      },
      "source": [
        "# Marginal Distribution"
      ]
    },
    {
      "cell_type": "markdown",
      "metadata": {
        "id": "Zan6XXWOgkcB"
      },
      "source": [
        "## Compute Marginal numbers"
      ]
    },
    {
      "cell_type": "markdown",
      "metadata": {
        "id": "J5FDhG0tV_AK"
      },
      "source": [
        "For MARGINAL DISTRIBUTIONS we need a total number of each row and column. so let's compute them."
      ]
    },
    {
      "cell_type": "code",
      "execution_count": 5,
      "metadata": {
        "id": "NyQgqMiOGTC5"
      },
      "outputs": [],
      "source": [
        "dataset['TOTAL'] = dataset.sum(axis=1)"
      ]
    },
    {
      "cell_type": "code",
      "execution_count": 6,
      "metadata": {
        "colab": {
          "base_uri": "https://localhost:8080/",
          "height": 143
        },
        "id": "EOp-2E_UF_ii",
        "outputId": "56393aa9-8341-413f-94a7-38f624ce3ab3"
      },
      "outputs": [
        {
          "data": {
            "text/html": [
              "<div>\n",
              "<style scoped>\n",
              "    .dataframe tbody tr th:only-of-type {\n",
              "        vertical-align: middle;\n",
              "    }\n",
              "\n",
              "    .dataframe tbody tr th {\n",
              "        vertical-align: top;\n",
              "    }\n",
              "\n",
              "    .dataframe thead th {\n",
              "        text-align: right;\n",
              "    }\n",
              "</style>\n",
              "<table border=\"1\" class=\"dataframe\">\n",
              "  <thead>\n",
              "    <tr style=\"text-align: right;\">\n",
              "      <th></th>\n",
              "      <th>North America</th>\n",
              "      <th>South America</th>\n",
              "      <th>Asia</th>\n",
              "      <th>Australia</th>\n",
              "      <th>Europe</th>\n",
              "      <th>Africa</th>\n",
              "      <th>TOTAL</th>\n",
              "    </tr>\n",
              "  </thead>\n",
              "  <tbody>\n",
              "    <tr>\n",
              "      <th>Type A</th>\n",
              "      <td>150</td>\n",
              "      <td>120</td>\n",
              "      <td>540</td>\n",
              "      <td>15</td>\n",
              "      <td>180</td>\n",
              "      <td>20</td>\n",
              "      <td>1025</td>\n",
              "    </tr>\n",
              "    <tr>\n",
              "      <th>Type B</th>\n",
              "      <td>100</td>\n",
              "      <td>10</td>\n",
              "      <td>50</td>\n",
              "      <td>120</td>\n",
              "      <td>130</td>\n",
              "      <td>70</td>\n",
              "      <td>480</td>\n",
              "    </tr>\n",
              "    <tr>\n",
              "      <th>Type C</th>\n",
              "      <td>90</td>\n",
              "      <td>200</td>\n",
              "      <td>750</td>\n",
              "      <td>140</td>\n",
              "      <td>10</td>\n",
              "      <td>95</td>\n",
              "      <td>1285</td>\n",
              "    </tr>\n",
              "  </tbody>\n",
              "</table>\n",
              "</div>"
            ],
            "text/plain": [
              "        North America  South America  Asia  Australia  Europe  Africa  TOTAL\n",
              "Type A            150            120   540         15     180      20   1025\n",
              "Type B            100             10    50        120     130      70    480\n",
              "Type C             90            200   750        140      10      95   1285"
            ]
          },
          "execution_count": 6,
          "metadata": {},
          "output_type": "execute_result"
        }
      ],
      "source": [
        "dataset"
      ]
    },
    {
      "cell_type": "code",
      "execution_count": 7,
      "metadata": {
        "id": "l5aQgYyFPfXZ"
      },
      "outputs": [],
      "source": [
        "dataset.loc['TOTAL'] = dataset.sum(axis=0)"
      ]
    },
    {
      "cell_type": "code",
      "execution_count": 8,
      "metadata": {
        "colab": {
          "base_uri": "https://localhost:8080/",
          "height": 175
        },
        "id": "Y_-9STGYGGFL",
        "outputId": "df4cdbc0-da81-41e6-fb41-82e6d25810b1"
      },
      "outputs": [
        {
          "data": {
            "text/html": [
              "<div>\n",
              "<style scoped>\n",
              "    .dataframe tbody tr th:only-of-type {\n",
              "        vertical-align: middle;\n",
              "    }\n",
              "\n",
              "    .dataframe tbody tr th {\n",
              "        vertical-align: top;\n",
              "    }\n",
              "\n",
              "    .dataframe thead th {\n",
              "        text-align: right;\n",
              "    }\n",
              "</style>\n",
              "<table border=\"1\" class=\"dataframe\">\n",
              "  <thead>\n",
              "    <tr style=\"text-align: right;\">\n",
              "      <th></th>\n",
              "      <th>North America</th>\n",
              "      <th>South America</th>\n",
              "      <th>Asia</th>\n",
              "      <th>Australia</th>\n",
              "      <th>Europe</th>\n",
              "      <th>Africa</th>\n",
              "      <th>TOTAL</th>\n",
              "    </tr>\n",
              "  </thead>\n",
              "  <tbody>\n",
              "    <tr>\n",
              "      <th>Type A</th>\n",
              "      <td>150</td>\n",
              "      <td>120</td>\n",
              "      <td>540</td>\n",
              "      <td>15</td>\n",
              "      <td>180</td>\n",
              "      <td>20</td>\n",
              "      <td>1025</td>\n",
              "    </tr>\n",
              "    <tr>\n",
              "      <th>Type B</th>\n",
              "      <td>100</td>\n",
              "      <td>10</td>\n",
              "      <td>50</td>\n",
              "      <td>120</td>\n",
              "      <td>130</td>\n",
              "      <td>70</td>\n",
              "      <td>480</td>\n",
              "    </tr>\n",
              "    <tr>\n",
              "      <th>Type C</th>\n",
              "      <td>90</td>\n",
              "      <td>200</td>\n",
              "      <td>750</td>\n",
              "      <td>140</td>\n",
              "      <td>10</td>\n",
              "      <td>95</td>\n",
              "      <td>1285</td>\n",
              "    </tr>\n",
              "    <tr>\n",
              "      <th>TOTAL</th>\n",
              "      <td>340</td>\n",
              "      <td>330</td>\n",
              "      <td>1340</td>\n",
              "      <td>275</td>\n",
              "      <td>320</td>\n",
              "      <td>185</td>\n",
              "      <td>2790</td>\n",
              "    </tr>\n",
              "  </tbody>\n",
              "</table>\n",
              "</div>"
            ],
            "text/plain": [
              "        North America  South America  Asia  Australia  Europe  Africa  TOTAL\n",
              "Type A            150            120   540         15     180      20   1025\n",
              "Type B            100             10    50        120     130      70    480\n",
              "Type C             90            200   750        140      10      95   1285\n",
              "TOTAL             340            330  1340        275     320     185   2790"
            ]
          },
          "execution_count": 8,
          "metadata": {},
          "output_type": "execute_result"
        }
      ],
      "source": [
        "dataset"
      ]
    },
    {
      "cell_type": "markdown",
      "metadata": {
        "id": "txNz9jAigsT6"
      },
      "source": [
        "## Compute joint distribution"
      ]
    },
    {
      "cell_type": "code",
      "execution_count": 9,
      "metadata": {
        "id": "kduFuO8VejND"
      },
      "outputs": [],
      "source": [
        "def color_map(val):\n",
        "  for i in range(dataset['TOTAL'].size):\n",
        "    if val == dataset['TOTAL'][i]:\n",
        "      color = 'green'\n",
        "      return f'color: {color}'\n",
        "\n",
        "  for j in range(dataset.loc['TOTAL'].size):\n",
        "    if val == dataset.loc['TOTAL'][j]:\n",
        "      color = 'green'\n",
        "      return f'color: {color}'"
      ]
    },
    {
      "cell_type": "code",
      "execution_count": 10,
      "metadata": {
        "id": "B4qKWtG5gLK5"
      },
      "outputs": [
        {
          "name": "stderr",
          "output_type": "stream",
          "text": [
            "C:\\Users\\Alireza HR\\AppData\\Local\\Temp\\ipykernel_26804\\119175814.py:1: FutureWarning: Styler.applymap has been deprecated. Use Styler.map instead.\n",
            "  styled_data = dataset.style.applymap(color_map)\n"
          ]
        }
      ],
      "source": [
        "styled_data = dataset.style.applymap(color_map)"
      ]
    },
    {
      "cell_type": "code",
      "execution_count": 11,
      "metadata": {
        "colab": {
          "base_uri": "https://localhost:8080/",
          "height": 175
        },
        "id": "Y1sLt6tfGKcK",
        "outputId": "af647134-f520-468f-db94-3f48921c9012"
      },
      "outputs": [
        {
          "name": "stderr",
          "output_type": "stream",
          "text": [
            "C:\\Users\\Alireza HR\\AppData\\Local\\Temp\\ipykernel_26804\\3667629353.py:3: FutureWarning: Series.__getitem__ treating keys as positions is deprecated. In a future version, integer keys will always be treated as labels (consistent with DataFrame behavior). To access a value by position, use `ser.iloc[pos]`\n",
            "  if val == dataset['TOTAL'][i]:\n",
            "C:\\Users\\Alireza HR\\AppData\\Local\\Temp\\ipykernel_26804\\3667629353.py:8: FutureWarning: Series.__getitem__ treating keys as positions is deprecated. In a future version, integer keys will always be treated as labels (consistent with DataFrame behavior). To access a value by position, use `ser.iloc[pos]`\n",
            "  if val == dataset.loc['TOTAL'][j]:\n"
          ]
        },
        {
          "data": {
            "text/html": [
              "<style type=\"text/css\">\n",
              "#T_68f48_row0_col6, #T_68f48_row1_col6, #T_68f48_row2_col6, #T_68f48_row3_col0, #T_68f48_row3_col1, #T_68f48_row3_col2, #T_68f48_row3_col3, #T_68f48_row3_col4, #T_68f48_row3_col5, #T_68f48_row3_col6 {\n",
              "  color: green;\n",
              "}\n",
              "</style>\n",
              "<table id=\"T_68f48\">\n",
              "  <thead>\n",
              "    <tr>\n",
              "      <th class=\"blank level0\" >&nbsp;</th>\n",
              "      <th id=\"T_68f48_level0_col0\" class=\"col_heading level0 col0\" >North America</th>\n",
              "      <th id=\"T_68f48_level0_col1\" class=\"col_heading level0 col1\" >South America</th>\n",
              "      <th id=\"T_68f48_level0_col2\" class=\"col_heading level0 col2\" >Asia</th>\n",
              "      <th id=\"T_68f48_level0_col3\" class=\"col_heading level0 col3\" >Australia</th>\n",
              "      <th id=\"T_68f48_level0_col4\" class=\"col_heading level0 col4\" >Europe</th>\n",
              "      <th id=\"T_68f48_level0_col5\" class=\"col_heading level0 col5\" >Africa</th>\n",
              "      <th id=\"T_68f48_level0_col6\" class=\"col_heading level0 col6\" >TOTAL</th>\n",
              "    </tr>\n",
              "  </thead>\n",
              "  <tbody>\n",
              "    <tr>\n",
              "      <th id=\"T_68f48_level0_row0\" class=\"row_heading level0 row0\" >Type A</th>\n",
              "      <td id=\"T_68f48_row0_col0\" class=\"data row0 col0\" >150</td>\n",
              "      <td id=\"T_68f48_row0_col1\" class=\"data row0 col1\" >120</td>\n",
              "      <td id=\"T_68f48_row0_col2\" class=\"data row0 col2\" >540</td>\n",
              "      <td id=\"T_68f48_row0_col3\" class=\"data row0 col3\" >15</td>\n",
              "      <td id=\"T_68f48_row0_col4\" class=\"data row0 col4\" >180</td>\n",
              "      <td id=\"T_68f48_row0_col5\" class=\"data row0 col5\" >20</td>\n",
              "      <td id=\"T_68f48_row0_col6\" class=\"data row0 col6\" >1025</td>\n",
              "    </tr>\n",
              "    <tr>\n",
              "      <th id=\"T_68f48_level0_row1\" class=\"row_heading level0 row1\" >Type B</th>\n",
              "      <td id=\"T_68f48_row1_col0\" class=\"data row1 col0\" >100</td>\n",
              "      <td id=\"T_68f48_row1_col1\" class=\"data row1 col1\" >10</td>\n",
              "      <td id=\"T_68f48_row1_col2\" class=\"data row1 col2\" >50</td>\n",
              "      <td id=\"T_68f48_row1_col3\" class=\"data row1 col3\" >120</td>\n",
              "      <td id=\"T_68f48_row1_col4\" class=\"data row1 col4\" >130</td>\n",
              "      <td id=\"T_68f48_row1_col5\" class=\"data row1 col5\" >70</td>\n",
              "      <td id=\"T_68f48_row1_col6\" class=\"data row1 col6\" >480</td>\n",
              "    </tr>\n",
              "    <tr>\n",
              "      <th id=\"T_68f48_level0_row2\" class=\"row_heading level0 row2\" >Type C</th>\n",
              "      <td id=\"T_68f48_row2_col0\" class=\"data row2 col0\" >90</td>\n",
              "      <td id=\"T_68f48_row2_col1\" class=\"data row2 col1\" >200</td>\n",
              "      <td id=\"T_68f48_row2_col2\" class=\"data row2 col2\" >750</td>\n",
              "      <td id=\"T_68f48_row2_col3\" class=\"data row2 col3\" >140</td>\n",
              "      <td id=\"T_68f48_row2_col4\" class=\"data row2 col4\" >10</td>\n",
              "      <td id=\"T_68f48_row2_col5\" class=\"data row2 col5\" >95</td>\n",
              "      <td id=\"T_68f48_row2_col6\" class=\"data row2 col6\" >1285</td>\n",
              "    </tr>\n",
              "    <tr>\n",
              "      <th id=\"T_68f48_level0_row3\" class=\"row_heading level0 row3\" >TOTAL</th>\n",
              "      <td id=\"T_68f48_row3_col0\" class=\"data row3 col0\" >340</td>\n",
              "      <td id=\"T_68f48_row3_col1\" class=\"data row3 col1\" >330</td>\n",
              "      <td id=\"T_68f48_row3_col2\" class=\"data row3 col2\" >1340</td>\n",
              "      <td id=\"T_68f48_row3_col3\" class=\"data row3 col3\" >275</td>\n",
              "      <td id=\"T_68f48_row3_col4\" class=\"data row3 col4\" >320</td>\n",
              "      <td id=\"T_68f48_row3_col5\" class=\"data row3 col5\" >185</td>\n",
              "      <td id=\"T_68f48_row3_col6\" class=\"data row3 col6\" >2790</td>\n",
              "    </tr>\n",
              "  </tbody>\n",
              "</table>\n"
            ],
            "text/plain": [
              "<pandas.io.formats.style.Styler at 0x2b49bb82990>"
            ]
          },
          "execution_count": 11,
          "metadata": {},
          "output_type": "execute_result"
        }
      ],
      "source": [
        "styled_data"
      ]
    },
    {
      "cell_type": "markdown",
      "metadata": {
        "id": "gmi63xJVWlvy"
      },
      "source": [
        "The above data frame has marginal numbers that show the sum of each row and column items, but we need the probability of each cell, it's called joint distribution. For this goal, we should divide each cell value by the total number"
      ]
    },
    {
      "cell_type": "code",
      "execution_count": 12,
      "metadata": {
        "id": "1HXkGATrR1dN"
      },
      "outputs": [],
      "source": [
        "joint_dist = round(dataset / 2790, 3)"
      ]
    },
    {
      "cell_type": "code",
      "execution_count": 13,
      "metadata": {
        "colab": {
          "base_uri": "https://localhost:8080/",
          "height": 175
        },
        "id": "YDScUoHlG466",
        "outputId": "c21c604f-6be7-405f-d337-869573b0791d"
      },
      "outputs": [
        {
          "data": {
            "text/html": [
              "<div>\n",
              "<style scoped>\n",
              "    .dataframe tbody tr th:only-of-type {\n",
              "        vertical-align: middle;\n",
              "    }\n",
              "\n",
              "    .dataframe tbody tr th {\n",
              "        vertical-align: top;\n",
              "    }\n",
              "\n",
              "    .dataframe thead th {\n",
              "        text-align: right;\n",
              "    }\n",
              "</style>\n",
              "<table border=\"1\" class=\"dataframe\">\n",
              "  <thead>\n",
              "    <tr style=\"text-align: right;\">\n",
              "      <th></th>\n",
              "      <th>North America</th>\n",
              "      <th>South America</th>\n",
              "      <th>Asia</th>\n",
              "      <th>Australia</th>\n",
              "      <th>Europe</th>\n",
              "      <th>Africa</th>\n",
              "      <th>TOTAL</th>\n",
              "    </tr>\n",
              "  </thead>\n",
              "  <tbody>\n",
              "    <tr>\n",
              "      <th>Type A</th>\n",
              "      <td>0.054</td>\n",
              "      <td>0.043</td>\n",
              "      <td>0.194</td>\n",
              "      <td>0.005</td>\n",
              "      <td>0.065</td>\n",
              "      <td>0.007</td>\n",
              "      <td>0.367</td>\n",
              "    </tr>\n",
              "    <tr>\n",
              "      <th>Type B</th>\n",
              "      <td>0.036</td>\n",
              "      <td>0.004</td>\n",
              "      <td>0.018</td>\n",
              "      <td>0.043</td>\n",
              "      <td>0.047</td>\n",
              "      <td>0.025</td>\n",
              "      <td>0.172</td>\n",
              "    </tr>\n",
              "    <tr>\n",
              "      <th>Type C</th>\n",
              "      <td>0.032</td>\n",
              "      <td>0.072</td>\n",
              "      <td>0.269</td>\n",
              "      <td>0.050</td>\n",
              "      <td>0.004</td>\n",
              "      <td>0.034</td>\n",
              "      <td>0.461</td>\n",
              "    </tr>\n",
              "    <tr>\n",
              "      <th>TOTAL</th>\n",
              "      <td>0.122</td>\n",
              "      <td>0.118</td>\n",
              "      <td>0.480</td>\n",
              "      <td>0.099</td>\n",
              "      <td>0.115</td>\n",
              "      <td>0.066</td>\n",
              "      <td>1.000</td>\n",
              "    </tr>\n",
              "  </tbody>\n",
              "</table>\n",
              "</div>"
            ],
            "text/plain": [
              "        North America  South America   Asia  Australia  Europe  Africa  TOTAL\n",
              "Type A          0.054          0.043  0.194      0.005   0.065   0.007  0.367\n",
              "Type B          0.036          0.004  0.018      0.043   0.047   0.025  0.172\n",
              "Type C          0.032          0.072  0.269      0.050   0.004   0.034  0.461\n",
              "TOTAL           0.122          0.118  0.480      0.099   0.115   0.066  1.000"
            ]
          },
          "execution_count": 13,
          "metadata": {},
          "output_type": "execute_result"
        }
      ],
      "source": [
        "joint_dist"
      ]
    },
    {
      "cell_type": "markdown",
      "metadata": {
        "id": "TfMivIAiEItL"
      },
      "source": [
        "Now we have a table with marginal joint distributions. with this data, we can get some important information"
      ]
    },
    {
      "cell_type": "markdown",
      "metadata": {
        "id": "meUF0UqwHG6A"
      },
      "source": [
        "## Extract some usefull information"
      ]
    },
    {
      "cell_type": "markdown",
      "metadata": {
        "id": "caAsA9sFHNwx"
      },
      "source": [
        "**1. For example, we can easily see that the percentage of Asian people over all people in this table is 48% because the sum of Asians in total is 0.48 over 1.00**"
      ]
    },
    {
      "cell_type": "code",
      "execution_count": 14,
      "metadata": {
        "colab": {
          "base_uri": "https://localhost:8080/"
        },
        "id": "1PFsJUVgHMiH",
        "outputId": "a1400f3b-8695-45d0-e148-210c40840338"
      },
      "outputs": [
        {
          "name": "stdout",
          "output_type": "stream",
          "text": [
            "percent of Asian: 48.0%\n"
          ]
        },
        {
          "name": "stderr",
          "output_type": "stream",
          "text": [
            "C:\\Users\\Alireza HR\\AppData\\Local\\Temp\\ipykernel_26804\\1351378492.py:1: FutureWarning: Series.__getitem__ treating keys as positions is deprecated. In a future version, integer keys will always be treated as labels (consistent with DataFrame behavior). To access a value by position, use `ser.iloc[pos]`\n",
            "  asian = joint_dist['Asia'][-1]\n"
          ]
        }
      ],
      "source": [
        "asian = joint_dist['Asia'][-1]\n",
        "print(f'percent of Asian: {asian*100}%')"
      ]
    },
    {
      "cell_type": "code",
      "execution_count": 15,
      "metadata": {
        "id": "eY_RHxon_c2A"
      },
      "outputs": [],
      "source": [
        "def color_map(val):\n",
        "  if val == joint_dist['Asia'][-1]:\n",
        "    color = 'green'\n",
        "    return f'color: {color}'"
      ]
    },
    {
      "cell_type": "code",
      "execution_count": 16,
      "metadata": {
        "colab": {
          "base_uri": "https://localhost:8080/",
          "height": 175
        },
        "id": "vLWFXuFU_5jE",
        "outputId": "0f6de898-d5f3-4717-dfeb-513a788d43d1"
      },
      "outputs": [
        {
          "name": "stderr",
          "output_type": "stream",
          "text": [
            "C:\\Users\\Alireza HR\\AppData\\Local\\Temp\\ipykernel_26804\\1443723260.py:1: FutureWarning: Styler.applymap has been deprecated. Use Styler.map instead.\n",
            "  joint_dist.style.applymap(color_map)\n",
            "C:\\Users\\Alireza HR\\AppData\\Local\\Temp\\ipykernel_26804\\112950292.py:2: FutureWarning: Series.__getitem__ treating keys as positions is deprecated. In a future version, integer keys will always be treated as labels (consistent with DataFrame behavior). To access a value by position, use `ser.iloc[pos]`\n",
            "  if val == joint_dist['Asia'][-1]:\n"
          ]
        },
        {
          "data": {
            "text/html": [
              "<style type=\"text/css\">\n",
              "#T_f2f34_row3_col2 {\n",
              "  color: green;\n",
              "}\n",
              "</style>\n",
              "<table id=\"T_f2f34\">\n",
              "  <thead>\n",
              "    <tr>\n",
              "      <th class=\"blank level0\" >&nbsp;</th>\n",
              "      <th id=\"T_f2f34_level0_col0\" class=\"col_heading level0 col0\" >North America</th>\n",
              "      <th id=\"T_f2f34_level0_col1\" class=\"col_heading level0 col1\" >South America</th>\n",
              "      <th id=\"T_f2f34_level0_col2\" class=\"col_heading level0 col2\" >Asia</th>\n",
              "      <th id=\"T_f2f34_level0_col3\" class=\"col_heading level0 col3\" >Australia</th>\n",
              "      <th id=\"T_f2f34_level0_col4\" class=\"col_heading level0 col4\" >Europe</th>\n",
              "      <th id=\"T_f2f34_level0_col5\" class=\"col_heading level0 col5\" >Africa</th>\n",
              "      <th id=\"T_f2f34_level0_col6\" class=\"col_heading level0 col6\" >TOTAL</th>\n",
              "    </tr>\n",
              "  </thead>\n",
              "  <tbody>\n",
              "    <tr>\n",
              "      <th id=\"T_f2f34_level0_row0\" class=\"row_heading level0 row0\" >Type A</th>\n",
              "      <td id=\"T_f2f34_row0_col0\" class=\"data row0 col0\" >0.054000</td>\n",
              "      <td id=\"T_f2f34_row0_col1\" class=\"data row0 col1\" >0.043000</td>\n",
              "      <td id=\"T_f2f34_row0_col2\" class=\"data row0 col2\" >0.194000</td>\n",
              "      <td id=\"T_f2f34_row0_col3\" class=\"data row0 col3\" >0.005000</td>\n",
              "      <td id=\"T_f2f34_row0_col4\" class=\"data row0 col4\" >0.065000</td>\n",
              "      <td id=\"T_f2f34_row0_col5\" class=\"data row0 col5\" >0.007000</td>\n",
              "      <td id=\"T_f2f34_row0_col6\" class=\"data row0 col6\" >0.367000</td>\n",
              "    </tr>\n",
              "    <tr>\n",
              "      <th id=\"T_f2f34_level0_row1\" class=\"row_heading level0 row1\" >Type B</th>\n",
              "      <td id=\"T_f2f34_row1_col0\" class=\"data row1 col0\" >0.036000</td>\n",
              "      <td id=\"T_f2f34_row1_col1\" class=\"data row1 col1\" >0.004000</td>\n",
              "      <td id=\"T_f2f34_row1_col2\" class=\"data row1 col2\" >0.018000</td>\n",
              "      <td id=\"T_f2f34_row1_col3\" class=\"data row1 col3\" >0.043000</td>\n",
              "      <td id=\"T_f2f34_row1_col4\" class=\"data row1 col4\" >0.047000</td>\n",
              "      <td id=\"T_f2f34_row1_col5\" class=\"data row1 col5\" >0.025000</td>\n",
              "      <td id=\"T_f2f34_row1_col6\" class=\"data row1 col6\" >0.172000</td>\n",
              "    </tr>\n",
              "    <tr>\n",
              "      <th id=\"T_f2f34_level0_row2\" class=\"row_heading level0 row2\" >Type C</th>\n",
              "      <td id=\"T_f2f34_row2_col0\" class=\"data row2 col0\" >0.032000</td>\n",
              "      <td id=\"T_f2f34_row2_col1\" class=\"data row2 col1\" >0.072000</td>\n",
              "      <td id=\"T_f2f34_row2_col2\" class=\"data row2 col2\" >0.269000</td>\n",
              "      <td id=\"T_f2f34_row2_col3\" class=\"data row2 col3\" >0.050000</td>\n",
              "      <td id=\"T_f2f34_row2_col4\" class=\"data row2 col4\" >0.004000</td>\n",
              "      <td id=\"T_f2f34_row2_col5\" class=\"data row2 col5\" >0.034000</td>\n",
              "      <td id=\"T_f2f34_row2_col6\" class=\"data row2 col6\" >0.461000</td>\n",
              "    </tr>\n",
              "    <tr>\n",
              "      <th id=\"T_f2f34_level0_row3\" class=\"row_heading level0 row3\" >TOTAL</th>\n",
              "      <td id=\"T_f2f34_row3_col0\" class=\"data row3 col0\" >0.122000</td>\n",
              "      <td id=\"T_f2f34_row3_col1\" class=\"data row3 col1\" >0.118000</td>\n",
              "      <td id=\"T_f2f34_row3_col2\" class=\"data row3 col2\" >0.480000</td>\n",
              "      <td id=\"T_f2f34_row3_col3\" class=\"data row3 col3\" >0.099000</td>\n",
              "      <td id=\"T_f2f34_row3_col4\" class=\"data row3 col4\" >0.115000</td>\n",
              "      <td id=\"T_f2f34_row3_col5\" class=\"data row3 col5\" >0.066000</td>\n",
              "      <td id=\"T_f2f34_row3_col6\" class=\"data row3 col6\" >1.000000</td>\n",
              "    </tr>\n",
              "  </tbody>\n",
              "</table>\n"
            ],
            "text/plain": [
              "<pandas.io.formats.style.Styler at 0x2b4acdcfd70>"
            ]
          },
          "execution_count": 16,
          "metadata": {},
          "output_type": "execute_result"
        }
      ],
      "source": [
        "joint_dist.style.applymap(color_map)"
      ]
    },
    {
      "cell_type": "markdown",
      "metadata": {
        "id": "Pv5jnGXFICKC"
      },
      "source": [
        "**2. Almost 37% of people in this table have Type A disease**"
      ]
    },
    {
      "cell_type": "code",
      "execution_count": 17,
      "metadata": {
        "colab": {
          "base_uri": "https://localhost:8080/"
        },
        "id": "1F4zux-PHf6z",
        "outputId": "3ac8f5bb-4640-4b0d-f989-4ce036e0952f"
      },
      "outputs": [
        {
          "name": "stdout",
          "output_type": "stream",
          "text": [
            "percent of Type A: 36.7%\n"
          ]
        },
        {
          "name": "stderr",
          "output_type": "stream",
          "text": [
            "C:\\Users\\Alireza HR\\AppData\\Local\\Temp\\ipykernel_26804\\3709233740.py:1: FutureWarning: Series.__getitem__ treating keys as positions is deprecated. In a future version, integer keys will always be treated as labels (consistent with DataFrame behavior). To access a value by position, use `ser.iloc[pos]`\n",
            "  typeA = joint_dist.loc['Type A'][-1]\n"
          ]
        }
      ],
      "source": [
        "typeA = joint_dist.loc['Type A'][-1]\n",
        "print(f'percent of Type A: {typeA*100}%')"
      ]
    },
    {
      "cell_type": "code",
      "execution_count": 18,
      "metadata": {
        "id": "l7z5TUvJAQmV"
      },
      "outputs": [],
      "source": [
        "def color_map(val):\n",
        "  if val == joint_dist.loc['Type A'][-1]:\n",
        "    color = 'green'\n",
        "    return f'color: {color}'"
      ]
    },
    {
      "cell_type": "code",
      "execution_count": 19,
      "metadata": {
        "colab": {
          "base_uri": "https://localhost:8080/",
          "height": 175
        },
        "id": "JpkzzJ_uAUa3",
        "outputId": "5b359af2-f8a4-4366-c4aa-84460a565593"
      },
      "outputs": [
        {
          "name": "stderr",
          "output_type": "stream",
          "text": [
            "C:\\Users\\Alireza HR\\AppData\\Local\\Temp\\ipykernel_26804\\1443723260.py:1: FutureWarning: Styler.applymap has been deprecated. Use Styler.map instead.\n",
            "  joint_dist.style.applymap(color_map)\n",
            "C:\\Users\\Alireza HR\\AppData\\Local\\Temp\\ipykernel_26804\\767889785.py:2: FutureWarning: Series.__getitem__ treating keys as positions is deprecated. In a future version, integer keys will always be treated as labels (consistent with DataFrame behavior). To access a value by position, use `ser.iloc[pos]`\n",
            "  if val == joint_dist.loc['Type A'][-1]:\n"
          ]
        },
        {
          "data": {
            "text/html": [
              "<style type=\"text/css\">\n",
              "#T_f5a6b_row0_col6 {\n",
              "  color: green;\n",
              "}\n",
              "</style>\n",
              "<table id=\"T_f5a6b\">\n",
              "  <thead>\n",
              "    <tr>\n",
              "      <th class=\"blank level0\" >&nbsp;</th>\n",
              "      <th id=\"T_f5a6b_level0_col0\" class=\"col_heading level0 col0\" >North America</th>\n",
              "      <th id=\"T_f5a6b_level0_col1\" class=\"col_heading level0 col1\" >South America</th>\n",
              "      <th id=\"T_f5a6b_level0_col2\" class=\"col_heading level0 col2\" >Asia</th>\n",
              "      <th id=\"T_f5a6b_level0_col3\" class=\"col_heading level0 col3\" >Australia</th>\n",
              "      <th id=\"T_f5a6b_level0_col4\" class=\"col_heading level0 col4\" >Europe</th>\n",
              "      <th id=\"T_f5a6b_level0_col5\" class=\"col_heading level0 col5\" >Africa</th>\n",
              "      <th id=\"T_f5a6b_level0_col6\" class=\"col_heading level0 col6\" >TOTAL</th>\n",
              "    </tr>\n",
              "  </thead>\n",
              "  <tbody>\n",
              "    <tr>\n",
              "      <th id=\"T_f5a6b_level0_row0\" class=\"row_heading level0 row0\" >Type A</th>\n",
              "      <td id=\"T_f5a6b_row0_col0\" class=\"data row0 col0\" >0.054000</td>\n",
              "      <td id=\"T_f5a6b_row0_col1\" class=\"data row0 col1\" >0.043000</td>\n",
              "      <td id=\"T_f5a6b_row0_col2\" class=\"data row0 col2\" >0.194000</td>\n",
              "      <td id=\"T_f5a6b_row0_col3\" class=\"data row0 col3\" >0.005000</td>\n",
              "      <td id=\"T_f5a6b_row0_col4\" class=\"data row0 col4\" >0.065000</td>\n",
              "      <td id=\"T_f5a6b_row0_col5\" class=\"data row0 col5\" >0.007000</td>\n",
              "      <td id=\"T_f5a6b_row0_col6\" class=\"data row0 col6\" >0.367000</td>\n",
              "    </tr>\n",
              "    <tr>\n",
              "      <th id=\"T_f5a6b_level0_row1\" class=\"row_heading level0 row1\" >Type B</th>\n",
              "      <td id=\"T_f5a6b_row1_col0\" class=\"data row1 col0\" >0.036000</td>\n",
              "      <td id=\"T_f5a6b_row1_col1\" class=\"data row1 col1\" >0.004000</td>\n",
              "      <td id=\"T_f5a6b_row1_col2\" class=\"data row1 col2\" >0.018000</td>\n",
              "      <td id=\"T_f5a6b_row1_col3\" class=\"data row1 col3\" >0.043000</td>\n",
              "      <td id=\"T_f5a6b_row1_col4\" class=\"data row1 col4\" >0.047000</td>\n",
              "      <td id=\"T_f5a6b_row1_col5\" class=\"data row1 col5\" >0.025000</td>\n",
              "      <td id=\"T_f5a6b_row1_col6\" class=\"data row1 col6\" >0.172000</td>\n",
              "    </tr>\n",
              "    <tr>\n",
              "      <th id=\"T_f5a6b_level0_row2\" class=\"row_heading level0 row2\" >Type C</th>\n",
              "      <td id=\"T_f5a6b_row2_col0\" class=\"data row2 col0\" >0.032000</td>\n",
              "      <td id=\"T_f5a6b_row2_col1\" class=\"data row2 col1\" >0.072000</td>\n",
              "      <td id=\"T_f5a6b_row2_col2\" class=\"data row2 col2\" >0.269000</td>\n",
              "      <td id=\"T_f5a6b_row2_col3\" class=\"data row2 col3\" >0.050000</td>\n",
              "      <td id=\"T_f5a6b_row2_col4\" class=\"data row2 col4\" >0.004000</td>\n",
              "      <td id=\"T_f5a6b_row2_col5\" class=\"data row2 col5\" >0.034000</td>\n",
              "      <td id=\"T_f5a6b_row2_col6\" class=\"data row2 col6\" >0.461000</td>\n",
              "    </tr>\n",
              "    <tr>\n",
              "      <th id=\"T_f5a6b_level0_row3\" class=\"row_heading level0 row3\" >TOTAL</th>\n",
              "      <td id=\"T_f5a6b_row3_col0\" class=\"data row3 col0\" >0.122000</td>\n",
              "      <td id=\"T_f5a6b_row3_col1\" class=\"data row3 col1\" >0.118000</td>\n",
              "      <td id=\"T_f5a6b_row3_col2\" class=\"data row3 col2\" >0.480000</td>\n",
              "      <td id=\"T_f5a6b_row3_col3\" class=\"data row3 col3\" >0.099000</td>\n",
              "      <td id=\"T_f5a6b_row3_col4\" class=\"data row3 col4\" >0.115000</td>\n",
              "      <td id=\"T_f5a6b_row3_col5\" class=\"data row3 col5\" >0.066000</td>\n",
              "      <td id=\"T_f5a6b_row3_col6\" class=\"data row3 col6\" >1.000000</td>\n",
              "    </tr>\n",
              "  </tbody>\n",
              "</table>\n"
            ],
            "text/plain": [
              "<pandas.io.formats.style.Styler at 0x2b4ab6aed80>"
            ]
          },
          "execution_count": 19,
          "metadata": {},
          "output_type": "execute_result"
        }
      ],
      "source": [
        "joint_dist.style.applymap(color_map)"
      ]
    },
    {
      "cell_type": "markdown",
      "metadata": {
        "id": "VuWEHhDkqKr1"
      },
      "source": [
        "## AND"
      ]
    },
    {
      "cell_type": "markdown",
      "metadata": {
        "id": "RLCYwOIiI0Cn"
      },
      "source": [
        "**Question: What does each number in a cell show?**\n",
        "\n",
        "**Answer: each number in a cell is considered a joint distribution**"
      ]
    },
    {
      "cell_type": "markdown",
      "metadata": {
        "id": "NGvy2sCQJe9E"
      },
      "source": [
        "For instance, we can find the percentage of people from NORTH AMERICA who have TYPE B disease is: almost 3.6%\n",
        "\n",
        "(people who are from North America **AND** have Type B)"
      ]
    },
    {
      "cell_type": "code",
      "execution_count": 20,
      "metadata": {
        "colab": {
          "base_uri": "https://localhost:8080/"
        },
        "id": "X4BmhKeSIuJq",
        "outputId": "4b639752-fdfe-4d49-8086-db82a1345371"
      },
      "outputs": [
        {
          "name": "stdout",
          "output_type": "stream",
          "text": [
            "North America and Type B: 3.6%\n"
          ]
        }
      ],
      "source": [
        "northAmerica = joint_dist['North America']\n",
        "northAmerica_TypeB = northAmerica.loc['Type B']\n",
        "print(f'North America and Type B: {round(northAmerica_TypeB*100, 2)}%')"
      ]
    },
    {
      "cell_type": "code",
      "execution_count": 21,
      "metadata": {
        "id": "o6DryVwWAd8u"
      },
      "outputs": [],
      "source": [
        "def color_map(val):\n",
        "  if val == joint_dist['North America'][1]:\n",
        "    color = 'green'\n",
        "    return f'color: {color}'"
      ]
    },
    {
      "cell_type": "code",
      "execution_count": 22,
      "metadata": {
        "colab": {
          "base_uri": "https://localhost:8080/",
          "height": 175
        },
        "id": "3yU6Tg23AqdP",
        "outputId": "91fc5c83-71c0-4aa1-b694-4f2b35618ab1"
      },
      "outputs": [
        {
          "name": "stderr",
          "output_type": "stream",
          "text": [
            "C:\\Users\\Alireza HR\\AppData\\Local\\Temp\\ipykernel_26804\\1443723260.py:1: FutureWarning: Styler.applymap has been deprecated. Use Styler.map instead.\n",
            "  joint_dist.style.applymap(color_map)\n",
            "C:\\Users\\Alireza HR\\AppData\\Local\\Temp\\ipykernel_26804\\3407193711.py:2: FutureWarning: Series.__getitem__ treating keys as positions is deprecated. In a future version, integer keys will always be treated as labels (consistent with DataFrame behavior). To access a value by position, use `ser.iloc[pos]`\n",
            "  if val == joint_dist['North America'][1]:\n"
          ]
        },
        {
          "data": {
            "text/html": [
              "<style type=\"text/css\">\n",
              "#T_773db_row1_col0 {\n",
              "  color: green;\n",
              "}\n",
              "</style>\n",
              "<table id=\"T_773db\">\n",
              "  <thead>\n",
              "    <tr>\n",
              "      <th class=\"blank level0\" >&nbsp;</th>\n",
              "      <th id=\"T_773db_level0_col0\" class=\"col_heading level0 col0\" >North America</th>\n",
              "      <th id=\"T_773db_level0_col1\" class=\"col_heading level0 col1\" >South America</th>\n",
              "      <th id=\"T_773db_level0_col2\" class=\"col_heading level0 col2\" >Asia</th>\n",
              "      <th id=\"T_773db_level0_col3\" class=\"col_heading level0 col3\" >Australia</th>\n",
              "      <th id=\"T_773db_level0_col4\" class=\"col_heading level0 col4\" >Europe</th>\n",
              "      <th id=\"T_773db_level0_col5\" class=\"col_heading level0 col5\" >Africa</th>\n",
              "      <th id=\"T_773db_level0_col6\" class=\"col_heading level0 col6\" >TOTAL</th>\n",
              "    </tr>\n",
              "  </thead>\n",
              "  <tbody>\n",
              "    <tr>\n",
              "      <th id=\"T_773db_level0_row0\" class=\"row_heading level0 row0\" >Type A</th>\n",
              "      <td id=\"T_773db_row0_col0\" class=\"data row0 col0\" >0.054000</td>\n",
              "      <td id=\"T_773db_row0_col1\" class=\"data row0 col1\" >0.043000</td>\n",
              "      <td id=\"T_773db_row0_col2\" class=\"data row0 col2\" >0.194000</td>\n",
              "      <td id=\"T_773db_row0_col3\" class=\"data row0 col3\" >0.005000</td>\n",
              "      <td id=\"T_773db_row0_col4\" class=\"data row0 col4\" >0.065000</td>\n",
              "      <td id=\"T_773db_row0_col5\" class=\"data row0 col5\" >0.007000</td>\n",
              "      <td id=\"T_773db_row0_col6\" class=\"data row0 col6\" >0.367000</td>\n",
              "    </tr>\n",
              "    <tr>\n",
              "      <th id=\"T_773db_level0_row1\" class=\"row_heading level0 row1\" >Type B</th>\n",
              "      <td id=\"T_773db_row1_col0\" class=\"data row1 col0\" >0.036000</td>\n",
              "      <td id=\"T_773db_row1_col1\" class=\"data row1 col1\" >0.004000</td>\n",
              "      <td id=\"T_773db_row1_col2\" class=\"data row1 col2\" >0.018000</td>\n",
              "      <td id=\"T_773db_row1_col3\" class=\"data row1 col3\" >0.043000</td>\n",
              "      <td id=\"T_773db_row1_col4\" class=\"data row1 col4\" >0.047000</td>\n",
              "      <td id=\"T_773db_row1_col5\" class=\"data row1 col5\" >0.025000</td>\n",
              "      <td id=\"T_773db_row1_col6\" class=\"data row1 col6\" >0.172000</td>\n",
              "    </tr>\n",
              "    <tr>\n",
              "      <th id=\"T_773db_level0_row2\" class=\"row_heading level0 row2\" >Type C</th>\n",
              "      <td id=\"T_773db_row2_col0\" class=\"data row2 col0\" >0.032000</td>\n",
              "      <td id=\"T_773db_row2_col1\" class=\"data row2 col1\" >0.072000</td>\n",
              "      <td id=\"T_773db_row2_col2\" class=\"data row2 col2\" >0.269000</td>\n",
              "      <td id=\"T_773db_row2_col3\" class=\"data row2 col3\" >0.050000</td>\n",
              "      <td id=\"T_773db_row2_col4\" class=\"data row2 col4\" >0.004000</td>\n",
              "      <td id=\"T_773db_row2_col5\" class=\"data row2 col5\" >0.034000</td>\n",
              "      <td id=\"T_773db_row2_col6\" class=\"data row2 col6\" >0.461000</td>\n",
              "    </tr>\n",
              "    <tr>\n",
              "      <th id=\"T_773db_level0_row3\" class=\"row_heading level0 row3\" >TOTAL</th>\n",
              "      <td id=\"T_773db_row3_col0\" class=\"data row3 col0\" >0.122000</td>\n",
              "      <td id=\"T_773db_row3_col1\" class=\"data row3 col1\" >0.118000</td>\n",
              "      <td id=\"T_773db_row3_col2\" class=\"data row3 col2\" >0.480000</td>\n",
              "      <td id=\"T_773db_row3_col3\" class=\"data row3 col3\" >0.099000</td>\n",
              "      <td id=\"T_773db_row3_col4\" class=\"data row3 col4\" >0.115000</td>\n",
              "      <td id=\"T_773db_row3_col5\" class=\"data row3 col5\" >0.066000</td>\n",
              "      <td id=\"T_773db_row3_col6\" class=\"data row3 col6\" >1.000000</td>\n",
              "    </tr>\n",
              "  </tbody>\n",
              "</table>\n"
            ],
            "text/plain": [
              "<pandas.io.formats.style.Styler at 0x2b4acab1430>"
            ]
          },
          "execution_count": 22,
          "metadata": {},
          "output_type": "execute_result"
        }
      ],
      "source": [
        "joint_dist.style.applymap(color_map)"
      ]
    },
    {
      "cell_type": "markdown",
      "metadata": {
        "id": "KncuMPLnqPPm"
      },
      "source": [
        "## OR"
      ]
    },
    {
      "cell_type": "markdown",
      "metadata": {
        "id": "mTdHY5mtgg2F"
      },
      "source": [
        "**If we consider a whole row and a whole column and we add up each cell in this row and column we would have OR operand.**\n",
        "\n",
        "for example: if we want to know the percent of people who are from Australia **OR** have Type C, we should sum the cells that belong to this column and row."
      ]
    },
    {
      "cell_type": "code",
      "execution_count": 23,
      "metadata": {
        "colab": {
          "base_uri": "https://localhost:8080/"
        },
        "id": "s5aENNw3LdrE",
        "outputId": "4662e64d-48fd-4b9a-c17d-9a5a07cac2bc"
      },
      "outputs": [
        {
          "name": "stdout",
          "output_type": "stream",
          "text": [
            "TypeC OR Australia: 50.9%\n"
          ]
        },
        {
          "name": "stderr",
          "output_type": "stream",
          "text": [
            "C:\\Users\\Alireza HR\\AppData\\Local\\Temp\\ipykernel_26804\\4044186336.py:2: FutureWarning: Series.__getitem__ treating keys as positions is deprecated. In a future version, integer keys will always be treated as labels (consistent with DataFrame behavior). To access a value by position, use `ser.iloc[pos]`\n",
            "  typeC = joint_dist.loc['Type C'][:-1].sum() - joint_dist['Australia'][2]\n"
          ]
        }
      ],
      "source": [
        "australia = joint_dist['Australia'][0:-1].sum()\n",
        "typeC = joint_dist.loc['Type C'][:-1].sum() - joint_dist['Australia'][2]\n",
        "print(f'TypeC OR Australia: {(typeC + australia)*100}%')"
      ]
    },
    {
      "cell_type": "markdown",
      "metadata": {
        "id": "eTc_8_pYjn5G"
      },
      "source": [
        "Another way is that we can add the marginal distribution of Australia and type C and then subtract from the intersection of the two because we are counting it twice:\n",
        "\n",
        "(A union B) = A + B - (A intersecton B)\n",
        "\n"
      ]
    },
    {
      "cell_type": "code",
      "execution_count": 24,
      "metadata": {
        "colab": {
          "base_uri": "https://localhost:8080/"
        },
        "id": "xMcOPPSRlSL1",
        "outputId": "5af15406-2560-48d3-ccec-799662697c26"
      },
      "outputs": [
        {
          "name": "stdout",
          "output_type": "stream",
          "text": [
            "TypeA OR Australia: 41.6%\n"
          ]
        },
        {
          "name": "stderr",
          "output_type": "stream",
          "text": [
            "C:\\Users\\Alireza HR\\AppData\\Local\\Temp\\ipykernel_26804\\3142265593.py:1: FutureWarning: Series.__getitem__ treating keys as positions is deprecated. In a future version, integer keys will always be treated as labels (consistent with DataFrame behavior). To access a value by position, use `ser.iloc[pos]`\n",
            "  Aus_union_typeA = (joint_dist['Australia'][-1] + joint_dist.loc['Type A'][-1]) - joint_dist['Australia'][2]\n"
          ]
        }
      ],
      "source": [
        "Aus_union_typeA = (joint_dist['Australia'][-1] + joint_dist.loc['Type A'][-1]) - joint_dist['Australia'][2]\n",
        "print(f'TypeA OR Australia: {Aus_union_typeA*100}%')"
      ]
    },
    {
      "cell_type": "code",
      "execution_count": 25,
      "metadata": {
        "id": "GCBuOCnRAxWW"
      },
      "outputs": [],
      "source": [
        "def color_map(val):\n",
        "  for i in range(joint_dist['Australia'].size-1):\n",
        "    if val == joint_dist['Australia'][i]:\n",
        "      color = 'green'\n",
        "      return f'color: {color}'\n",
        "\n",
        "  for j in range(joint_dist.loc['Type A'].size-1):\n",
        "    if val == joint_dist.loc['Type A'][j]:\n",
        "      color = 'green'\n",
        "      return f'color: {color}'"
      ]
    },
    {
      "cell_type": "code",
      "execution_count": 26,
      "metadata": {
        "colab": {
          "base_uri": "https://localhost:8080/",
          "height": 175
        },
        "id": "kh2_q5iBA50k",
        "outputId": "449e1a2d-9145-4057-a8ed-52d6b8b862db"
      },
      "outputs": [
        {
          "name": "stderr",
          "output_type": "stream",
          "text": [
            "C:\\Users\\Alireza HR\\AppData\\Local\\Temp\\ipykernel_26804\\1443723260.py:1: FutureWarning: Styler.applymap has been deprecated. Use Styler.map instead.\n",
            "  joint_dist.style.applymap(color_map)\n",
            "C:\\Users\\Alireza HR\\AppData\\Local\\Temp\\ipykernel_26804\\1103513543.py:3: FutureWarning: Series.__getitem__ treating keys as positions is deprecated. In a future version, integer keys will always be treated as labels (consistent with DataFrame behavior). To access a value by position, use `ser.iloc[pos]`\n",
            "  if val == joint_dist['Australia'][i]:\n",
            "C:\\Users\\Alireza HR\\AppData\\Local\\Temp\\ipykernel_26804\\1103513543.py:8: FutureWarning: Series.__getitem__ treating keys as positions is deprecated. In a future version, integer keys will always be treated as labels (consistent with DataFrame behavior). To access a value by position, use `ser.iloc[pos]`\n",
            "  if val == joint_dist.loc['Type A'][j]:\n"
          ]
        },
        {
          "data": {
            "text/html": [
              "<style type=\"text/css\">\n",
              "#T_e3eda_row0_col0, #T_e3eda_row0_col1, #T_e3eda_row0_col2, #T_e3eda_row0_col3, #T_e3eda_row0_col4, #T_e3eda_row0_col5, #T_e3eda_row1_col3, #T_e3eda_row2_col3 {\n",
              "  color: green;\n",
              "}\n",
              "</style>\n",
              "<table id=\"T_e3eda\">\n",
              "  <thead>\n",
              "    <tr>\n",
              "      <th class=\"blank level0\" >&nbsp;</th>\n",
              "      <th id=\"T_e3eda_level0_col0\" class=\"col_heading level0 col0\" >North America</th>\n",
              "      <th id=\"T_e3eda_level0_col1\" class=\"col_heading level0 col1\" >South America</th>\n",
              "      <th id=\"T_e3eda_level0_col2\" class=\"col_heading level0 col2\" >Asia</th>\n",
              "      <th id=\"T_e3eda_level0_col3\" class=\"col_heading level0 col3\" >Australia</th>\n",
              "      <th id=\"T_e3eda_level0_col4\" class=\"col_heading level0 col4\" >Europe</th>\n",
              "      <th id=\"T_e3eda_level0_col5\" class=\"col_heading level0 col5\" >Africa</th>\n",
              "      <th id=\"T_e3eda_level0_col6\" class=\"col_heading level0 col6\" >TOTAL</th>\n",
              "    </tr>\n",
              "  </thead>\n",
              "  <tbody>\n",
              "    <tr>\n",
              "      <th id=\"T_e3eda_level0_row0\" class=\"row_heading level0 row0\" >Type A</th>\n",
              "      <td id=\"T_e3eda_row0_col0\" class=\"data row0 col0\" >0.054000</td>\n",
              "      <td id=\"T_e3eda_row0_col1\" class=\"data row0 col1\" >0.043000</td>\n",
              "      <td id=\"T_e3eda_row0_col2\" class=\"data row0 col2\" >0.194000</td>\n",
              "      <td id=\"T_e3eda_row0_col3\" class=\"data row0 col3\" >0.005000</td>\n",
              "      <td id=\"T_e3eda_row0_col4\" class=\"data row0 col4\" >0.065000</td>\n",
              "      <td id=\"T_e3eda_row0_col5\" class=\"data row0 col5\" >0.007000</td>\n",
              "      <td id=\"T_e3eda_row0_col6\" class=\"data row0 col6\" >0.367000</td>\n",
              "    </tr>\n",
              "    <tr>\n",
              "      <th id=\"T_e3eda_level0_row1\" class=\"row_heading level0 row1\" >Type B</th>\n",
              "      <td id=\"T_e3eda_row1_col0\" class=\"data row1 col0\" >0.036000</td>\n",
              "      <td id=\"T_e3eda_row1_col1\" class=\"data row1 col1\" >0.004000</td>\n",
              "      <td id=\"T_e3eda_row1_col2\" class=\"data row1 col2\" >0.018000</td>\n",
              "      <td id=\"T_e3eda_row1_col3\" class=\"data row1 col3\" >0.043000</td>\n",
              "      <td id=\"T_e3eda_row1_col4\" class=\"data row1 col4\" >0.047000</td>\n",
              "      <td id=\"T_e3eda_row1_col5\" class=\"data row1 col5\" >0.025000</td>\n",
              "      <td id=\"T_e3eda_row1_col6\" class=\"data row1 col6\" >0.172000</td>\n",
              "    </tr>\n",
              "    <tr>\n",
              "      <th id=\"T_e3eda_level0_row2\" class=\"row_heading level0 row2\" >Type C</th>\n",
              "      <td id=\"T_e3eda_row2_col0\" class=\"data row2 col0\" >0.032000</td>\n",
              "      <td id=\"T_e3eda_row2_col1\" class=\"data row2 col1\" >0.072000</td>\n",
              "      <td id=\"T_e3eda_row2_col2\" class=\"data row2 col2\" >0.269000</td>\n",
              "      <td id=\"T_e3eda_row2_col3\" class=\"data row2 col3\" >0.050000</td>\n",
              "      <td id=\"T_e3eda_row2_col4\" class=\"data row2 col4\" >0.004000</td>\n",
              "      <td id=\"T_e3eda_row2_col5\" class=\"data row2 col5\" >0.034000</td>\n",
              "      <td id=\"T_e3eda_row2_col6\" class=\"data row2 col6\" >0.461000</td>\n",
              "    </tr>\n",
              "    <tr>\n",
              "      <th id=\"T_e3eda_level0_row3\" class=\"row_heading level0 row3\" >TOTAL</th>\n",
              "      <td id=\"T_e3eda_row3_col0\" class=\"data row3 col0\" >0.122000</td>\n",
              "      <td id=\"T_e3eda_row3_col1\" class=\"data row3 col1\" >0.118000</td>\n",
              "      <td id=\"T_e3eda_row3_col2\" class=\"data row3 col2\" >0.480000</td>\n",
              "      <td id=\"T_e3eda_row3_col3\" class=\"data row3 col3\" >0.099000</td>\n",
              "      <td id=\"T_e3eda_row3_col4\" class=\"data row3 col4\" >0.115000</td>\n",
              "      <td id=\"T_e3eda_row3_col5\" class=\"data row3 col5\" >0.066000</td>\n",
              "      <td id=\"T_e3eda_row3_col6\" class=\"data row3 col6\" >1.000000</td>\n",
              "    </tr>\n",
              "  </tbody>\n",
              "</table>\n"
            ],
            "text/plain": [
              "<pandas.io.formats.style.Styler at 0x2b4acbf09e0>"
            ]
          },
          "execution_count": 26,
          "metadata": {},
          "output_type": "execute_result"
        }
      ],
      "source": [
        "joint_dist.style.applymap(color_map)"
      ]
    },
    {
      "cell_type": "markdown",
      "metadata": {
        "id": "AZozsGFzlyzd"
      },
      "source": [
        "**Both 2 ways have the same result**"
      ]
    },
    {
      "cell_type": "markdown",
      "metadata": {
        "id": "s_2rRTfLqTWN"
      },
      "source": [
        "## Conditional Probability"
      ]
    },
    {
      "cell_type": "markdown",
      "metadata": {
        "id": "RXhBGKaIqgYl"
      },
      "source": [
        "By using marginal distribution we can simply compute CONDITIONAL PROBABILITY\n",
        "\n",
        "For instance: If we know a patient has Type B disease, what is the probability of being European?\n",
        "\n",
        "P(European | TypeB) = P(Europe intersection TypeB) / P(TypeB)"
      ]
    },
    {
      "cell_type": "code",
      "execution_count": 27,
      "metadata": {
        "colab": {
          "base_uri": "https://localhost:8080/"
        },
        "id": "tPEAODcQrYXB",
        "outputId": "5a00bc47-6d69-4cd0-8c66-28b4465a66a9"
      },
      "outputs": [
        {
          "name": "stdout",
          "output_type": "stream",
          "text": [
            "P(Europe | TypeB): 0.27\n"
          ]
        },
        {
          "name": "stderr",
          "output_type": "stream",
          "text": [
            "C:\\Users\\Alireza HR\\AppData\\Local\\Temp\\ipykernel_26804\\1613741533.py:1: FutureWarning: Series.__getitem__ treating keys as positions is deprecated. In a future version, integer keys will always be treated as labels (consistent with DataFrame behavior). To access a value by position, use `ser.iloc[pos]`\n",
            "  eu_typeB = joint_dist['Europe'][1]\n",
            "C:\\Users\\Alireza HR\\AppData\\Local\\Temp\\ipykernel_26804\\1613741533.py:2: FutureWarning: Series.__getitem__ treating keys as positions is deprecated. In a future version, integer keys will always be treated as labels (consistent with DataFrame behavior). To access a value by position, use `ser.iloc[pos]`\n",
            "  typeB = joint_dist.loc['Type B'][-1]\n"
          ]
        }
      ],
      "source": [
        "eu_typeB = joint_dist['Europe'][1]\n",
        "typeB = joint_dist.loc['Type B'][-1]\n",
        "print(f'P(Europe | TypeB): {round(eu_typeB / typeB, 2)}')"
      ]
    },
    {
      "cell_type": "code",
      "execution_count": 28,
      "metadata": {
        "id": "OJCpQiHepx3y"
      },
      "outputs": [],
      "source": [
        "def color_map(val):\n",
        "  for j in range(joint_dist.loc['Type B'].size-1):\n",
        "    if val == joint_dist.loc['Type B'][j]:\n",
        "      if val == joint_dist['Europe'][1]:\n",
        "        color = 'blue'\n",
        "      else:\n",
        "        color = 'green'\n",
        "      return f'color: {color}'"
      ]
    },
    {
      "cell_type": "code",
      "execution_count": 29,
      "metadata": {
        "colab": {
          "base_uri": "https://localhost:8080/",
          "height": 175
        },
        "id": "8SuDH9EtFWx8",
        "outputId": "6db72999-9130-4a3c-cb14-da85073db367"
      },
      "outputs": [
        {
          "name": "stderr",
          "output_type": "stream",
          "text": [
            "C:\\Users\\Alireza HR\\AppData\\Local\\Temp\\ipykernel_26804\\1164449815.py:1: FutureWarning: Styler.applymap has been deprecated. Use Styler.map instead.\n",
            "  joint_dist.style.applymap(color_map, subset=pd.IndexSlice['Type B', :])\n",
            "C:\\Users\\Alireza HR\\AppData\\Local\\Temp\\ipykernel_26804\\3134922232.py:3: FutureWarning: Series.__getitem__ treating keys as positions is deprecated. In a future version, integer keys will always be treated as labels (consistent with DataFrame behavior). To access a value by position, use `ser.iloc[pos]`\n",
            "  if val == joint_dist.loc['Type B'][j]:\n",
            "C:\\Users\\Alireza HR\\AppData\\Local\\Temp\\ipykernel_26804\\3134922232.py:4: FutureWarning: Series.__getitem__ treating keys as positions is deprecated. In a future version, integer keys will always be treated as labels (consistent with DataFrame behavior). To access a value by position, use `ser.iloc[pos]`\n",
            "  if val == joint_dist['Europe'][1]:\n"
          ]
        },
        {
          "data": {
            "text/html": [
              "<style type=\"text/css\">\n",
              "#T_fb6a2_row1_col0, #T_fb6a2_row1_col1, #T_fb6a2_row1_col2, #T_fb6a2_row1_col3, #T_fb6a2_row1_col5 {\n",
              "  color: green;\n",
              "}\n",
              "#T_fb6a2_row1_col4 {\n",
              "  color: blue;\n",
              "}\n",
              "</style>\n",
              "<table id=\"T_fb6a2\">\n",
              "  <thead>\n",
              "    <tr>\n",
              "      <th class=\"blank level0\" >&nbsp;</th>\n",
              "      <th id=\"T_fb6a2_level0_col0\" class=\"col_heading level0 col0\" >North America</th>\n",
              "      <th id=\"T_fb6a2_level0_col1\" class=\"col_heading level0 col1\" >South America</th>\n",
              "      <th id=\"T_fb6a2_level0_col2\" class=\"col_heading level0 col2\" >Asia</th>\n",
              "      <th id=\"T_fb6a2_level0_col3\" class=\"col_heading level0 col3\" >Australia</th>\n",
              "      <th id=\"T_fb6a2_level0_col4\" class=\"col_heading level0 col4\" >Europe</th>\n",
              "      <th id=\"T_fb6a2_level0_col5\" class=\"col_heading level0 col5\" >Africa</th>\n",
              "      <th id=\"T_fb6a2_level0_col6\" class=\"col_heading level0 col6\" >TOTAL</th>\n",
              "    </tr>\n",
              "  </thead>\n",
              "  <tbody>\n",
              "    <tr>\n",
              "      <th id=\"T_fb6a2_level0_row0\" class=\"row_heading level0 row0\" >Type A</th>\n",
              "      <td id=\"T_fb6a2_row0_col0\" class=\"data row0 col0\" >0.054000</td>\n",
              "      <td id=\"T_fb6a2_row0_col1\" class=\"data row0 col1\" >0.043000</td>\n",
              "      <td id=\"T_fb6a2_row0_col2\" class=\"data row0 col2\" >0.194000</td>\n",
              "      <td id=\"T_fb6a2_row0_col3\" class=\"data row0 col3\" >0.005000</td>\n",
              "      <td id=\"T_fb6a2_row0_col4\" class=\"data row0 col4\" >0.065000</td>\n",
              "      <td id=\"T_fb6a2_row0_col5\" class=\"data row0 col5\" >0.007000</td>\n",
              "      <td id=\"T_fb6a2_row0_col6\" class=\"data row0 col6\" >0.367000</td>\n",
              "    </tr>\n",
              "    <tr>\n",
              "      <th id=\"T_fb6a2_level0_row1\" class=\"row_heading level0 row1\" >Type B</th>\n",
              "      <td id=\"T_fb6a2_row1_col0\" class=\"data row1 col0\" >0.036000</td>\n",
              "      <td id=\"T_fb6a2_row1_col1\" class=\"data row1 col1\" >0.004000</td>\n",
              "      <td id=\"T_fb6a2_row1_col2\" class=\"data row1 col2\" >0.018000</td>\n",
              "      <td id=\"T_fb6a2_row1_col3\" class=\"data row1 col3\" >0.043000</td>\n",
              "      <td id=\"T_fb6a2_row1_col4\" class=\"data row1 col4\" >0.047000</td>\n",
              "      <td id=\"T_fb6a2_row1_col5\" class=\"data row1 col5\" >0.025000</td>\n",
              "      <td id=\"T_fb6a2_row1_col6\" class=\"data row1 col6\" >0.172000</td>\n",
              "    </tr>\n",
              "    <tr>\n",
              "      <th id=\"T_fb6a2_level0_row2\" class=\"row_heading level0 row2\" >Type C</th>\n",
              "      <td id=\"T_fb6a2_row2_col0\" class=\"data row2 col0\" >0.032000</td>\n",
              "      <td id=\"T_fb6a2_row2_col1\" class=\"data row2 col1\" >0.072000</td>\n",
              "      <td id=\"T_fb6a2_row2_col2\" class=\"data row2 col2\" >0.269000</td>\n",
              "      <td id=\"T_fb6a2_row2_col3\" class=\"data row2 col3\" >0.050000</td>\n",
              "      <td id=\"T_fb6a2_row2_col4\" class=\"data row2 col4\" >0.004000</td>\n",
              "      <td id=\"T_fb6a2_row2_col5\" class=\"data row2 col5\" >0.034000</td>\n",
              "      <td id=\"T_fb6a2_row2_col6\" class=\"data row2 col6\" >0.461000</td>\n",
              "    </tr>\n",
              "    <tr>\n",
              "      <th id=\"T_fb6a2_level0_row3\" class=\"row_heading level0 row3\" >TOTAL</th>\n",
              "      <td id=\"T_fb6a2_row3_col0\" class=\"data row3 col0\" >0.122000</td>\n",
              "      <td id=\"T_fb6a2_row3_col1\" class=\"data row3 col1\" >0.118000</td>\n",
              "      <td id=\"T_fb6a2_row3_col2\" class=\"data row3 col2\" >0.480000</td>\n",
              "      <td id=\"T_fb6a2_row3_col3\" class=\"data row3 col3\" >0.099000</td>\n",
              "      <td id=\"T_fb6a2_row3_col4\" class=\"data row3 col4\" >0.115000</td>\n",
              "      <td id=\"T_fb6a2_row3_col5\" class=\"data row3 col5\" >0.066000</td>\n",
              "      <td id=\"T_fb6a2_row3_col6\" class=\"data row3 col6\" >1.000000</td>\n",
              "    </tr>\n",
              "  </tbody>\n",
              "</table>\n"
            ],
            "text/plain": [
              "<pandas.io.formats.style.Styler at 0x2b4acdf26c0>"
            ]
          },
          "execution_count": 29,
          "metadata": {},
          "output_type": "execute_result"
        }
      ],
      "source": [
        "joint_dist.style.applymap(color_map, subset=pd.IndexSlice['Type B', :])"
      ]
    },
    {
      "cell_type": "markdown",
      "metadata": {
        "id": "zArswkqWtQfP"
      },
      "source": [
        "##  Independence and dependence"
      ]
    },
    {
      "cell_type": "markdown",
      "metadata": {
        "id": "Sze4JG36tTKW"
      },
      "source": [
        "Using Marginal Distribution, we can also check the dependency and independence.\n",
        "\n",
        "Two Random Variables A and B are independent if:\n",
        "\n",
        "1. P(A intersection B) = P(A) * P(B)\n",
        "\n",
        "or\n",
        "\n",
        "2. P(A | B) = P(A)"
      ]
    },
    {
      "cell_type": "markdown",
      "metadata": {
        "id": "YdPYXHVWt9FM"
      },
      "source": [
        "In these two examples, we want to check if Disease is independent from the Continent.\n",
        "\n",
        "We use the `P(A intersection B) = P(A) * P(B)` formula, but you can also use `P(A | B) = P(A)`."
      ]
    },
    {
      "cell_type": "code",
      "execution_count": 30,
      "metadata": {
        "colab": {
          "base_uri": "https://localhost:8080/"
        },
        "id": "JoKo-v1osBiu",
        "outputId": "d86b8683-e9af-4093-e21c-904898176b4c"
      },
      "outputs": [
        {
          "name": "stdout",
          "output_type": "stream",
          "text": [
            "They are dependent\n",
            "TypeC intersect SouthAmerica: 0.072, typeC: 0.461 * SouthAmerica: 0.118 = 0.05\n"
          ]
        },
        {
          "name": "stderr",
          "output_type": "stream",
          "text": [
            "C:\\Users\\Alireza HR\\AppData\\Local\\Temp\\ipykernel_26804\\1274560195.py:1: FutureWarning: Series.__getitem__ treating keys as positions is deprecated. In a future version, integer keys will always be treated as labels (consistent with DataFrame behavior). To access a value by position, use `ser.iloc[pos]`\n",
            "  typeC_intersect_SouthAmerica = joint_dist['South America'][2]\n",
            "C:\\Users\\Alireza HR\\AppData\\Local\\Temp\\ipykernel_26804\\1274560195.py:2: FutureWarning: Series.__getitem__ treating keys as positions is deprecated. In a future version, integer keys will always be treated as labels (consistent with DataFrame behavior). To access a value by position, use `ser.iloc[pos]`\n",
            "  typeC = joint_dist.loc['Type C'][-1]\n",
            "C:\\Users\\Alireza HR\\AppData\\Local\\Temp\\ipykernel_26804\\1274560195.py:3: FutureWarning: Series.__getitem__ treating keys as positions is deprecated. In a future version, integer keys will always be treated as labels (consistent with DataFrame behavior). To access a value by position, use `ser.iloc[pos]`\n",
            "  SouthAmerica = joint_dist['South America'][-1]\n"
          ]
        }
      ],
      "source": [
        "typeC_intersect_SouthAmerica = joint_dist['South America'][2]\n",
        "typeC = joint_dist.loc['Type C'][-1]\n",
        "SouthAmerica = joint_dist['South America'][-1]\n",
        "\n",
        "if typeC_intersect_SouthAmerica == round(typeC * SouthAmerica):\n",
        "  print('They are independent')\n",
        "else:\n",
        "  print('They are dependent')\n",
        "\n",
        "print(f'TypeC intersect SouthAmerica: {typeC_intersect_SouthAmerica}, typeC: {typeC} * SouthAmerica: {SouthAmerica} = {round(SouthAmerica*typeC, 2)}')"
      ]
    },
    {
      "cell_type": "code",
      "execution_count": 31,
      "metadata": {
        "id": "JLp4FcywJQP3"
      },
      "outputs": [],
      "source": [
        "def color_map(val):\n",
        "  if val == joint_dist['South America'][-1] or val == joint_dist.loc['Type C'][-1]:\n",
        "    color = 'green'\n",
        "    return f'color: {color}'\n",
        "  elif val == joint_dist['South America'][2]:\n",
        "    color = 'blue'\n",
        "    return f'color: {color}'"
      ]
    },
    {
      "cell_type": "code",
      "execution_count": 32,
      "metadata": {
        "colab": {
          "base_uri": "https://localhost:8080/",
          "height": 175
        },
        "id": "HK24nh6NJ_tu",
        "outputId": "8f4aae46-201b-4384-b8bd-53cf0a273fde"
      },
      "outputs": [
        {
          "name": "stderr",
          "output_type": "stream",
          "text": [
            "C:\\Users\\Alireza HR\\AppData\\Local\\Temp\\ipykernel_26804\\1443723260.py:1: FutureWarning: Styler.applymap has been deprecated. Use Styler.map instead.\n",
            "  joint_dist.style.applymap(color_map)\n",
            "C:\\Users\\Alireza HR\\AppData\\Local\\Temp\\ipykernel_26804\\616304183.py:2: FutureWarning: Series.__getitem__ treating keys as positions is deprecated. In a future version, integer keys will always be treated as labels (consistent with DataFrame behavior). To access a value by position, use `ser.iloc[pos]`\n",
            "  if val == joint_dist['South America'][-1] or val == joint_dist.loc['Type C'][-1]:\n",
            "C:\\Users\\Alireza HR\\AppData\\Local\\Temp\\ipykernel_26804\\616304183.py:5: FutureWarning: Series.__getitem__ treating keys as positions is deprecated. In a future version, integer keys will always be treated as labels (consistent with DataFrame behavior). To access a value by position, use `ser.iloc[pos]`\n",
            "  elif val == joint_dist['South America'][2]:\n"
          ]
        },
        {
          "data": {
            "text/html": [
              "<style type=\"text/css\">\n",
              "#T_71d11_row2_col1 {\n",
              "  color: blue;\n",
              "}\n",
              "#T_71d11_row2_col6, #T_71d11_row3_col1 {\n",
              "  color: green;\n",
              "}\n",
              "</style>\n",
              "<table id=\"T_71d11\">\n",
              "  <thead>\n",
              "    <tr>\n",
              "      <th class=\"blank level0\" >&nbsp;</th>\n",
              "      <th id=\"T_71d11_level0_col0\" class=\"col_heading level0 col0\" >North America</th>\n",
              "      <th id=\"T_71d11_level0_col1\" class=\"col_heading level0 col1\" >South America</th>\n",
              "      <th id=\"T_71d11_level0_col2\" class=\"col_heading level0 col2\" >Asia</th>\n",
              "      <th id=\"T_71d11_level0_col3\" class=\"col_heading level0 col3\" >Australia</th>\n",
              "      <th id=\"T_71d11_level0_col4\" class=\"col_heading level0 col4\" >Europe</th>\n",
              "      <th id=\"T_71d11_level0_col5\" class=\"col_heading level0 col5\" >Africa</th>\n",
              "      <th id=\"T_71d11_level0_col6\" class=\"col_heading level0 col6\" >TOTAL</th>\n",
              "    </tr>\n",
              "  </thead>\n",
              "  <tbody>\n",
              "    <tr>\n",
              "      <th id=\"T_71d11_level0_row0\" class=\"row_heading level0 row0\" >Type A</th>\n",
              "      <td id=\"T_71d11_row0_col0\" class=\"data row0 col0\" >0.054000</td>\n",
              "      <td id=\"T_71d11_row0_col1\" class=\"data row0 col1\" >0.043000</td>\n",
              "      <td id=\"T_71d11_row0_col2\" class=\"data row0 col2\" >0.194000</td>\n",
              "      <td id=\"T_71d11_row0_col3\" class=\"data row0 col3\" >0.005000</td>\n",
              "      <td id=\"T_71d11_row0_col4\" class=\"data row0 col4\" >0.065000</td>\n",
              "      <td id=\"T_71d11_row0_col5\" class=\"data row0 col5\" >0.007000</td>\n",
              "      <td id=\"T_71d11_row0_col6\" class=\"data row0 col6\" >0.367000</td>\n",
              "    </tr>\n",
              "    <tr>\n",
              "      <th id=\"T_71d11_level0_row1\" class=\"row_heading level0 row1\" >Type B</th>\n",
              "      <td id=\"T_71d11_row1_col0\" class=\"data row1 col0\" >0.036000</td>\n",
              "      <td id=\"T_71d11_row1_col1\" class=\"data row1 col1\" >0.004000</td>\n",
              "      <td id=\"T_71d11_row1_col2\" class=\"data row1 col2\" >0.018000</td>\n",
              "      <td id=\"T_71d11_row1_col3\" class=\"data row1 col3\" >0.043000</td>\n",
              "      <td id=\"T_71d11_row1_col4\" class=\"data row1 col4\" >0.047000</td>\n",
              "      <td id=\"T_71d11_row1_col5\" class=\"data row1 col5\" >0.025000</td>\n",
              "      <td id=\"T_71d11_row1_col6\" class=\"data row1 col6\" >0.172000</td>\n",
              "    </tr>\n",
              "    <tr>\n",
              "      <th id=\"T_71d11_level0_row2\" class=\"row_heading level0 row2\" >Type C</th>\n",
              "      <td id=\"T_71d11_row2_col0\" class=\"data row2 col0\" >0.032000</td>\n",
              "      <td id=\"T_71d11_row2_col1\" class=\"data row2 col1\" >0.072000</td>\n",
              "      <td id=\"T_71d11_row2_col2\" class=\"data row2 col2\" >0.269000</td>\n",
              "      <td id=\"T_71d11_row2_col3\" class=\"data row2 col3\" >0.050000</td>\n",
              "      <td id=\"T_71d11_row2_col4\" class=\"data row2 col4\" >0.004000</td>\n",
              "      <td id=\"T_71d11_row2_col5\" class=\"data row2 col5\" >0.034000</td>\n",
              "      <td id=\"T_71d11_row2_col6\" class=\"data row2 col6\" >0.461000</td>\n",
              "    </tr>\n",
              "    <tr>\n",
              "      <th id=\"T_71d11_level0_row3\" class=\"row_heading level0 row3\" >TOTAL</th>\n",
              "      <td id=\"T_71d11_row3_col0\" class=\"data row3 col0\" >0.122000</td>\n",
              "      <td id=\"T_71d11_row3_col1\" class=\"data row3 col1\" >0.118000</td>\n",
              "      <td id=\"T_71d11_row3_col2\" class=\"data row3 col2\" >0.480000</td>\n",
              "      <td id=\"T_71d11_row3_col3\" class=\"data row3 col3\" >0.099000</td>\n",
              "      <td id=\"T_71d11_row3_col4\" class=\"data row3 col4\" >0.115000</td>\n",
              "      <td id=\"T_71d11_row3_col5\" class=\"data row3 col5\" >0.066000</td>\n",
              "      <td id=\"T_71d11_row3_col6\" class=\"data row3 col6\" >1.000000</td>\n",
              "    </tr>\n",
              "  </tbody>\n",
              "</table>\n"
            ],
            "text/plain": [
              "<pandas.io.formats.style.Styler at 0x2b4ac9723c0>"
            ]
          },
          "execution_count": 32,
          "metadata": {},
          "output_type": "execute_result"
        }
      ],
      "source": [
        "joint_dist.style.applymap(color_map)"
      ]
    },
    {
      "cell_type": "markdown",
      "metadata": {
        "id": "yqg9CZNKwk5e"
      },
      "source": [
        "Let's compute dependency for another cell"
      ]
    },
    {
      "cell_type": "code",
      "execution_count": 33,
      "metadata": {
        "colab": {
          "base_uri": "https://localhost:8080/"
        },
        "id": "Pdq3YXMvwQ0z",
        "outputId": "20feb439-0ffc-4803-8c64-440178902967"
      },
      "outputs": [
        {
          "name": "stdout",
          "output_type": "stream",
          "text": [
            "They are dependent\n",
            "TypeA intersect Africa: 0.007, typeA: 0.367 * Africa:0.066 = 0.02\n"
          ]
        },
        {
          "name": "stderr",
          "output_type": "stream",
          "text": [
            "C:\\Users\\Alireza HR\\AppData\\Local\\Temp\\ipykernel_26804\\2784321134.py:1: FutureWarning: Series.__getitem__ treating keys as positions is deprecated. In a future version, integer keys will always be treated as labels (consistent with DataFrame behavior). To access a value by position, use `ser.iloc[pos]`\n",
            "  typeA_intersect_Africa = joint_dist['Africa'][0]\n",
            "C:\\Users\\Alireza HR\\AppData\\Local\\Temp\\ipykernel_26804\\2784321134.py:2: FutureWarning: Series.__getitem__ treating keys as positions is deprecated. In a future version, integer keys will always be treated as labels (consistent with DataFrame behavior). To access a value by position, use `ser.iloc[pos]`\n",
            "  typeA = joint_dist.loc['Type A'][-1]\n",
            "C:\\Users\\Alireza HR\\AppData\\Local\\Temp\\ipykernel_26804\\2784321134.py:3: FutureWarning: Series.__getitem__ treating keys as positions is deprecated. In a future version, integer keys will always be treated as labels (consistent with DataFrame behavior). To access a value by position, use `ser.iloc[pos]`\n",
            "  Africa = joint_dist['Africa'][-1]\n"
          ]
        }
      ],
      "source": [
        "typeA_intersect_Africa = joint_dist['Africa'][0]\n",
        "typeA = joint_dist.loc['Type A'][-1]\n",
        "Africa = joint_dist['Africa'][-1]\n",
        "\n",
        "if typeA_intersect_Africa == round(typeA*Africa):\n",
        "  print('They are independent')\n",
        "else:\n",
        "  print('They are dependent')\n",
        "\n",
        "print(f'TypeA intersect Africa: {typeA_intersect_Africa}, typeA: {typeA} * Africa:{Africa} = {round(Africa*typeA, 2)}')"
      ]
    },
    {
      "cell_type": "code",
      "execution_count": 34,
      "metadata": {
        "id": "8p9SzMEBKkpU"
      },
      "outputs": [],
      "source": [
        "def color_map(val):\n",
        "  if val == joint_dist['Africa'][-1] or val == joint_dist.loc['Type A'][-1]:\n",
        "    color = 'green'\n",
        "    return f'color: {color}'\n",
        "  elif val == joint_dist['Africa'][0]:\n",
        "    color = 'blue'\n",
        "    return f'color: {color}'"
      ]
    },
    {
      "cell_type": "code",
      "execution_count": 35,
      "metadata": {
        "colab": {
          "base_uri": "https://localhost:8080/",
          "height": 175
        },
        "id": "LBSidOZbKwHu",
        "outputId": "d0fc4e21-2551-40f2-e4df-d3638612ff4a"
      },
      "outputs": [
        {
          "name": "stderr",
          "output_type": "stream",
          "text": [
            "C:\\Users\\Alireza HR\\AppData\\Local\\Temp\\ipykernel_26804\\1443723260.py:1: FutureWarning: Styler.applymap has been deprecated. Use Styler.map instead.\n",
            "  joint_dist.style.applymap(color_map)\n",
            "C:\\Users\\Alireza HR\\AppData\\Local\\Temp\\ipykernel_26804\\1320757894.py:2: FutureWarning: Series.__getitem__ treating keys as positions is deprecated. In a future version, integer keys will always be treated as labels (consistent with DataFrame behavior). To access a value by position, use `ser.iloc[pos]`\n",
            "  if val == joint_dist['Africa'][-1] or val == joint_dist.loc['Type A'][-1]:\n",
            "C:\\Users\\Alireza HR\\AppData\\Local\\Temp\\ipykernel_26804\\1320757894.py:5: FutureWarning: Series.__getitem__ treating keys as positions is deprecated. In a future version, integer keys will always be treated as labels (consistent with DataFrame behavior). To access a value by position, use `ser.iloc[pos]`\n",
            "  elif val == joint_dist['Africa'][0]:\n"
          ]
        },
        {
          "data": {
            "text/html": [
              "<style type=\"text/css\">\n",
              "#T_c5fc6_row0_col5 {\n",
              "  color: blue;\n",
              "}\n",
              "#T_c5fc6_row0_col6, #T_c5fc6_row3_col5 {\n",
              "  color: green;\n",
              "}\n",
              "</style>\n",
              "<table id=\"T_c5fc6\">\n",
              "  <thead>\n",
              "    <tr>\n",
              "      <th class=\"blank level0\" >&nbsp;</th>\n",
              "      <th id=\"T_c5fc6_level0_col0\" class=\"col_heading level0 col0\" >North America</th>\n",
              "      <th id=\"T_c5fc6_level0_col1\" class=\"col_heading level0 col1\" >South America</th>\n",
              "      <th id=\"T_c5fc6_level0_col2\" class=\"col_heading level0 col2\" >Asia</th>\n",
              "      <th id=\"T_c5fc6_level0_col3\" class=\"col_heading level0 col3\" >Australia</th>\n",
              "      <th id=\"T_c5fc6_level0_col4\" class=\"col_heading level0 col4\" >Europe</th>\n",
              "      <th id=\"T_c5fc6_level0_col5\" class=\"col_heading level0 col5\" >Africa</th>\n",
              "      <th id=\"T_c5fc6_level0_col6\" class=\"col_heading level0 col6\" >TOTAL</th>\n",
              "    </tr>\n",
              "  </thead>\n",
              "  <tbody>\n",
              "    <tr>\n",
              "      <th id=\"T_c5fc6_level0_row0\" class=\"row_heading level0 row0\" >Type A</th>\n",
              "      <td id=\"T_c5fc6_row0_col0\" class=\"data row0 col0\" >0.054000</td>\n",
              "      <td id=\"T_c5fc6_row0_col1\" class=\"data row0 col1\" >0.043000</td>\n",
              "      <td id=\"T_c5fc6_row0_col2\" class=\"data row0 col2\" >0.194000</td>\n",
              "      <td id=\"T_c5fc6_row0_col3\" class=\"data row0 col3\" >0.005000</td>\n",
              "      <td id=\"T_c5fc6_row0_col4\" class=\"data row0 col4\" >0.065000</td>\n",
              "      <td id=\"T_c5fc6_row0_col5\" class=\"data row0 col5\" >0.007000</td>\n",
              "      <td id=\"T_c5fc6_row0_col6\" class=\"data row0 col6\" >0.367000</td>\n",
              "    </tr>\n",
              "    <tr>\n",
              "      <th id=\"T_c5fc6_level0_row1\" class=\"row_heading level0 row1\" >Type B</th>\n",
              "      <td id=\"T_c5fc6_row1_col0\" class=\"data row1 col0\" >0.036000</td>\n",
              "      <td id=\"T_c5fc6_row1_col1\" class=\"data row1 col1\" >0.004000</td>\n",
              "      <td id=\"T_c5fc6_row1_col2\" class=\"data row1 col2\" >0.018000</td>\n",
              "      <td id=\"T_c5fc6_row1_col3\" class=\"data row1 col3\" >0.043000</td>\n",
              "      <td id=\"T_c5fc6_row1_col4\" class=\"data row1 col4\" >0.047000</td>\n",
              "      <td id=\"T_c5fc6_row1_col5\" class=\"data row1 col5\" >0.025000</td>\n",
              "      <td id=\"T_c5fc6_row1_col6\" class=\"data row1 col6\" >0.172000</td>\n",
              "    </tr>\n",
              "    <tr>\n",
              "      <th id=\"T_c5fc6_level0_row2\" class=\"row_heading level0 row2\" >Type C</th>\n",
              "      <td id=\"T_c5fc6_row2_col0\" class=\"data row2 col0\" >0.032000</td>\n",
              "      <td id=\"T_c5fc6_row2_col1\" class=\"data row2 col1\" >0.072000</td>\n",
              "      <td id=\"T_c5fc6_row2_col2\" class=\"data row2 col2\" >0.269000</td>\n",
              "      <td id=\"T_c5fc6_row2_col3\" class=\"data row2 col3\" >0.050000</td>\n",
              "      <td id=\"T_c5fc6_row2_col4\" class=\"data row2 col4\" >0.004000</td>\n",
              "      <td id=\"T_c5fc6_row2_col5\" class=\"data row2 col5\" >0.034000</td>\n",
              "      <td id=\"T_c5fc6_row2_col6\" class=\"data row2 col6\" >0.461000</td>\n",
              "    </tr>\n",
              "    <tr>\n",
              "      <th id=\"T_c5fc6_level0_row3\" class=\"row_heading level0 row3\" >TOTAL</th>\n",
              "      <td id=\"T_c5fc6_row3_col0\" class=\"data row3 col0\" >0.122000</td>\n",
              "      <td id=\"T_c5fc6_row3_col1\" class=\"data row3 col1\" >0.118000</td>\n",
              "      <td id=\"T_c5fc6_row3_col2\" class=\"data row3 col2\" >0.480000</td>\n",
              "      <td id=\"T_c5fc6_row3_col3\" class=\"data row3 col3\" >0.099000</td>\n",
              "      <td id=\"T_c5fc6_row3_col4\" class=\"data row3 col4\" >0.115000</td>\n",
              "      <td id=\"T_c5fc6_row3_col5\" class=\"data row3 col5\" >0.066000</td>\n",
              "      <td id=\"T_c5fc6_row3_col6\" class=\"data row3 col6\" >1.000000</td>\n",
              "    </tr>\n",
              "  </tbody>\n",
              "</table>\n"
            ],
            "text/plain": [
              "<pandas.io.formats.style.Styler at 0x2b4ac9ccbf0>"
            ]
          },
          "execution_count": 35,
          "metadata": {},
          "output_type": "execute_result"
        }
      ],
      "source": [
        "joint_dist.style.applymap(color_map)"
      ]
    },
    {
      "cell_type": "markdown",
      "metadata": {
        "id": "C4Yp7Kq_K5SG"
      },
      "source": [
        "And that's it :))"
      ]
    }
  ],
  "metadata": {
    "colab": {
      "provenance": []
    },
    "kernelspec": {
      "display_name": "Python 3",
      "name": "python3"
    },
    "language_info": {
      "codemirror_mode": {
        "name": "ipython",
        "version": 3
      },
      "file_extension": ".py",
      "mimetype": "text/x-python",
      "name": "python",
      "nbconvert_exporter": "python",
      "pygments_lexer": "ipython3",
      "version": "3.12.2"
    }
  },
  "nbformat": 4,
  "nbformat_minor": 0
}
