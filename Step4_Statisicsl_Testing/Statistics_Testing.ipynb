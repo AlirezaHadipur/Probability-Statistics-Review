{
  "nbformat": 4,
  "nbformat_minor": 0,
  "metadata": {
    "colab": {
      "provenance": []
    },
    "kernelspec": {
      "name": "python3",
      "display_name": "Python 3"
    },
    "language_info": {
      "name": "python"
    }
  },
  "cells": [
    {
      "cell_type": "markdown",
      "source": [
        "**Table of Contents**\n",
        "\n",
        "---"
      ],
      "metadata": {
        "id": "COPtuzfzATKq"
      }
    },
    {
      "cell_type": "markdown",
      "source": [
        ">[Description](#scrollTo=6e2bV6cCAhlo)\n",
        "\n",
        ">[Import Libraries](#scrollTo=uWMGv_8w42Rs)\n",
        "\n",
        ">[Fisher Exact Test](#scrollTo=lLblquBtkW6_)\n",
        "\n",
        ">>[Test 1](#scrollTo=c83YFspP_E1A)\n",
        "\n",
        ">>[Test 2](#scrollTo=TrY02snJ_IyP)\n",
        "\n",
        ">[Chi-Squared Test](#scrollTo=cJZsdtAZBkW4)\n",
        "\n",
        ">>[Test 1](#scrollTo=R27KkbitaLBQ)\n",
        "\n",
        ">>[Test 2](#scrollTo=VGZX12zEow_K)\n",
        "\n",
        ">[T-test](#scrollTo=H5DfkMCWquWG)\n",
        "\n",
        ">>[Test 1](#scrollTo=i-0teKSYvlRd)\n",
        "\n",
        ">>[Test 2](#scrollTo=LzEPZinWvqKa)\n",
        "\n",
        ">>[Real-world Example](#scrollTo=oKQCBhQo0fnz)\n",
        "\n"
      ],
      "metadata": {
        "colab_type": "toc",
        "id": "MAnCRapT4hCU"
      }
    },
    {
      "cell_type": "markdown",
      "source": [
        "# Description\n",
        "\n",
        "---"
      ],
      "metadata": {
        "id": "6e2bV6cCAhlo"
      }
    },
    {
      "cell_type": "markdown",
      "source": [
        "In this notebook, I want to work with some of the Important parametric statistical tests including the Fisher Exact Test, Chi-squared Test, and T-test.\n",
        "I learned about these tests theoretically and now I want to practice these tests in Python."
      ],
      "metadata": {
        "id": "bgCyIf17Al_W"
      }
    },
    {
      "cell_type": "markdown",
      "source": [
        "# Import Libraries\n",
        "\n",
        "---"
      ],
      "metadata": {
        "id": "uWMGv_8w42Rs"
      }
    },
    {
      "cell_type": "code",
      "execution_count": 1,
      "metadata": {
        "id": "besp26bccBkS"
      },
      "outputs": [],
      "source": [
        "import numpy as np\n",
        "import pandas as pd\n",
        "import matplotlib.pyplot as plt\n",
        "import seaborn as sns\n",
        "import scipy.stats as stats\n",
        "from math import comb"
      ]
    },
    {
      "cell_type": "markdown",
      "source": [
        "# Fisher Exact Test\n",
        "\n",
        "---\n",
        "\n"
      ],
      "metadata": {
        "id": "lLblquBtkW6_"
      }
    },
    {
      "cell_type": "markdown",
      "source": [
        "## Test 1"
      ],
      "metadata": {
        "id": "c83YFspP_E1A"
      }
    },
    {
      "cell_type": "markdown",
      "source": [
        "As a first test, let's consider that we have 2 types of drug and we want to find out are their impact on people are the same or not."
      ],
      "metadata": {
        "id": "qfN7t16UCdlY"
      }
    },
    {
      "cell_type": "code",
      "source": [
        "data = [\n",
        "       [350, 85],\n",
        "       [330, 78]\n",
        "       ]\n",
        "index = ['Drug A', 'Drug B']\n",
        "columns = ['Cured', 'Not Cured']\n",
        "\n",
        "dataset = pd.DataFrame(data, index=index, columns=columns)\n",
        "dataset"
      ],
      "metadata": {
        "id": "_boea2oOjq4_",
        "colab": {
          "base_uri": "https://localhost:8080/",
          "height": 112
        },
        "outputId": "346bb3ae-d1fe-4408-f48e-9460be274681"
      },
      "execution_count": 2,
      "outputs": [
        {
          "output_type": "execute_result",
          "data": {
            "text/plain": [
              "        Cured  Not Cured\n",
              "Drug A    350         85\n",
              "Drug B    330         78"
            ],
            "text/html": [
              "\n",
              "  <div id=\"df-d02fa8bb-976f-4f5e-8f95-7768e802a9bf\" class=\"colab-df-container\">\n",
              "    <div>\n",
              "<style scoped>\n",
              "    .dataframe tbody tr th:only-of-type {\n",
              "        vertical-align: middle;\n",
              "    }\n",
              "\n",
              "    .dataframe tbody tr th {\n",
              "        vertical-align: top;\n",
              "    }\n",
              "\n",
              "    .dataframe thead th {\n",
              "        text-align: right;\n",
              "    }\n",
              "</style>\n",
              "<table border=\"1\" class=\"dataframe\">\n",
              "  <thead>\n",
              "    <tr style=\"text-align: right;\">\n",
              "      <th></th>\n",
              "      <th>Cured</th>\n",
              "      <th>Not Cured</th>\n",
              "    </tr>\n",
              "  </thead>\n",
              "  <tbody>\n",
              "    <tr>\n",
              "      <th>Drug A</th>\n",
              "      <td>350</td>\n",
              "      <td>85</td>\n",
              "    </tr>\n",
              "    <tr>\n",
              "      <th>Drug B</th>\n",
              "      <td>330</td>\n",
              "      <td>78</td>\n",
              "    </tr>\n",
              "  </tbody>\n",
              "</table>\n",
              "</div>\n",
              "    <div class=\"colab-df-buttons\">\n",
              "\n",
              "  <div class=\"colab-df-container\">\n",
              "    <button class=\"colab-df-convert\" onclick=\"convertToInteractive('df-d02fa8bb-976f-4f5e-8f95-7768e802a9bf')\"\n",
              "            title=\"Convert this dataframe to an interactive table.\"\n",
              "            style=\"display:none;\">\n",
              "\n",
              "  <svg xmlns=\"http://www.w3.org/2000/svg\" height=\"24px\" viewBox=\"0 -960 960 960\">\n",
              "    <path d=\"M120-120v-720h720v720H120Zm60-500h600v-160H180v160Zm220 220h160v-160H400v160Zm0 220h160v-160H400v160ZM180-400h160v-160H180v160Zm440 0h160v-160H620v160ZM180-180h160v-160H180v160Zm440 0h160v-160H620v160Z\"/>\n",
              "  </svg>\n",
              "    </button>\n",
              "\n",
              "  <style>\n",
              "    .colab-df-container {\n",
              "      display:flex;\n",
              "      gap: 12px;\n",
              "    }\n",
              "\n",
              "    .colab-df-convert {\n",
              "      background-color: #E8F0FE;\n",
              "      border: none;\n",
              "      border-radius: 50%;\n",
              "      cursor: pointer;\n",
              "      display: none;\n",
              "      fill: #1967D2;\n",
              "      height: 32px;\n",
              "      padding: 0 0 0 0;\n",
              "      width: 32px;\n",
              "    }\n",
              "\n",
              "    .colab-df-convert:hover {\n",
              "      background-color: #E2EBFA;\n",
              "      box-shadow: 0px 1px 2px rgba(60, 64, 67, 0.3), 0px 1px 3px 1px rgba(60, 64, 67, 0.15);\n",
              "      fill: #174EA6;\n",
              "    }\n",
              "\n",
              "    .colab-df-buttons div {\n",
              "      margin-bottom: 4px;\n",
              "    }\n",
              "\n",
              "    [theme=dark] .colab-df-convert {\n",
              "      background-color: #3B4455;\n",
              "      fill: #D2E3FC;\n",
              "    }\n",
              "\n",
              "    [theme=dark] .colab-df-convert:hover {\n",
              "      background-color: #434B5C;\n",
              "      box-shadow: 0px 1px 3px 1px rgba(0, 0, 0, 0.15);\n",
              "      filter: drop-shadow(0px 1px 2px rgba(0, 0, 0, 0.3));\n",
              "      fill: #FFFFFF;\n",
              "    }\n",
              "  </style>\n",
              "\n",
              "    <script>\n",
              "      const buttonEl =\n",
              "        document.querySelector('#df-d02fa8bb-976f-4f5e-8f95-7768e802a9bf button.colab-df-convert');\n",
              "      buttonEl.style.display =\n",
              "        google.colab.kernel.accessAllowed ? 'block' : 'none';\n",
              "\n",
              "      async function convertToInteractive(key) {\n",
              "        const element = document.querySelector('#df-d02fa8bb-976f-4f5e-8f95-7768e802a9bf');\n",
              "        const dataTable =\n",
              "          await google.colab.kernel.invokeFunction('convertToInteractive',\n",
              "                                                    [key], {});\n",
              "        if (!dataTable) return;\n",
              "\n",
              "        const docLinkHtml = 'Like what you see? Visit the ' +\n",
              "          '<a target=\"_blank\" href=https://colab.research.google.com/notebooks/data_table.ipynb>data table notebook</a>'\n",
              "          + ' to learn more about interactive tables.';\n",
              "        element.innerHTML = '';\n",
              "        dataTable['output_type'] = 'display_data';\n",
              "        await google.colab.output.renderOutput(dataTable, element);\n",
              "        const docLink = document.createElement('div');\n",
              "        docLink.innerHTML = docLinkHtml;\n",
              "        element.appendChild(docLink);\n",
              "      }\n",
              "    </script>\n",
              "  </div>\n",
              "\n",
              "\n",
              "<div id=\"df-4e50190e-df6a-447c-944a-9ffcdfa2aedd\">\n",
              "  <button class=\"colab-df-quickchart\" onclick=\"quickchart('df-4e50190e-df6a-447c-944a-9ffcdfa2aedd')\"\n",
              "            title=\"Suggest charts\"\n",
              "            style=\"display:none;\">\n",
              "\n",
              "<svg xmlns=\"http://www.w3.org/2000/svg\" height=\"24px\"viewBox=\"0 0 24 24\"\n",
              "     width=\"24px\">\n",
              "    <g>\n",
              "        <path d=\"M19 3H5c-1.1 0-2 .9-2 2v14c0 1.1.9 2 2 2h14c1.1 0 2-.9 2-2V5c0-1.1-.9-2-2-2zM9 17H7v-7h2v7zm4 0h-2V7h2v10zm4 0h-2v-4h2v4z\"/>\n",
              "    </g>\n",
              "</svg>\n",
              "  </button>\n",
              "\n",
              "<style>\n",
              "  .colab-df-quickchart {\n",
              "      --bg-color: #E8F0FE;\n",
              "      --fill-color: #1967D2;\n",
              "      --hover-bg-color: #E2EBFA;\n",
              "      --hover-fill-color: #174EA6;\n",
              "      --disabled-fill-color: #AAA;\n",
              "      --disabled-bg-color: #DDD;\n",
              "  }\n",
              "\n",
              "  [theme=dark] .colab-df-quickchart {\n",
              "      --bg-color: #3B4455;\n",
              "      --fill-color: #D2E3FC;\n",
              "      --hover-bg-color: #434B5C;\n",
              "      --hover-fill-color: #FFFFFF;\n",
              "      --disabled-bg-color: #3B4455;\n",
              "      --disabled-fill-color: #666;\n",
              "  }\n",
              "\n",
              "  .colab-df-quickchart {\n",
              "    background-color: var(--bg-color);\n",
              "    border: none;\n",
              "    border-radius: 50%;\n",
              "    cursor: pointer;\n",
              "    display: none;\n",
              "    fill: var(--fill-color);\n",
              "    height: 32px;\n",
              "    padding: 0;\n",
              "    width: 32px;\n",
              "  }\n",
              "\n",
              "  .colab-df-quickchart:hover {\n",
              "    background-color: var(--hover-bg-color);\n",
              "    box-shadow: 0 1px 2px rgba(60, 64, 67, 0.3), 0 1px 3px 1px rgba(60, 64, 67, 0.15);\n",
              "    fill: var(--button-hover-fill-color);\n",
              "  }\n",
              "\n",
              "  .colab-df-quickchart-complete:disabled,\n",
              "  .colab-df-quickchart-complete:disabled:hover {\n",
              "    background-color: var(--disabled-bg-color);\n",
              "    fill: var(--disabled-fill-color);\n",
              "    box-shadow: none;\n",
              "  }\n",
              "\n",
              "  .colab-df-spinner {\n",
              "    border: 2px solid var(--fill-color);\n",
              "    border-color: transparent;\n",
              "    border-bottom-color: var(--fill-color);\n",
              "    animation:\n",
              "      spin 1s steps(1) infinite;\n",
              "  }\n",
              "\n",
              "  @keyframes spin {\n",
              "    0% {\n",
              "      border-color: transparent;\n",
              "      border-bottom-color: var(--fill-color);\n",
              "      border-left-color: var(--fill-color);\n",
              "    }\n",
              "    20% {\n",
              "      border-color: transparent;\n",
              "      border-left-color: var(--fill-color);\n",
              "      border-top-color: var(--fill-color);\n",
              "    }\n",
              "    30% {\n",
              "      border-color: transparent;\n",
              "      border-left-color: var(--fill-color);\n",
              "      border-top-color: var(--fill-color);\n",
              "      border-right-color: var(--fill-color);\n",
              "    }\n",
              "    40% {\n",
              "      border-color: transparent;\n",
              "      border-right-color: var(--fill-color);\n",
              "      border-top-color: var(--fill-color);\n",
              "    }\n",
              "    60% {\n",
              "      border-color: transparent;\n",
              "      border-right-color: var(--fill-color);\n",
              "    }\n",
              "    80% {\n",
              "      border-color: transparent;\n",
              "      border-right-color: var(--fill-color);\n",
              "      border-bottom-color: var(--fill-color);\n",
              "    }\n",
              "    90% {\n",
              "      border-color: transparent;\n",
              "      border-bottom-color: var(--fill-color);\n",
              "    }\n",
              "  }\n",
              "</style>\n",
              "\n",
              "  <script>\n",
              "    async function quickchart(key) {\n",
              "      const quickchartButtonEl =\n",
              "        document.querySelector('#' + key + ' button');\n",
              "      quickchartButtonEl.disabled = true;  // To prevent multiple clicks.\n",
              "      quickchartButtonEl.classList.add('colab-df-spinner');\n",
              "      try {\n",
              "        const charts = await google.colab.kernel.invokeFunction(\n",
              "            'suggestCharts', [key], {});\n",
              "      } catch (error) {\n",
              "        console.error('Error during call to suggestCharts:', error);\n",
              "      }\n",
              "      quickchartButtonEl.classList.remove('colab-df-spinner');\n",
              "      quickchartButtonEl.classList.add('colab-df-quickchart-complete');\n",
              "    }\n",
              "    (() => {\n",
              "      let quickchartButtonEl =\n",
              "        document.querySelector('#df-4e50190e-df6a-447c-944a-9ffcdfa2aedd button');\n",
              "      quickchartButtonEl.style.display =\n",
              "        google.colab.kernel.accessAllowed ? 'block' : 'none';\n",
              "    })();\n",
              "  </script>\n",
              "</div>\n",
              "    </div>\n",
              "  </div>\n"
            ],
            "application/vnd.google.colaboratory.intrinsic+json": {
              "type": "dataframe",
              "variable_name": "dataset",
              "summary": "{\n  \"name\": \"dataset\",\n  \"rows\": 2,\n  \"fields\": [\n    {\n      \"column\": \"Cured\",\n      \"properties\": {\n        \"dtype\": \"number\",\n        \"std\": 14,\n        \"min\": 330,\n        \"max\": 350,\n        \"num_unique_values\": 2,\n        \"samples\": [\n          330,\n          350\n        ],\n        \"semantic_type\": \"\",\n        \"description\": \"\"\n      }\n    },\n    {\n      \"column\": \"Not Cured\",\n      \"properties\": {\n        \"dtype\": \"number\",\n        \"std\": 4,\n        \"min\": 78,\n        \"max\": 85,\n        \"num_unique_values\": 2,\n        \"samples\": [\n          78,\n          85\n        ],\n        \"semantic_type\": \"\",\n        \"description\": \"\"\n      }\n    }\n  ]\n}"
            }
          },
          "metadata": {},
          "execution_count": 2
        }
      ]
    },
    {
      "cell_type": "markdown",
      "source": [
        "We have this table based on the sample that we get from the population. now we want to compare the two drugs using this limited sample."
      ],
      "metadata": {
        "id": "OMWax-xHDI7f"
      }
    },
    {
      "cell_type": "markdown",
      "source": [
        "**Null Hypothesis(H0): There is no difference between two drugs(columns and rows are independent)**\n",
        "\n",
        "**Alternative Hypothesis(H1): two drugs are different(columns and rows are dependent)**"
      ],
      "metadata": {
        "id": "crpeEjVNIL9E"
      }
    },
    {
      "cell_type": "code",
      "source": [
        "cured_A = dataset['Cured']['Drug A'] / (dataset['Cured']['Drug A'] + dataset['Not Cured']['Drug A'])\n",
        "cured_B = dataset['Cured']['Drug B'] / (dataset['Cured']['Drug B'] + dataset['Not Cured']['Drug B'])\n",
        "print(f'{round(cured_A * 100, 2)}% of Drug A and {round(cured_B * 100,2)}% of Drug B did a good job(patients cured)')"
      ],
      "metadata": {
        "colab": {
          "base_uri": "https://localhost:8080/"
        },
        "id": "Knq36BPxljTk",
        "outputId": "da09bc9a-fb47-45d5-c9df-a80e87b7bdda"
      },
      "execution_count": 3,
      "outputs": [
        {
          "output_type": "stream",
          "name": "stdout",
          "text": [
            "80.46% of Drug A and 80.88% of Drug B did a good job(patients cured)\n"
          ]
        }
      ]
    },
    {
      "cell_type": "markdown",
      "source": [
        "They seem pretty close. but we need evidence."
      ],
      "metadata": {
        "id": "krfDvMfUEESI"
      }
    },
    {
      "cell_type": "code",
      "source": [
        "a = dataset['Cured']['Drug A']\n",
        "b = dataset['Cured']['Drug B']\n",
        "c = dataset['Not Cured']['Drug A']\n",
        "d = dataset['Not Cured']['Drug B']\n",
        "print(f'a={a}, b={b}, c={c}, d={d}')"
      ],
      "metadata": {
        "colab": {
          "base_uri": "https://localhost:8080/"
        },
        "id": "RV_WvIE5mtXx",
        "outputId": "0f4be4b6-361d-49c7-8f65-f6ac7b5f498f"
      },
      "execution_count": 4,
      "outputs": [
        {
          "output_type": "stream",
          "name": "stdout",
          "text": [
            "a=350, b=330, c=85, d=78\n"
          ]
        }
      ]
    },
    {
      "cell_type": "code",
      "source": [
        "p_value = (comb(a+c, a) * comb(b+d, b)) / comb(a+b+c+d, a+b)\n",
        "sl = 0.05\n",
        "print(f'The significant level is {sl} which with a P-value less than {sl}, H0 would be rejected')\n",
        "if round(p_value, 3) < 0.050:\n",
        "  print(f'The P-value is: {round(p_value, 3)}, so we CAN reject the H0 hypothesis')\n",
        "else :\n",
        "  print(f'The P-value is: {round(p_value, 3)}, so we CANNOT reject the H0 hypothesis')"
      ],
      "metadata": {
        "colab": {
          "base_uri": "https://localhost:8080/"
        },
        "id": "YxkUp7tPpT9E",
        "outputId": "1c50836f-7e5d-4ccc-e3ce-5ee9372a0fc8"
      },
      "execution_count": 6,
      "outputs": [
        {
          "output_type": "stream",
          "name": "stdout",
          "text": [
            "The significant level is 0.05 which with a P-value less than 0.05, H0 would be rejected\n",
            "The P-value is: 0.069, so we CANNOT reject the H0 hypothesis\n"
          ]
        }
      ]
    },
    {
      "cell_type": "markdown",
      "source": [
        "**Conclusion: We couldn't reject null hypothesis(H0), so there is no difference between these two drugs**"
      ],
      "metadata": {
        "id": "EDALB4RLH6mO"
      }
    },
    {
      "cell_type": "markdown",
      "source": [
        "## Test 2"
      ],
      "metadata": {
        "id": "TrY02snJ_IyP"
      }
    },
    {
      "cell_type": "markdown",
      "source": [
        "In this test, consider that we want to update a website to increase the click-through rate on a particular ad. In other words, we want to see if updating the website is worth it."
      ],
      "metadata": {
        "id": "_4Ac4I8nGVR-"
      }
    },
    {
      "cell_type": "code",
      "source": [
        "data = [\n",
        "      [460, 200],\n",
        "      [370, 130]\n",
        "]\n",
        "index = ['Stabel Version', 'New Update']\n",
        "column = ['Click', 'Not Click']\n",
        "dataset2 = pd.DataFrame(data, index=index, columns=column)\n",
        "dataset2"
      ],
      "metadata": {
        "colab": {
          "base_uri": "https://localhost:8080/",
          "height": 112
        },
        "id": "NFaJd477_AIY",
        "outputId": "e817005a-c529-4748-ca0e-74deeaaf694b"
      },
      "execution_count": 7,
      "outputs": [
        {
          "output_type": "execute_result",
          "data": {
            "text/plain": [
              "                Click  Not Click\n",
              "Stabel Version    460        200\n",
              "New Update        370        130"
            ],
            "text/html": [
              "\n",
              "  <div id=\"df-0bb21a94-7627-48ee-9a8d-6fdcf58489b3\" class=\"colab-df-container\">\n",
              "    <div>\n",
              "<style scoped>\n",
              "    .dataframe tbody tr th:only-of-type {\n",
              "        vertical-align: middle;\n",
              "    }\n",
              "\n",
              "    .dataframe tbody tr th {\n",
              "        vertical-align: top;\n",
              "    }\n",
              "\n",
              "    .dataframe thead th {\n",
              "        text-align: right;\n",
              "    }\n",
              "</style>\n",
              "<table border=\"1\" class=\"dataframe\">\n",
              "  <thead>\n",
              "    <tr style=\"text-align: right;\">\n",
              "      <th></th>\n",
              "      <th>Click</th>\n",
              "      <th>Not Click</th>\n",
              "    </tr>\n",
              "  </thead>\n",
              "  <tbody>\n",
              "    <tr>\n",
              "      <th>Stabel Version</th>\n",
              "      <td>460</td>\n",
              "      <td>200</td>\n",
              "    </tr>\n",
              "    <tr>\n",
              "      <th>New Update</th>\n",
              "      <td>370</td>\n",
              "      <td>130</td>\n",
              "    </tr>\n",
              "  </tbody>\n",
              "</table>\n",
              "</div>\n",
              "    <div class=\"colab-df-buttons\">\n",
              "\n",
              "  <div class=\"colab-df-container\">\n",
              "    <button class=\"colab-df-convert\" onclick=\"convertToInteractive('df-0bb21a94-7627-48ee-9a8d-6fdcf58489b3')\"\n",
              "            title=\"Convert this dataframe to an interactive table.\"\n",
              "            style=\"display:none;\">\n",
              "\n",
              "  <svg xmlns=\"http://www.w3.org/2000/svg\" height=\"24px\" viewBox=\"0 -960 960 960\">\n",
              "    <path d=\"M120-120v-720h720v720H120Zm60-500h600v-160H180v160Zm220 220h160v-160H400v160Zm0 220h160v-160H400v160ZM180-400h160v-160H180v160Zm440 0h160v-160H620v160ZM180-180h160v-160H180v160Zm440 0h160v-160H620v160Z\"/>\n",
              "  </svg>\n",
              "    </button>\n",
              "\n",
              "  <style>\n",
              "    .colab-df-container {\n",
              "      display:flex;\n",
              "      gap: 12px;\n",
              "    }\n",
              "\n",
              "    .colab-df-convert {\n",
              "      background-color: #E8F0FE;\n",
              "      border: none;\n",
              "      border-radius: 50%;\n",
              "      cursor: pointer;\n",
              "      display: none;\n",
              "      fill: #1967D2;\n",
              "      height: 32px;\n",
              "      padding: 0 0 0 0;\n",
              "      width: 32px;\n",
              "    }\n",
              "\n",
              "    .colab-df-convert:hover {\n",
              "      background-color: #E2EBFA;\n",
              "      box-shadow: 0px 1px 2px rgba(60, 64, 67, 0.3), 0px 1px 3px 1px rgba(60, 64, 67, 0.15);\n",
              "      fill: #174EA6;\n",
              "    }\n",
              "\n",
              "    .colab-df-buttons div {\n",
              "      margin-bottom: 4px;\n",
              "    }\n",
              "\n",
              "    [theme=dark] .colab-df-convert {\n",
              "      background-color: #3B4455;\n",
              "      fill: #D2E3FC;\n",
              "    }\n",
              "\n",
              "    [theme=dark] .colab-df-convert:hover {\n",
              "      background-color: #434B5C;\n",
              "      box-shadow: 0px 1px 3px 1px rgba(0, 0, 0, 0.15);\n",
              "      filter: drop-shadow(0px 1px 2px rgba(0, 0, 0, 0.3));\n",
              "      fill: #FFFFFF;\n",
              "    }\n",
              "  </style>\n",
              "\n",
              "    <script>\n",
              "      const buttonEl =\n",
              "        document.querySelector('#df-0bb21a94-7627-48ee-9a8d-6fdcf58489b3 button.colab-df-convert');\n",
              "      buttonEl.style.display =\n",
              "        google.colab.kernel.accessAllowed ? 'block' : 'none';\n",
              "\n",
              "      async function convertToInteractive(key) {\n",
              "        const element = document.querySelector('#df-0bb21a94-7627-48ee-9a8d-6fdcf58489b3');\n",
              "        const dataTable =\n",
              "          await google.colab.kernel.invokeFunction('convertToInteractive',\n",
              "                                                    [key], {});\n",
              "        if (!dataTable) return;\n",
              "\n",
              "        const docLinkHtml = 'Like what you see? Visit the ' +\n",
              "          '<a target=\"_blank\" href=https://colab.research.google.com/notebooks/data_table.ipynb>data table notebook</a>'\n",
              "          + ' to learn more about interactive tables.';\n",
              "        element.innerHTML = '';\n",
              "        dataTable['output_type'] = 'display_data';\n",
              "        await google.colab.output.renderOutput(dataTable, element);\n",
              "        const docLink = document.createElement('div');\n",
              "        docLink.innerHTML = docLinkHtml;\n",
              "        element.appendChild(docLink);\n",
              "      }\n",
              "    </script>\n",
              "  </div>\n",
              "\n",
              "\n",
              "<div id=\"df-f0d61424-1058-4998-98b9-59e6706c27c8\">\n",
              "  <button class=\"colab-df-quickchart\" onclick=\"quickchart('df-f0d61424-1058-4998-98b9-59e6706c27c8')\"\n",
              "            title=\"Suggest charts\"\n",
              "            style=\"display:none;\">\n",
              "\n",
              "<svg xmlns=\"http://www.w3.org/2000/svg\" height=\"24px\"viewBox=\"0 0 24 24\"\n",
              "     width=\"24px\">\n",
              "    <g>\n",
              "        <path d=\"M19 3H5c-1.1 0-2 .9-2 2v14c0 1.1.9 2 2 2h14c1.1 0 2-.9 2-2V5c0-1.1-.9-2-2-2zM9 17H7v-7h2v7zm4 0h-2V7h2v10zm4 0h-2v-4h2v4z\"/>\n",
              "    </g>\n",
              "</svg>\n",
              "  </button>\n",
              "\n",
              "<style>\n",
              "  .colab-df-quickchart {\n",
              "      --bg-color: #E8F0FE;\n",
              "      --fill-color: #1967D2;\n",
              "      --hover-bg-color: #E2EBFA;\n",
              "      --hover-fill-color: #174EA6;\n",
              "      --disabled-fill-color: #AAA;\n",
              "      --disabled-bg-color: #DDD;\n",
              "  }\n",
              "\n",
              "  [theme=dark] .colab-df-quickchart {\n",
              "      --bg-color: #3B4455;\n",
              "      --fill-color: #D2E3FC;\n",
              "      --hover-bg-color: #434B5C;\n",
              "      --hover-fill-color: #FFFFFF;\n",
              "      --disabled-bg-color: #3B4455;\n",
              "      --disabled-fill-color: #666;\n",
              "  }\n",
              "\n",
              "  .colab-df-quickchart {\n",
              "    background-color: var(--bg-color);\n",
              "    border: none;\n",
              "    border-radius: 50%;\n",
              "    cursor: pointer;\n",
              "    display: none;\n",
              "    fill: var(--fill-color);\n",
              "    height: 32px;\n",
              "    padding: 0;\n",
              "    width: 32px;\n",
              "  }\n",
              "\n",
              "  .colab-df-quickchart:hover {\n",
              "    background-color: var(--hover-bg-color);\n",
              "    box-shadow: 0 1px 2px rgba(60, 64, 67, 0.3), 0 1px 3px 1px rgba(60, 64, 67, 0.15);\n",
              "    fill: var(--button-hover-fill-color);\n",
              "  }\n",
              "\n",
              "  .colab-df-quickchart-complete:disabled,\n",
              "  .colab-df-quickchart-complete:disabled:hover {\n",
              "    background-color: var(--disabled-bg-color);\n",
              "    fill: var(--disabled-fill-color);\n",
              "    box-shadow: none;\n",
              "  }\n",
              "\n",
              "  .colab-df-spinner {\n",
              "    border: 2px solid var(--fill-color);\n",
              "    border-color: transparent;\n",
              "    border-bottom-color: var(--fill-color);\n",
              "    animation:\n",
              "      spin 1s steps(1) infinite;\n",
              "  }\n",
              "\n",
              "  @keyframes spin {\n",
              "    0% {\n",
              "      border-color: transparent;\n",
              "      border-bottom-color: var(--fill-color);\n",
              "      border-left-color: var(--fill-color);\n",
              "    }\n",
              "    20% {\n",
              "      border-color: transparent;\n",
              "      border-left-color: var(--fill-color);\n",
              "      border-top-color: var(--fill-color);\n",
              "    }\n",
              "    30% {\n",
              "      border-color: transparent;\n",
              "      border-left-color: var(--fill-color);\n",
              "      border-top-color: var(--fill-color);\n",
              "      border-right-color: var(--fill-color);\n",
              "    }\n",
              "    40% {\n",
              "      border-color: transparent;\n",
              "      border-right-color: var(--fill-color);\n",
              "      border-top-color: var(--fill-color);\n",
              "    }\n",
              "    60% {\n",
              "      border-color: transparent;\n",
              "      border-right-color: var(--fill-color);\n",
              "    }\n",
              "    80% {\n",
              "      border-color: transparent;\n",
              "      border-right-color: var(--fill-color);\n",
              "      border-bottom-color: var(--fill-color);\n",
              "    }\n",
              "    90% {\n",
              "      border-color: transparent;\n",
              "      border-bottom-color: var(--fill-color);\n",
              "    }\n",
              "  }\n",
              "</style>\n",
              "\n",
              "  <script>\n",
              "    async function quickchart(key) {\n",
              "      const quickchartButtonEl =\n",
              "        document.querySelector('#' + key + ' button');\n",
              "      quickchartButtonEl.disabled = true;  // To prevent multiple clicks.\n",
              "      quickchartButtonEl.classList.add('colab-df-spinner');\n",
              "      try {\n",
              "        const charts = await google.colab.kernel.invokeFunction(\n",
              "            'suggestCharts', [key], {});\n",
              "      } catch (error) {\n",
              "        console.error('Error during call to suggestCharts:', error);\n",
              "      }\n",
              "      quickchartButtonEl.classList.remove('colab-df-spinner');\n",
              "      quickchartButtonEl.classList.add('colab-df-quickchart-complete');\n",
              "    }\n",
              "    (() => {\n",
              "      let quickchartButtonEl =\n",
              "        document.querySelector('#df-f0d61424-1058-4998-98b9-59e6706c27c8 button');\n",
              "      quickchartButtonEl.style.display =\n",
              "        google.colab.kernel.accessAllowed ? 'block' : 'none';\n",
              "    })();\n",
              "  </script>\n",
              "</div>\n",
              "    </div>\n",
              "  </div>\n"
            ],
            "application/vnd.google.colaboratory.intrinsic+json": {
              "type": "dataframe",
              "variable_name": "dataset2",
              "summary": "{\n  \"name\": \"dataset2\",\n  \"rows\": 2,\n  \"fields\": [\n    {\n      \"column\": \"Click\",\n      \"properties\": {\n        \"dtype\": \"number\",\n        \"std\": 63,\n        \"min\": 370,\n        \"max\": 460,\n        \"num_unique_values\": 2,\n        \"samples\": [\n          370,\n          460\n        ],\n        \"semantic_type\": \"\",\n        \"description\": \"\"\n      }\n    },\n    {\n      \"column\": \"Not Click\",\n      \"properties\": {\n        \"dtype\": \"number\",\n        \"std\": 49,\n        \"min\": 130,\n        \"max\": 200,\n        \"num_unique_values\": 2,\n        \"samples\": [\n          130,\n          200\n        ],\n        \"semantic_type\": \"\",\n        \"description\": \"\"\n      }\n    }\n  ]\n}"
            }
          },
          "metadata": {},
          "execution_count": 7
        }
      ]
    },
    {
      "cell_type": "markdown",
      "source": [
        "**Null Hypothesis(H0): There is no difference between two Stabel Version and New Update(columns and rows are independent)**\n",
        "\n",
        "**Alternative Hypothesis(H1): Stabel Version and New Update are different(columns and rows are dependent)**"
      ],
      "metadata": {
        "id": "pniI3M1mI-j-"
      }
    },
    {
      "cell_type": "code",
      "source": [
        "stabel_v = dataset2['Click']['Stabel Version'] / (dataset2['Click']['Stabel Version'] + dataset2['Not Click']['Stabel Version'])\n",
        "new_update = dataset2['Click']['New Update'] / (dataset2['Click']['Stabel Version'] + dataset2['Not Click']['New Update'])\n",
        "print(f'{round(stabel_v * 100, 2)}% of Stabel Version and {round(cured_B * 100,2)}% of New Update did a good job')"
      ],
      "metadata": {
        "colab": {
          "base_uri": "https://localhost:8080/"
        },
        "id": "-NvMjZX8_7uC",
        "outputId": "fe771c50-7f91-4415-b5a2-051081e4fe47"
      },
      "execution_count": 9,
      "outputs": [
        {
          "output_type": "stream",
          "name": "stdout",
          "text": [
            "69.7% of Stabel Version and 80.88% of New Update did a good job\n"
          ]
        }
      ]
    },
    {
      "cell_type": "markdown",
      "source": [
        "Seems like a big difference, is it enough? We have to figure it out"
      ],
      "metadata": {
        "id": "fdxjNHqGHh7E"
      }
    },
    {
      "cell_type": "code",
      "source": [
        "a = dataset2['Click']['Stabel Version']\n",
        "b = dataset2['Not Click']['Stabel Version']\n",
        "c = dataset2['Click']['New Update']\n",
        "d = dataset2['Not Click']['New Update']\n",
        "print(f'a={a}, b={b}, c={c}, d={d}')"
      ],
      "metadata": {
        "colab": {
          "base_uri": "https://localhost:8080/"
        },
        "id": "BDP1KEVUBGBH",
        "outputId": "3a7107bc-2e6c-473a-9eec-0b476a910446"
      },
      "execution_count": 10,
      "outputs": [
        {
          "output_type": "stream",
          "name": "stdout",
          "text": [
            "a=460, b=200, c=370, d=130\n"
          ]
        }
      ]
    },
    {
      "cell_type": "code",
      "source": [
        "p_value = (comb(a+c, a) * comb(b+d, b)) / comb(a+b+c+d, a+b)\n",
        "sl = 0.05\n",
        "print(f'The significant level is {sl} which with a P-value less than {sl}, H0 would be rejected')\n",
        "if round(p_value, 3) < 0.050:\n",
        "  print(f'The P-value is: {round(p_value, 3)}, so we CAN reject the H0 hypothesis')\n",
        "else :\n",
        "  print(f'The P-value is: {round(p_value, 3)}, so we CANNOT reject the H0 hypothesis')"
      ],
      "metadata": {
        "colab": {
          "base_uri": "https://localhost:8080/"
        },
        "id": "8GrV9sqUAudM",
        "outputId": "4314b91a-a135-4865-be75-b412f0b696b9"
      },
      "execution_count": 12,
      "outputs": [
        {
          "output_type": "stream",
          "name": "stdout",
          "text": [
            "The significant level is 0.05 which with a P-value less than 0.05, H0 would be rejected\n",
            "The P-value is: 0.014, so we CAN reject the H0 hypothesis\n"
          ]
        }
      ]
    },
    {
      "cell_type": "markdown",
      "source": [
        "**Conclusion: We were able to reject the null hypothesis because the P value is less than 0.05. This means that H0 is rejected and the two versions of the website are significantly different.**"
      ],
      "metadata": {
        "id": "VA2Y42U2JcjG"
      }
    },
    {
      "cell_type": "markdown",
      "source": [
        "# Chi-Squared Test\n",
        "\n",
        "---"
      ],
      "metadata": {
        "id": "cJZsdtAZBkW4"
      }
    },
    {
      "cell_type": "markdown",
      "source": [
        "## Test 1"
      ],
      "metadata": {
        "id": "R27KkbitaLBQ"
      }
    },
    {
      "cell_type": "markdown",
      "source": [
        "In this example, let's assume that a game developer has shared data about characters from one of their games. Their data is as in the table below. (expected data)\n",
        "\n",
        "Our task now is to determine whether the company's claim is true or not. So we checked and asked 1,000 gamers to see which character they use. (observed data)"
      ],
      "metadata": {
        "id": "GFOCD3kF8CVT"
      }
    },
    {
      "cell_type": "code",
      "source": [
        "data = [\n",
        "       [100, 150, 170, 260, 170, 150]\n",
        "]\n",
        "index = ['Players']\n",
        "columns = ['Power', 'Speed', 'Healer', 'Magician', 'King', 'Angel']\n",
        "dataset = pd.DataFrame(data, index=index, columns=columns)\n",
        "dataset"
      ],
      "metadata": {
        "colab": {
          "base_uri": "https://localhost:8080/",
          "height": 81
        },
        "id": "vKaZBYrQcmSA",
        "outputId": "7c498e8a-a2c6-4ac5-c88d-7175bd67da75"
      },
      "execution_count": 13,
      "outputs": [
        {
          "output_type": "execute_result",
          "data": {
            "text/plain": [
              "         Power  Speed  Healer  Magician  King  Angel\n",
              "Players    100    150     170       260   170    150"
            ],
            "text/html": [
              "\n",
              "  <div id=\"df-70536f46-a591-4439-8cfb-6bf66587e398\" class=\"colab-df-container\">\n",
              "    <div>\n",
              "<style scoped>\n",
              "    .dataframe tbody tr th:only-of-type {\n",
              "        vertical-align: middle;\n",
              "    }\n",
              "\n",
              "    .dataframe tbody tr th {\n",
              "        vertical-align: top;\n",
              "    }\n",
              "\n",
              "    .dataframe thead th {\n",
              "        text-align: right;\n",
              "    }\n",
              "</style>\n",
              "<table border=\"1\" class=\"dataframe\">\n",
              "  <thead>\n",
              "    <tr style=\"text-align: right;\">\n",
              "      <th></th>\n",
              "      <th>Power</th>\n",
              "      <th>Speed</th>\n",
              "      <th>Healer</th>\n",
              "      <th>Magician</th>\n",
              "      <th>King</th>\n",
              "      <th>Angel</th>\n",
              "    </tr>\n",
              "  </thead>\n",
              "  <tbody>\n",
              "    <tr>\n",
              "      <th>Players</th>\n",
              "      <td>100</td>\n",
              "      <td>150</td>\n",
              "      <td>170</td>\n",
              "      <td>260</td>\n",
              "      <td>170</td>\n",
              "      <td>150</td>\n",
              "    </tr>\n",
              "  </tbody>\n",
              "</table>\n",
              "</div>\n",
              "    <div class=\"colab-df-buttons\">\n",
              "\n",
              "  <div class=\"colab-df-container\">\n",
              "    <button class=\"colab-df-convert\" onclick=\"convertToInteractive('df-70536f46-a591-4439-8cfb-6bf66587e398')\"\n",
              "            title=\"Convert this dataframe to an interactive table.\"\n",
              "            style=\"display:none;\">\n",
              "\n",
              "  <svg xmlns=\"http://www.w3.org/2000/svg\" height=\"24px\" viewBox=\"0 -960 960 960\">\n",
              "    <path d=\"M120-120v-720h720v720H120Zm60-500h600v-160H180v160Zm220 220h160v-160H400v160Zm0 220h160v-160H400v160ZM180-400h160v-160H180v160Zm440 0h160v-160H620v160ZM180-180h160v-160H180v160Zm440 0h160v-160H620v160Z\"/>\n",
              "  </svg>\n",
              "    </button>\n",
              "\n",
              "  <style>\n",
              "    .colab-df-container {\n",
              "      display:flex;\n",
              "      gap: 12px;\n",
              "    }\n",
              "\n",
              "    .colab-df-convert {\n",
              "      background-color: #E8F0FE;\n",
              "      border: none;\n",
              "      border-radius: 50%;\n",
              "      cursor: pointer;\n",
              "      display: none;\n",
              "      fill: #1967D2;\n",
              "      height: 32px;\n",
              "      padding: 0 0 0 0;\n",
              "      width: 32px;\n",
              "    }\n",
              "\n",
              "    .colab-df-convert:hover {\n",
              "      background-color: #E2EBFA;\n",
              "      box-shadow: 0px 1px 2px rgba(60, 64, 67, 0.3), 0px 1px 3px 1px rgba(60, 64, 67, 0.15);\n",
              "      fill: #174EA6;\n",
              "    }\n",
              "\n",
              "    .colab-df-buttons div {\n",
              "      margin-bottom: 4px;\n",
              "    }\n",
              "\n",
              "    [theme=dark] .colab-df-convert {\n",
              "      background-color: #3B4455;\n",
              "      fill: #D2E3FC;\n",
              "    }\n",
              "\n",
              "    [theme=dark] .colab-df-convert:hover {\n",
              "      background-color: #434B5C;\n",
              "      box-shadow: 0px 1px 3px 1px rgba(0, 0, 0, 0.15);\n",
              "      filter: drop-shadow(0px 1px 2px rgba(0, 0, 0, 0.3));\n",
              "      fill: #FFFFFF;\n",
              "    }\n",
              "  </style>\n",
              "\n",
              "    <script>\n",
              "      const buttonEl =\n",
              "        document.querySelector('#df-70536f46-a591-4439-8cfb-6bf66587e398 button.colab-df-convert');\n",
              "      buttonEl.style.display =\n",
              "        google.colab.kernel.accessAllowed ? 'block' : 'none';\n",
              "\n",
              "      async function convertToInteractive(key) {\n",
              "        const element = document.querySelector('#df-70536f46-a591-4439-8cfb-6bf66587e398');\n",
              "        const dataTable =\n",
              "          await google.colab.kernel.invokeFunction('convertToInteractive',\n",
              "                                                    [key], {});\n",
              "        if (!dataTable) return;\n",
              "\n",
              "        const docLinkHtml = 'Like what you see? Visit the ' +\n",
              "          '<a target=\"_blank\" href=https://colab.research.google.com/notebooks/data_table.ipynb>data table notebook</a>'\n",
              "          + ' to learn more about interactive tables.';\n",
              "        element.innerHTML = '';\n",
              "        dataTable['output_type'] = 'display_data';\n",
              "        await google.colab.output.renderOutput(dataTable, element);\n",
              "        const docLink = document.createElement('div');\n",
              "        docLink.innerHTML = docLinkHtml;\n",
              "        element.appendChild(docLink);\n",
              "      }\n",
              "    </script>\n",
              "  </div>\n",
              "\n",
              "    </div>\n",
              "  </div>\n"
            ],
            "application/vnd.google.colaboratory.intrinsic+json": {
              "type": "dataframe",
              "variable_name": "dataset",
              "summary": "{\n  \"name\": \"dataset\",\n  \"rows\": 1,\n  \"fields\": [\n    {\n      \"column\": \"Power\",\n      \"properties\": {\n        \"dtype\": \"number\",\n        \"std\": null,\n        \"min\": 100,\n        \"max\": 100,\n        \"num_unique_values\": 1,\n        \"samples\": [\n          100\n        ],\n        \"semantic_type\": \"\",\n        \"description\": \"\"\n      }\n    },\n    {\n      \"column\": \"Speed\",\n      \"properties\": {\n        \"dtype\": \"number\",\n        \"std\": null,\n        \"min\": 150,\n        \"max\": 150,\n        \"num_unique_values\": 1,\n        \"samples\": [\n          150\n        ],\n        \"semantic_type\": \"\",\n        \"description\": \"\"\n      }\n    },\n    {\n      \"column\": \"Healer\",\n      \"properties\": {\n        \"dtype\": \"number\",\n        \"std\": null,\n        \"min\": 170,\n        \"max\": 170,\n        \"num_unique_values\": 1,\n        \"samples\": [\n          170\n        ],\n        \"semantic_type\": \"\",\n        \"description\": \"\"\n      }\n    },\n    {\n      \"column\": \"Magician\",\n      \"properties\": {\n        \"dtype\": \"number\",\n        \"std\": null,\n        \"min\": 260,\n        \"max\": 260,\n        \"num_unique_values\": 1,\n        \"samples\": [\n          260\n        ],\n        \"semantic_type\": \"\",\n        \"description\": \"\"\n      }\n    },\n    {\n      \"column\": \"King\",\n      \"properties\": {\n        \"dtype\": \"number\",\n        \"std\": null,\n        \"min\": 170,\n        \"max\": 170,\n        \"num_unique_values\": 1,\n        \"samples\": [\n          170\n        ],\n        \"semantic_type\": \"\",\n        \"description\": \"\"\n      }\n    },\n    {\n      \"column\": \"Angel\",\n      \"properties\": {\n        \"dtype\": \"number\",\n        \"std\": null,\n        \"min\": 150,\n        \"max\": 150,\n        \"num_unique_values\": 1,\n        \"samples\": [\n          150\n        ],\n        \"semantic_type\": \"\",\n        \"description\": \"\"\n      }\n    }\n  ]\n}"
            }
          },
          "metadata": {},
          "execution_count": 13
        }
      ]
    },
    {
      "cell_type": "code",
      "source": [
        "observed = np.array([95, 170, 160, 260, 185, 130])\n",
        "observed"
      ],
      "metadata": {
        "colab": {
          "base_uri": "https://localhost:8080/"
        },
        "id": "mnMuhzP2igwF",
        "outputId": "0e0536f3-fb1d-4da5-9773-86d32a7db180"
      },
      "execution_count": 15,
      "outputs": [
        {
          "output_type": "execute_result",
          "data": {
            "text/plain": [
              "array([ 95, 170, 160, 260, 185, 130])"
            ]
          },
          "metadata": {},
          "execution_count": 15
        }
      ]
    },
    {
      "cell_type": "code",
      "source": [
        "expected = np.array(dataset)[0]\n",
        "expected"
      ],
      "metadata": {
        "colab": {
          "base_uri": "https://localhost:8080/"
        },
        "id": "Fsn_48bRj9Ol",
        "outputId": "07d55096-2a66-4059-a5e3-583c668695c7"
      },
      "execution_count": 16,
      "outputs": [
        {
          "output_type": "execute_result",
          "data": {
            "text/plain": [
              "array([100, 150, 170, 260, 170, 150])"
            ]
          },
          "metadata": {},
          "execution_count": 16
        }
      ]
    },
    {
      "cell_type": "markdown",
      "source": [
        "**H0: There is no difference between Expected dataset and Observed dataset.**\n",
        "\n",
        "**H1: Expected and Observed dataset are different.**"
      ],
      "metadata": {
        "id": "sbwJtckBCFxT"
      }
    },
    {
      "cell_type": "markdown",
      "source": [
        "We can check the claim in two ways:\n",
        "\n",
        "1- Using critical value and statistics:\n",
        "\n",
        "  - In this way, we can compute statistics using the formula and then compute cv(critical value) using the Chi-square tabel or Chi-square formula.\n",
        "  After that, we compare these two, if cv <= statistics the H0 would be rejected, otherwise, H0 cannot be rejected.\n",
        "\n",
        "2- using P-value:\n",
        "\n",
        "  - We can also compute the p_value using the formula."
      ],
      "metadata": {
        "id": "3q7HkT7d-YeL"
      }
    },
    {
      "cell_type": "code",
      "source": [
        "degree_of_freedom = 5\n",
        "significance_level = 0.05\n",
        "chi_squre_stat = round(stats.chisquare(f_obs=observed, f_exp=expected).statistic, 3)\n",
        "cv = round(stats.chi2.ppf(1-significance_level, degree_of_freedom), 3)\n",
        "if cv <= chi_squre_stat :\n",
        "  print(f'Critical Value is: {cv}, and Statistics is: {chi_squre_stat} ({cv} <= {chi_squre_stat}). So we will reject the H0.')\n",
        "else:\n",
        "   print(f'Critical Value is: {cv}, and Statistics is: {chi_squre_stat} ({cv} > {chi_squre_stat}). So we cannot reject the H0.')"
      ],
      "metadata": {
        "colab": {
          "base_uri": "https://localhost:8080/"
        },
        "id": "tvPQ0JR8jQqS",
        "outputId": "08f4be1b-a3fb-4ffb-b08a-4c50b8fe0bee"
      },
      "execution_count": 20,
      "outputs": [
        {
          "output_type": "stream",
          "name": "stdout",
          "text": [
            "Critical Value is: 11.07, and Statistics is: 7.495 (11.07 > 7.495). So we cannot reject the H0\n"
          ]
        }
      ]
    },
    {
      "cell_type": "code",
      "source": [
        "p_value = round(1 - stats.chi2.cdf(chi_squre_stat, degree_of_freedom), 5)\n",
        "print(f'Significant level is: {significance_level}')\n",
        "print(f'We can check the truth by P-Value: {p_value}')"
      ],
      "metadata": {
        "colab": {
          "base_uri": "https://localhost:8080/"
        },
        "id": "i9Zf9wiZjsPD",
        "outputId": "7435e43e-0cdd-4d67-f7fb-8dad68c50eda"
      },
      "execution_count": 23,
      "outputs": [
        {
          "output_type": "stream",
          "name": "stdout",
          "text": [
            "Significant level is: 0.05\n",
            "We can check the truth by P-Value: 0.18635\n"
          ]
        }
      ]
    },
    {
      "cell_type": "markdown",
      "source": [
        "**Conclusion: We couldn't reject the null hypothesis(H0), so there is no difference between observant and expected, this means the company's claim is true.**"
      ],
      "metadata": {
        "id": "rQfWw4cuHS1u"
      }
    },
    {
      "cell_type": "markdown",
      "source": [
        "## Test 2"
      ],
      "metadata": {
        "id": "VGZX12zEow_K"
      }
    },
    {
      "cell_type": "markdown",
      "source": [
        "But what if the Observed dataset was like the below table?"
      ],
      "metadata": {
        "id": "yAmXhq4xHOii"
      }
    },
    {
      "cell_type": "markdown",
      "source": [
        "**H0: There is no difference between Expected dataset and Observed dataset.**\n",
        "\n",
        "**H1: Expected and Observed dataset are different.**"
      ],
      "metadata": {
        "id": "KT-yccr7TSC3"
      }
    },
    {
      "cell_type": "code",
      "source": [
        "observed2 = np.array([120, 180, 165, 275, 150, 110])\n",
        "observed2"
      ],
      "metadata": {
        "colab": {
          "base_uri": "https://localhost:8080/"
        },
        "id": "J3TsxKdEoixC",
        "outputId": "18ae848b-e4ac-4115-c105-d9c8bc1e9248"
      },
      "execution_count": 30,
      "outputs": [
        {
          "output_type": "execute_result",
          "data": {
            "text/plain": [
              "array([120, 180, 165, 275, 150, 110])"
            ]
          },
          "metadata": {},
          "execution_count": 30
        }
      ]
    },
    {
      "cell_type": "code",
      "source": [
        "degree_of_freedom = 5\n",
        "significance_level = 0.05\n",
        "chi_squre_stat2 = round(stats.chisquare(f_obs=observed2, f_exp=expected).statistic, 3)\n",
        "cv = round(stats.chi2.ppf(1-significance_level, degree_of_freedom), 3)\n",
        "if cv <= chi_squre_stat2 :\n",
        "  print(f'Critical Value is: {cv}, and Statistics is: {chi_squre_stat2} ({cv} <= {chi_squre_stat2}). So we will reject the H0.')\n",
        "else:\n",
        "   print(f'Critical Value is: {cv}, and Statistics is: {chi_squre_stat2} ({cv} > {chi_squre_stat2}). So we cannot reject the H0.')"
      ],
      "metadata": {
        "colab": {
          "base_uri": "https://localhost:8080/"
        },
        "id": "MUCbVlNEpZTT",
        "outputId": "fdffb586-40fa-498f-e5d0-173957077ef4"
      },
      "execution_count": 31,
      "outputs": [
        {
          "output_type": "stream",
          "name": "stdout",
          "text": [
            "Critical Value is: 11.07, and Statistics is: 24.032 (11.07 <= 24.032). So we will reject the H0.\n"
          ]
        }
      ]
    },
    {
      "cell_type": "code",
      "source": [
        "p_value2 = round(1 - stats.chi2.cdf(chi_squre_stat2, degree_of_freedom), 5)\n",
        "print(f'Significant level is: {significance_level}')\n",
        "print(f'We can check the truth by P-Value: {p_value2}')"
      ],
      "metadata": {
        "colab": {
          "base_uri": "https://localhost:8080/"
        },
        "id": "77qO25oMpxsL",
        "outputId": "58d398bd-84eb-4183-c970-75010697c1dd"
      },
      "execution_count": 29,
      "outputs": [
        {
          "output_type": "stream",
          "name": "stdout",
          "text": [
            "Significant level is: 0.05\n",
            "We can check the truth by P-Value: 0.00021\n"
          ]
        }
      ]
    },
    {
      "cell_type": "markdown",
      "source": [
        "**Conclusion: In this case, we were able to reject the null hypothesis because the P value is less than 0.05. This means that H0 is rejected and the company's claim is not true.**"
      ],
      "metadata": {
        "id": "3uzK7POYIRFu"
      }
    },
    {
      "cell_type": "markdown",
      "source": [
        "# T-test\n",
        "\n",
        "---"
      ],
      "metadata": {
        "id": "H5DfkMCWquWG"
      }
    },
    {
      "cell_type": "markdown",
      "source": [
        "## Test 1"
      ],
      "metadata": {
        "id": "i-0teKSYvlRd"
      }
    },
    {
      "cell_type": "markdown",
      "source": [
        "The population of a country is approximately one million (1000000), we want to get 1000 people from the population as a sample and compare the mean of both.\n",
        "\n",
        "In this case, we test whether the population mean is significantly different from the population mean."
      ],
      "metadata": {
        "id": "38L6tuMWIw4G"
      }
    },
    {
      "cell_type": "markdown",
      "source": [
        "**H0: There is no difference between the mean of the sample and the mean of the population.**\n",
        "\n",
        "**H1: The mean of the sample and the mean of the population are significantly difference.**"
      ],
      "metadata": {
        "id": "_KvbM-_xSzBO"
      }
    },
    {
      "cell_type": "code",
      "source": [
        "n = 1_000\n",
        "pop = stats.norm.rvs(loc=65, scale=7, size=1_000_000)\n",
        "sample = np.random.choice(pop, size=n, replace=False)"
      ],
      "metadata": {
        "id": "oXyeJMF7qwyJ"
      },
      "execution_count": 32,
      "outputs": []
    },
    {
      "cell_type": "code",
      "source": [
        "mu = pop.mean()\n",
        "x_bar = sample.mean()\n",
        "s = sample.std()\n",
        "print(f'x_bar: {x_bar}, and mu: {mu}')"
      ],
      "metadata": {
        "colab": {
          "base_uri": "https://localhost:8080/"
        },
        "id": "nMSM2peLe2lp",
        "outputId": "fe0398b0-3f65-47d5-bdb6-b2a69bd51300"
      },
      "execution_count": 33,
      "outputs": [
        {
          "output_type": "stream",
          "name": "stdout",
          "text": [
            "x_bar: 65.01307690148633, and mu: 65.00292730443323\n"
          ]
        }
      ]
    },
    {
      "cell_type": "code",
      "source": [
        "t = round((x_bar - mu) / (s/(n**0.5)),5)\n",
        "t"
      ],
      "metadata": {
        "colab": {
          "base_uri": "https://localhost:8080/"
        },
        "id": "1bvFupycfH-0",
        "outputId": "b16217ac-d737-4542-feac-3305b1fffa56"
      },
      "execution_count": 37,
      "outputs": [
        {
          "output_type": "execute_result",
          "data": {
            "text/plain": [
              "0.04603"
            ]
          },
          "metadata": {},
          "execution_count": 37
        }
      ]
    },
    {
      "cell_type": "code",
      "source": [
        "significance_level=0.05\n",
        "degree_of_freedom=999\n",
        "cv = round(stats.t.ppf(1- significance_level, degree_of_freedom), 5)\n",
        "if cv <= t :\n",
        "  print(f'Critical Value is: {cv}, and T-Statistics is: {t} ({cv} <= {t}). So we will reject the H0')\n",
        "else:\n",
        "   print(f'Critical Value is: {cv}, and T-Statistics is: {t} ({cv} > {t}). So we cannot reject the H0')"
      ],
      "metadata": {
        "colab": {
          "base_uri": "https://localhost:8080/"
        },
        "id": "Nu17WmhifJE_",
        "outputId": "80513657-2aa4-432e-fcb5-b46e5ab15f57"
      },
      "execution_count": 39,
      "outputs": [
        {
          "output_type": "stream",
          "name": "stdout",
          "text": [
            "Critical Value is: 1.64638, and T-Statistics is: 0.04603 (1.64638 > 0.04603). So we cannot reject the H0\n"
          ]
        }
      ]
    },
    {
      "cell_type": "code",
      "source": [
        "p_value = round(1 - stats.t.cdf(t, degree_of_freedom), 5)\n",
        "print(f'Significant level is: {significance_level}')\n",
        "print(f'We can check the truth by P-Value: {p_value}')"
      ],
      "metadata": {
        "colab": {
          "base_uri": "https://localhost:8080/"
        },
        "id": "RfpF2RlqhZbE",
        "outputId": "b34df6d9-ca11-466e-8efb-3b1533bbfa1a"
      },
      "execution_count": 41,
      "outputs": [
        {
          "output_type": "stream",
          "name": "stdout",
          "text": [
            "Significant level is: 0.05\n",
            "We can check the truth by P-Value: 0.48165\n"
          ]
        }
      ]
    },
    {
      "cell_type": "markdown",
      "source": [
        "**Conclusion: We couldn't reject the null hypothesis(H0), so there is no difference between the mean of the population and the mean of the sample.**"
      ],
      "metadata": {
        "id": "ltUpq8E8LNBO"
      }
    },
    {
      "cell_type": "markdown",
      "source": [
        "## Test 2"
      ],
      "metadata": {
        "id": "LzEPZinWvqKa"
      }
    },
    {
      "cell_type": "markdown",
      "source": [
        "This time we get 2 different samples from different populations. The first is for the women's weight with mean=65, std=7, and the second is for the man's weight with a mean=69, std=6.\n",
        "\n",
        "Now assume we don't know these details and just want to know whether the mean of these two samples is the same."
      ],
      "metadata": {
        "id": "aYSiDlvpL_8m"
      }
    },
    {
      "cell_type": "markdown",
      "source": [
        "**H0: There is no difference between the mean of the two samples.**\n",
        "\n",
        "**H1: The two samples are significantly difference.**"
      ],
      "metadata": {
        "id": "Cxd5ML93R3kv"
      }
    },
    {
      "cell_type": "code",
      "source": [
        "n = 1_000\n",
        "pop1 = stats.norm.rvs(loc=65, scale=7, size=1_000_000)\n",
        "pop2 = stats.norm.rvs(loc=69, scale=6, size=1_000_000)\n",
        "sample1 = np.random.choice(pop1, size=n, replace=False)\n",
        "sample2 = np.random.choice(pop2, size=n, replace=False)"
      ],
      "metadata": {
        "id": "AF9azfavisnL"
      },
      "execution_count": 42,
      "outputs": []
    },
    {
      "cell_type": "code",
      "source": [
        "x_bar1 = round(sample1.mean(), 5)\n",
        "x_bar2 = round(sample2.mean(), 5)\n",
        "s1 = round(sample1.std(), 5)\n",
        "s2 = round(sample2.std(), 5)\n",
        "print(f'x_bar1: {x_bar1}, and x_bar2: {x_bar2}, s1: {s1}, s2: {s2}')"
      ],
      "metadata": {
        "colab": {
          "base_uri": "https://localhost:8080/"
        },
        "id": "_0VI4HIpv0PY",
        "outputId": "87de7520-9692-44ac-a78d-622d599351ec"
      },
      "execution_count": 45,
      "outputs": [
        {
          "output_type": "stream",
          "name": "stdout",
          "text": [
            "x_bar1: 65.2201, and x_bar2: 68.76637, s1: 6.88308, s2: 5.95191\n"
          ]
        }
      ]
    },
    {
      "cell_type": "code",
      "source": [
        "sp = ((s1**2)+(s2**2))**0.5 / 2\n",
        "t = round((x_bar2 - x_bar1) / (sp*((2/n)**0.5)), 5)\n",
        "print(f'The t is: {t}')"
      ],
      "metadata": {
        "colab": {
          "base_uri": "https://localhost:8080/"
        },
        "id": "h-L-Hj5-whsE",
        "outputId": "9da54003-7ae8-40ca-e82a-26aa5af7e497"
      },
      "execution_count": 46,
      "outputs": [
        {
          "output_type": "execute_result",
          "data": {
            "text/plain": [
              "17.42875"
            ]
          },
          "metadata": {},
          "execution_count": 46
        }
      ]
    },
    {
      "cell_type": "code",
      "source": [
        "significance_level=0.05\n",
        "degree_of_freedom=2*(n-1)\n",
        "cv = round(stats.t.ppf(1- significance_level, degree_of_freedom), 5)\n",
        "if cv <= t:\n",
        "  print(f'Critical Value is: {cv}, and T-Statistics is: {t} ({cv} <= {t}). So we will reject the H0')\n",
        "else:\n",
        "   print(f'Critical Value is: {cv}, and T-Statistics is: {t} ({cv} > {t}). So we cannot reject the H0')"
      ],
      "metadata": {
        "colab": {
          "base_uri": "https://localhost:8080/"
        },
        "id": "QkVBUb_hxIbw",
        "outputId": "421b6b07-954a-4554-a383-dbeb0821f1df"
      },
      "execution_count": 50,
      "outputs": [
        {
          "output_type": "stream",
          "name": "stdout",
          "text": [
            "Critical Value is: 1.64562, and T-Statistics is: 17.42875 (1.64562 <= 17.42875). So we will reject the H0\n"
          ]
        }
      ]
    },
    {
      "cell_type": "code",
      "source": [
        "p_value = round(1 - stats.t.cdf(t, degree_of_freedom), 5)\n",
        "print(f'Significant level is: {significance_level}')\n",
        "print(f'We can check the truth by P-Value: {p_value}')"
      ],
      "metadata": {
        "colab": {
          "base_uri": "https://localhost:8080/"
        },
        "id": "kHU9pt4v24L_",
        "outputId": "2f9e52e8-d8e5-4f19-c5bd-90e34ae1e2de"
      },
      "execution_count": 51,
      "outputs": [
        {
          "output_type": "stream",
          "name": "stdout",
          "text": [
            "Significant level is: 0.05\n",
            "We can check the truth by P-Value: 0.0\n"
          ]
        }
      ]
    },
    {
      "cell_type": "markdown",
      "source": [
        "**Conclusion: We rejected the H0. This means that the two samples are significantly different.**"
      ],
      "metadata": {
        "id": "7zE-GxDzSZMA"
      }
    },
    {
      "cell_type": "markdown",
      "source": [
        "## Real-world Example"
      ],
      "metadata": {
        "id": "oKQCBhQo0fnz"
      }
    },
    {
      "cell_type": "markdown",
      "source": [
        "Let's say we have a coffee shop and we want to know if removing sugar from our coffee will increase the average customer interest rate."
      ],
      "metadata": {
        "id": "qkty6x6iOaCp"
      }
    },
    {
      "cell_type": "code",
      "source": [
        "data = [\n",
        "    [4, 4.5],\n",
        "    [5.5, 7],\n",
        "    [6, 6],\n",
        "    [8.5, 7.5],\n",
        "    [4, 4],\n",
        "    [3.5, 5],\n",
        "    [7.5, 7],\n",
        "    [6.5, 7],\n",
        "    [8, 8],\n",
        "    [7.5, 8.5]\n",
        "]\n",
        "index = ['User_1', 'User_2', 'User_3', 'User_4', 'User_5', 'User_6', 'User_7', 'User_8', 'User_9', 'User_10']\n",
        "columns = ['Before removing suger', 'After removing suger']\n",
        "coffee_dataset = pd.DataFrame(data, index=index, columns=columns)\n",
        "coffee_dataset"
      ],
      "metadata": {
        "colab": {
          "base_uri": "https://localhost:8080/",
          "height": 363
        },
        "id": "sqDkiNuHxI6z",
        "outputId": "3109d0f3-bcc2-4aa2-bbbd-202e377f7451"
      },
      "execution_count": 52,
      "outputs": [
        {
          "output_type": "execute_result",
          "data": {
            "text/plain": [
              "         Before removing suger  After removing suger\n",
              "User_1                     4.0                   4.5\n",
              "User_2                     5.5                   7.0\n",
              "User_3                     6.0                   6.0\n",
              "User_4                     8.5                   7.5\n",
              "User_5                     4.0                   4.0\n",
              "User_6                     3.5                   5.0\n",
              "User_7                     7.5                   7.0\n",
              "User_8                     6.5                   7.0\n",
              "User_9                     8.0                   8.0\n",
              "User_10                    7.5                   8.5"
            ],
            "text/html": [
              "\n",
              "  <div id=\"df-ea49714d-9991-4d6c-883a-2564aa221ad5\" class=\"colab-df-container\">\n",
              "    <div>\n",
              "<style scoped>\n",
              "    .dataframe tbody tr th:only-of-type {\n",
              "        vertical-align: middle;\n",
              "    }\n",
              "\n",
              "    .dataframe tbody tr th {\n",
              "        vertical-align: top;\n",
              "    }\n",
              "\n",
              "    .dataframe thead th {\n",
              "        text-align: right;\n",
              "    }\n",
              "</style>\n",
              "<table border=\"1\" class=\"dataframe\">\n",
              "  <thead>\n",
              "    <tr style=\"text-align: right;\">\n",
              "      <th></th>\n",
              "      <th>Before removing suger</th>\n",
              "      <th>After removing suger</th>\n",
              "    </tr>\n",
              "  </thead>\n",
              "  <tbody>\n",
              "    <tr>\n",
              "      <th>User_1</th>\n",
              "      <td>4.0</td>\n",
              "      <td>4.5</td>\n",
              "    </tr>\n",
              "    <tr>\n",
              "      <th>User_2</th>\n",
              "      <td>5.5</td>\n",
              "      <td>7.0</td>\n",
              "    </tr>\n",
              "    <tr>\n",
              "      <th>User_3</th>\n",
              "      <td>6.0</td>\n",
              "      <td>6.0</td>\n",
              "    </tr>\n",
              "    <tr>\n",
              "      <th>User_4</th>\n",
              "      <td>8.5</td>\n",
              "      <td>7.5</td>\n",
              "    </tr>\n",
              "    <tr>\n",
              "      <th>User_5</th>\n",
              "      <td>4.0</td>\n",
              "      <td>4.0</td>\n",
              "    </tr>\n",
              "    <tr>\n",
              "      <th>User_6</th>\n",
              "      <td>3.5</td>\n",
              "      <td>5.0</td>\n",
              "    </tr>\n",
              "    <tr>\n",
              "      <th>User_7</th>\n",
              "      <td>7.5</td>\n",
              "      <td>7.0</td>\n",
              "    </tr>\n",
              "    <tr>\n",
              "      <th>User_8</th>\n",
              "      <td>6.5</td>\n",
              "      <td>7.0</td>\n",
              "    </tr>\n",
              "    <tr>\n",
              "      <th>User_9</th>\n",
              "      <td>8.0</td>\n",
              "      <td>8.0</td>\n",
              "    </tr>\n",
              "    <tr>\n",
              "      <th>User_10</th>\n",
              "      <td>7.5</td>\n",
              "      <td>8.5</td>\n",
              "    </tr>\n",
              "  </tbody>\n",
              "</table>\n",
              "</div>\n",
              "    <div class=\"colab-df-buttons\">\n",
              "\n",
              "  <div class=\"colab-df-container\">\n",
              "    <button class=\"colab-df-convert\" onclick=\"convertToInteractive('df-ea49714d-9991-4d6c-883a-2564aa221ad5')\"\n",
              "            title=\"Convert this dataframe to an interactive table.\"\n",
              "            style=\"display:none;\">\n",
              "\n",
              "  <svg xmlns=\"http://www.w3.org/2000/svg\" height=\"24px\" viewBox=\"0 -960 960 960\">\n",
              "    <path d=\"M120-120v-720h720v720H120Zm60-500h600v-160H180v160Zm220 220h160v-160H400v160Zm0 220h160v-160H400v160ZM180-400h160v-160H180v160Zm440 0h160v-160H620v160ZM180-180h160v-160H180v160Zm440 0h160v-160H620v160Z\"/>\n",
              "  </svg>\n",
              "    </button>\n",
              "\n",
              "  <style>\n",
              "    .colab-df-container {\n",
              "      display:flex;\n",
              "      gap: 12px;\n",
              "    }\n",
              "\n",
              "    .colab-df-convert {\n",
              "      background-color: #E8F0FE;\n",
              "      border: none;\n",
              "      border-radius: 50%;\n",
              "      cursor: pointer;\n",
              "      display: none;\n",
              "      fill: #1967D2;\n",
              "      height: 32px;\n",
              "      padding: 0 0 0 0;\n",
              "      width: 32px;\n",
              "    }\n",
              "\n",
              "    .colab-df-convert:hover {\n",
              "      background-color: #E2EBFA;\n",
              "      box-shadow: 0px 1px 2px rgba(60, 64, 67, 0.3), 0px 1px 3px 1px rgba(60, 64, 67, 0.15);\n",
              "      fill: #174EA6;\n",
              "    }\n",
              "\n",
              "    .colab-df-buttons div {\n",
              "      margin-bottom: 4px;\n",
              "    }\n",
              "\n",
              "    [theme=dark] .colab-df-convert {\n",
              "      background-color: #3B4455;\n",
              "      fill: #D2E3FC;\n",
              "    }\n",
              "\n",
              "    [theme=dark] .colab-df-convert:hover {\n",
              "      background-color: #434B5C;\n",
              "      box-shadow: 0px 1px 3px 1px rgba(0, 0, 0, 0.15);\n",
              "      filter: drop-shadow(0px 1px 2px rgba(0, 0, 0, 0.3));\n",
              "      fill: #FFFFFF;\n",
              "    }\n",
              "  </style>\n",
              "\n",
              "    <script>\n",
              "      const buttonEl =\n",
              "        document.querySelector('#df-ea49714d-9991-4d6c-883a-2564aa221ad5 button.colab-df-convert');\n",
              "      buttonEl.style.display =\n",
              "        google.colab.kernel.accessAllowed ? 'block' : 'none';\n",
              "\n",
              "      async function convertToInteractive(key) {\n",
              "        const element = document.querySelector('#df-ea49714d-9991-4d6c-883a-2564aa221ad5');\n",
              "        const dataTable =\n",
              "          await google.colab.kernel.invokeFunction('convertToInteractive',\n",
              "                                                    [key], {});\n",
              "        if (!dataTable) return;\n",
              "\n",
              "        const docLinkHtml = 'Like what you see? Visit the ' +\n",
              "          '<a target=\"_blank\" href=https://colab.research.google.com/notebooks/data_table.ipynb>data table notebook</a>'\n",
              "          + ' to learn more about interactive tables.';\n",
              "        element.innerHTML = '';\n",
              "        dataTable['output_type'] = 'display_data';\n",
              "        await google.colab.output.renderOutput(dataTable, element);\n",
              "        const docLink = document.createElement('div');\n",
              "        docLink.innerHTML = docLinkHtml;\n",
              "        element.appendChild(docLink);\n",
              "      }\n",
              "    </script>\n",
              "  </div>\n",
              "\n",
              "\n",
              "<div id=\"df-5ca20dd7-fcf7-4c7c-ae9d-497391dc28b3\">\n",
              "  <button class=\"colab-df-quickchart\" onclick=\"quickchart('df-5ca20dd7-fcf7-4c7c-ae9d-497391dc28b3')\"\n",
              "            title=\"Suggest charts\"\n",
              "            style=\"display:none;\">\n",
              "\n",
              "<svg xmlns=\"http://www.w3.org/2000/svg\" height=\"24px\"viewBox=\"0 0 24 24\"\n",
              "     width=\"24px\">\n",
              "    <g>\n",
              "        <path d=\"M19 3H5c-1.1 0-2 .9-2 2v14c0 1.1.9 2 2 2h14c1.1 0 2-.9 2-2V5c0-1.1-.9-2-2-2zM9 17H7v-7h2v7zm4 0h-2V7h2v10zm4 0h-2v-4h2v4z\"/>\n",
              "    </g>\n",
              "</svg>\n",
              "  </button>\n",
              "\n",
              "<style>\n",
              "  .colab-df-quickchart {\n",
              "      --bg-color: #E8F0FE;\n",
              "      --fill-color: #1967D2;\n",
              "      --hover-bg-color: #E2EBFA;\n",
              "      --hover-fill-color: #174EA6;\n",
              "      --disabled-fill-color: #AAA;\n",
              "      --disabled-bg-color: #DDD;\n",
              "  }\n",
              "\n",
              "  [theme=dark] .colab-df-quickchart {\n",
              "      --bg-color: #3B4455;\n",
              "      --fill-color: #D2E3FC;\n",
              "      --hover-bg-color: #434B5C;\n",
              "      --hover-fill-color: #FFFFFF;\n",
              "      --disabled-bg-color: #3B4455;\n",
              "      --disabled-fill-color: #666;\n",
              "  }\n",
              "\n",
              "  .colab-df-quickchart {\n",
              "    background-color: var(--bg-color);\n",
              "    border: none;\n",
              "    border-radius: 50%;\n",
              "    cursor: pointer;\n",
              "    display: none;\n",
              "    fill: var(--fill-color);\n",
              "    height: 32px;\n",
              "    padding: 0;\n",
              "    width: 32px;\n",
              "  }\n",
              "\n",
              "  .colab-df-quickchart:hover {\n",
              "    background-color: var(--hover-bg-color);\n",
              "    box-shadow: 0 1px 2px rgba(60, 64, 67, 0.3), 0 1px 3px 1px rgba(60, 64, 67, 0.15);\n",
              "    fill: var(--button-hover-fill-color);\n",
              "  }\n",
              "\n",
              "  .colab-df-quickchart-complete:disabled,\n",
              "  .colab-df-quickchart-complete:disabled:hover {\n",
              "    background-color: var(--disabled-bg-color);\n",
              "    fill: var(--disabled-fill-color);\n",
              "    box-shadow: none;\n",
              "  }\n",
              "\n",
              "  .colab-df-spinner {\n",
              "    border: 2px solid var(--fill-color);\n",
              "    border-color: transparent;\n",
              "    border-bottom-color: var(--fill-color);\n",
              "    animation:\n",
              "      spin 1s steps(1) infinite;\n",
              "  }\n",
              "\n",
              "  @keyframes spin {\n",
              "    0% {\n",
              "      border-color: transparent;\n",
              "      border-bottom-color: var(--fill-color);\n",
              "      border-left-color: var(--fill-color);\n",
              "    }\n",
              "    20% {\n",
              "      border-color: transparent;\n",
              "      border-left-color: var(--fill-color);\n",
              "      border-top-color: var(--fill-color);\n",
              "    }\n",
              "    30% {\n",
              "      border-color: transparent;\n",
              "      border-left-color: var(--fill-color);\n",
              "      border-top-color: var(--fill-color);\n",
              "      border-right-color: var(--fill-color);\n",
              "    }\n",
              "    40% {\n",
              "      border-color: transparent;\n",
              "      border-right-color: var(--fill-color);\n",
              "      border-top-color: var(--fill-color);\n",
              "    }\n",
              "    60% {\n",
              "      border-color: transparent;\n",
              "      border-right-color: var(--fill-color);\n",
              "    }\n",
              "    80% {\n",
              "      border-color: transparent;\n",
              "      border-right-color: var(--fill-color);\n",
              "      border-bottom-color: var(--fill-color);\n",
              "    }\n",
              "    90% {\n",
              "      border-color: transparent;\n",
              "      border-bottom-color: var(--fill-color);\n",
              "    }\n",
              "  }\n",
              "</style>\n",
              "\n",
              "  <script>\n",
              "    async function quickchart(key) {\n",
              "      const quickchartButtonEl =\n",
              "        document.querySelector('#' + key + ' button');\n",
              "      quickchartButtonEl.disabled = true;  // To prevent multiple clicks.\n",
              "      quickchartButtonEl.classList.add('colab-df-spinner');\n",
              "      try {\n",
              "        const charts = await google.colab.kernel.invokeFunction(\n",
              "            'suggestCharts', [key], {});\n",
              "      } catch (error) {\n",
              "        console.error('Error during call to suggestCharts:', error);\n",
              "      }\n",
              "      quickchartButtonEl.classList.remove('colab-df-spinner');\n",
              "      quickchartButtonEl.classList.add('colab-df-quickchart-complete');\n",
              "    }\n",
              "    (() => {\n",
              "      let quickchartButtonEl =\n",
              "        document.querySelector('#df-5ca20dd7-fcf7-4c7c-ae9d-497391dc28b3 button');\n",
              "      quickchartButtonEl.style.display =\n",
              "        google.colab.kernel.accessAllowed ? 'block' : 'none';\n",
              "    })();\n",
              "  </script>\n",
              "</div>\n",
              "    </div>\n",
              "  </div>\n"
            ],
            "application/vnd.google.colaboratory.intrinsic+json": {
              "type": "dataframe",
              "variable_name": "coffee_dataset",
              "summary": "{\n  \"name\": \"coffee_dataset\",\n  \"rows\": 10,\n  \"fields\": [\n    {\n      \"column\": \"Before removing suger\",\n      \"properties\": {\n        \"dtype\": \"number\",\n        \"std\": 1.8073922282301278,\n        \"min\": 3.5,\n        \"max\": 8.5,\n        \"num_unique_values\": 8,\n        \"samples\": [\n          5.5,\n          7.5,\n          4.0\n        ],\n        \"semantic_type\": \"\",\n        \"description\": \"\"\n      }\n    },\n    {\n      \"column\": \"After removing suger\",\n      \"properties\": {\n        \"dtype\": \"number\",\n        \"std\": 1.5174906186786719,\n        \"min\": 4.0,\n        \"max\": 8.5,\n        \"num_unique_values\": 8,\n        \"samples\": [\n          7.0,\n          5.0,\n          4.5\n        ],\n        \"semantic_type\": \"\",\n        \"description\": \"\"\n      }\n    }\n  ]\n}"
            }
          },
          "metadata": {},
          "execution_count": 52
        }
      ]
    },
    {
      "cell_type": "markdown",
      "source": [
        "**H0: There is no difference between normal coffee and removed-sugar coffee.**\n",
        "\n",
        "**H1: The removed-sugar coffee and normal coffee are different.**"
      ],
      "metadata": {
        "id": "KvNjIQPSQxEi"
      }
    },
    {
      "cell_type": "code",
      "source": [
        "n = 10\n",
        "mean = [coffee_dataset['Before removing suger'].sum() / n, coffee_dataset['After removing suger'].sum() / n]\n",
        "coffee_dataset.loc['mean'] = mean"
      ],
      "metadata": {
        "id": "6A7Q7pSyy2tO"
      },
      "execution_count": 53,
      "outputs": []
    },
    {
      "cell_type": "markdown",
      "source": [
        "We need to know the average rates for both categories."
      ],
      "metadata": {
        "id": "0OODAYXPPzz_"
      }
    },
    {
      "cell_type": "code",
      "source": [
        "coffee_dataset"
      ],
      "metadata": {
        "colab": {
          "base_uri": "https://localhost:8080/",
          "height": 394
        },
        "id": "zD5ENVQCzOia",
        "outputId": "f258d95a-abcb-4c49-d46f-8bf8aa146fa5"
      },
      "execution_count": 54,
      "outputs": [
        {
          "output_type": "execute_result",
          "data": {
            "text/plain": [
              "         Before removing suger  After removing suger\n",
              "User_1                     4.0                  4.50\n",
              "User_2                     5.5                  7.00\n",
              "User_3                     6.0                  6.00\n",
              "User_4                     8.5                  7.50\n",
              "User_5                     4.0                  4.00\n",
              "User_6                     3.5                  5.00\n",
              "User_7                     7.5                  7.00\n",
              "User_8                     6.5                  7.00\n",
              "User_9                     8.0                  8.00\n",
              "User_10                    7.5                  8.50\n",
              "mean                       6.1                  6.45"
            ],
            "text/html": [
              "\n",
              "  <div id=\"df-c771f72b-fdd3-4800-8d6c-0dad1e5b1504\" class=\"colab-df-container\">\n",
              "    <div>\n",
              "<style scoped>\n",
              "    .dataframe tbody tr th:only-of-type {\n",
              "        vertical-align: middle;\n",
              "    }\n",
              "\n",
              "    .dataframe tbody tr th {\n",
              "        vertical-align: top;\n",
              "    }\n",
              "\n",
              "    .dataframe thead th {\n",
              "        text-align: right;\n",
              "    }\n",
              "</style>\n",
              "<table border=\"1\" class=\"dataframe\">\n",
              "  <thead>\n",
              "    <tr style=\"text-align: right;\">\n",
              "      <th></th>\n",
              "      <th>Before removing suger</th>\n",
              "      <th>After removing suger</th>\n",
              "    </tr>\n",
              "  </thead>\n",
              "  <tbody>\n",
              "    <tr>\n",
              "      <th>User_1</th>\n",
              "      <td>4.0</td>\n",
              "      <td>4.50</td>\n",
              "    </tr>\n",
              "    <tr>\n",
              "      <th>User_2</th>\n",
              "      <td>5.5</td>\n",
              "      <td>7.00</td>\n",
              "    </tr>\n",
              "    <tr>\n",
              "      <th>User_3</th>\n",
              "      <td>6.0</td>\n",
              "      <td>6.00</td>\n",
              "    </tr>\n",
              "    <tr>\n",
              "      <th>User_4</th>\n",
              "      <td>8.5</td>\n",
              "      <td>7.50</td>\n",
              "    </tr>\n",
              "    <tr>\n",
              "      <th>User_5</th>\n",
              "      <td>4.0</td>\n",
              "      <td>4.00</td>\n",
              "    </tr>\n",
              "    <tr>\n",
              "      <th>User_6</th>\n",
              "      <td>3.5</td>\n",
              "      <td>5.00</td>\n",
              "    </tr>\n",
              "    <tr>\n",
              "      <th>User_7</th>\n",
              "      <td>7.5</td>\n",
              "      <td>7.00</td>\n",
              "    </tr>\n",
              "    <tr>\n",
              "      <th>User_8</th>\n",
              "      <td>6.5</td>\n",
              "      <td>7.00</td>\n",
              "    </tr>\n",
              "    <tr>\n",
              "      <th>User_9</th>\n",
              "      <td>8.0</td>\n",
              "      <td>8.00</td>\n",
              "    </tr>\n",
              "    <tr>\n",
              "      <th>User_10</th>\n",
              "      <td>7.5</td>\n",
              "      <td>8.50</td>\n",
              "    </tr>\n",
              "    <tr>\n",
              "      <th>mean</th>\n",
              "      <td>6.1</td>\n",
              "      <td>6.45</td>\n",
              "    </tr>\n",
              "  </tbody>\n",
              "</table>\n",
              "</div>\n",
              "    <div class=\"colab-df-buttons\">\n",
              "\n",
              "  <div class=\"colab-df-container\">\n",
              "    <button class=\"colab-df-convert\" onclick=\"convertToInteractive('df-c771f72b-fdd3-4800-8d6c-0dad1e5b1504')\"\n",
              "            title=\"Convert this dataframe to an interactive table.\"\n",
              "            style=\"display:none;\">\n",
              "\n",
              "  <svg xmlns=\"http://www.w3.org/2000/svg\" height=\"24px\" viewBox=\"0 -960 960 960\">\n",
              "    <path d=\"M120-120v-720h720v720H120Zm60-500h600v-160H180v160Zm220 220h160v-160H400v160Zm0 220h160v-160H400v160ZM180-400h160v-160H180v160Zm440 0h160v-160H620v160ZM180-180h160v-160H180v160Zm440 0h160v-160H620v160Z\"/>\n",
              "  </svg>\n",
              "    </button>\n",
              "\n",
              "  <style>\n",
              "    .colab-df-container {\n",
              "      display:flex;\n",
              "      gap: 12px;\n",
              "    }\n",
              "\n",
              "    .colab-df-convert {\n",
              "      background-color: #E8F0FE;\n",
              "      border: none;\n",
              "      border-radius: 50%;\n",
              "      cursor: pointer;\n",
              "      display: none;\n",
              "      fill: #1967D2;\n",
              "      height: 32px;\n",
              "      padding: 0 0 0 0;\n",
              "      width: 32px;\n",
              "    }\n",
              "\n",
              "    .colab-df-convert:hover {\n",
              "      background-color: #E2EBFA;\n",
              "      box-shadow: 0px 1px 2px rgba(60, 64, 67, 0.3), 0px 1px 3px 1px rgba(60, 64, 67, 0.15);\n",
              "      fill: #174EA6;\n",
              "    }\n",
              "\n",
              "    .colab-df-buttons div {\n",
              "      margin-bottom: 4px;\n",
              "    }\n",
              "\n",
              "    [theme=dark] .colab-df-convert {\n",
              "      background-color: #3B4455;\n",
              "      fill: #D2E3FC;\n",
              "    }\n",
              "\n",
              "    [theme=dark] .colab-df-convert:hover {\n",
              "      background-color: #434B5C;\n",
              "      box-shadow: 0px 1px 3px 1px rgba(0, 0, 0, 0.15);\n",
              "      filter: drop-shadow(0px 1px 2px rgba(0, 0, 0, 0.3));\n",
              "      fill: #FFFFFF;\n",
              "    }\n",
              "  </style>\n",
              "\n",
              "    <script>\n",
              "      const buttonEl =\n",
              "        document.querySelector('#df-c771f72b-fdd3-4800-8d6c-0dad1e5b1504 button.colab-df-convert');\n",
              "      buttonEl.style.display =\n",
              "        google.colab.kernel.accessAllowed ? 'block' : 'none';\n",
              "\n",
              "      async function convertToInteractive(key) {\n",
              "        const element = document.querySelector('#df-c771f72b-fdd3-4800-8d6c-0dad1e5b1504');\n",
              "        const dataTable =\n",
              "          await google.colab.kernel.invokeFunction('convertToInteractive',\n",
              "                                                    [key], {});\n",
              "        if (!dataTable) return;\n",
              "\n",
              "        const docLinkHtml = 'Like what you see? Visit the ' +\n",
              "          '<a target=\"_blank\" href=https://colab.research.google.com/notebooks/data_table.ipynb>data table notebook</a>'\n",
              "          + ' to learn more about interactive tables.';\n",
              "        element.innerHTML = '';\n",
              "        dataTable['output_type'] = 'display_data';\n",
              "        await google.colab.output.renderOutput(dataTable, element);\n",
              "        const docLink = document.createElement('div');\n",
              "        docLink.innerHTML = docLinkHtml;\n",
              "        element.appendChild(docLink);\n",
              "      }\n",
              "    </script>\n",
              "  </div>\n",
              "\n",
              "\n",
              "<div id=\"df-4acaee29-12df-46a8-a42c-daa024dff942\">\n",
              "  <button class=\"colab-df-quickchart\" onclick=\"quickchart('df-4acaee29-12df-46a8-a42c-daa024dff942')\"\n",
              "            title=\"Suggest charts\"\n",
              "            style=\"display:none;\">\n",
              "\n",
              "<svg xmlns=\"http://www.w3.org/2000/svg\" height=\"24px\"viewBox=\"0 0 24 24\"\n",
              "     width=\"24px\">\n",
              "    <g>\n",
              "        <path d=\"M19 3H5c-1.1 0-2 .9-2 2v14c0 1.1.9 2 2 2h14c1.1 0 2-.9 2-2V5c0-1.1-.9-2-2-2zM9 17H7v-7h2v7zm4 0h-2V7h2v10zm4 0h-2v-4h2v4z\"/>\n",
              "    </g>\n",
              "</svg>\n",
              "  </button>\n",
              "\n",
              "<style>\n",
              "  .colab-df-quickchart {\n",
              "      --bg-color: #E8F0FE;\n",
              "      --fill-color: #1967D2;\n",
              "      --hover-bg-color: #E2EBFA;\n",
              "      --hover-fill-color: #174EA6;\n",
              "      --disabled-fill-color: #AAA;\n",
              "      --disabled-bg-color: #DDD;\n",
              "  }\n",
              "\n",
              "  [theme=dark] .colab-df-quickchart {\n",
              "      --bg-color: #3B4455;\n",
              "      --fill-color: #D2E3FC;\n",
              "      --hover-bg-color: #434B5C;\n",
              "      --hover-fill-color: #FFFFFF;\n",
              "      --disabled-bg-color: #3B4455;\n",
              "      --disabled-fill-color: #666;\n",
              "  }\n",
              "\n",
              "  .colab-df-quickchart {\n",
              "    background-color: var(--bg-color);\n",
              "    border: none;\n",
              "    border-radius: 50%;\n",
              "    cursor: pointer;\n",
              "    display: none;\n",
              "    fill: var(--fill-color);\n",
              "    height: 32px;\n",
              "    padding: 0;\n",
              "    width: 32px;\n",
              "  }\n",
              "\n",
              "  .colab-df-quickchart:hover {\n",
              "    background-color: var(--hover-bg-color);\n",
              "    box-shadow: 0 1px 2px rgba(60, 64, 67, 0.3), 0 1px 3px 1px rgba(60, 64, 67, 0.15);\n",
              "    fill: var(--button-hover-fill-color);\n",
              "  }\n",
              "\n",
              "  .colab-df-quickchart-complete:disabled,\n",
              "  .colab-df-quickchart-complete:disabled:hover {\n",
              "    background-color: var(--disabled-bg-color);\n",
              "    fill: var(--disabled-fill-color);\n",
              "    box-shadow: none;\n",
              "  }\n",
              "\n",
              "  .colab-df-spinner {\n",
              "    border: 2px solid var(--fill-color);\n",
              "    border-color: transparent;\n",
              "    border-bottom-color: var(--fill-color);\n",
              "    animation:\n",
              "      spin 1s steps(1) infinite;\n",
              "  }\n",
              "\n",
              "  @keyframes spin {\n",
              "    0% {\n",
              "      border-color: transparent;\n",
              "      border-bottom-color: var(--fill-color);\n",
              "      border-left-color: var(--fill-color);\n",
              "    }\n",
              "    20% {\n",
              "      border-color: transparent;\n",
              "      border-left-color: var(--fill-color);\n",
              "      border-top-color: var(--fill-color);\n",
              "    }\n",
              "    30% {\n",
              "      border-color: transparent;\n",
              "      border-left-color: var(--fill-color);\n",
              "      border-top-color: var(--fill-color);\n",
              "      border-right-color: var(--fill-color);\n",
              "    }\n",
              "    40% {\n",
              "      border-color: transparent;\n",
              "      border-right-color: var(--fill-color);\n",
              "      border-top-color: var(--fill-color);\n",
              "    }\n",
              "    60% {\n",
              "      border-color: transparent;\n",
              "      border-right-color: var(--fill-color);\n",
              "    }\n",
              "    80% {\n",
              "      border-color: transparent;\n",
              "      border-right-color: var(--fill-color);\n",
              "      border-bottom-color: var(--fill-color);\n",
              "    }\n",
              "    90% {\n",
              "      border-color: transparent;\n",
              "      border-bottom-color: var(--fill-color);\n",
              "    }\n",
              "  }\n",
              "</style>\n",
              "\n",
              "  <script>\n",
              "    async function quickchart(key) {\n",
              "      const quickchartButtonEl =\n",
              "        document.querySelector('#' + key + ' button');\n",
              "      quickchartButtonEl.disabled = true;  // To prevent multiple clicks.\n",
              "      quickchartButtonEl.classList.add('colab-df-spinner');\n",
              "      try {\n",
              "        const charts = await google.colab.kernel.invokeFunction(\n",
              "            'suggestCharts', [key], {});\n",
              "      } catch (error) {\n",
              "        console.error('Error during call to suggestCharts:', error);\n",
              "      }\n",
              "      quickchartButtonEl.classList.remove('colab-df-spinner');\n",
              "      quickchartButtonEl.classList.add('colab-df-quickchart-complete');\n",
              "    }\n",
              "    (() => {\n",
              "      let quickchartButtonEl =\n",
              "        document.querySelector('#df-4acaee29-12df-46a8-a42c-daa024dff942 button');\n",
              "      quickchartButtonEl.style.display =\n",
              "        google.colab.kernel.accessAllowed ? 'block' : 'none';\n",
              "    })();\n",
              "  </script>\n",
              "</div>\n",
              "    </div>\n",
              "  </div>\n"
            ],
            "application/vnd.google.colaboratory.intrinsic+json": {
              "type": "dataframe",
              "variable_name": "coffee_dataset",
              "summary": "{\n  \"name\": \"coffee_dataset\",\n  \"rows\": 11,\n  \"fields\": [\n    {\n      \"column\": \"Before removing suger\",\n      \"properties\": {\n        \"dtype\": \"number\",\n        \"std\": 1.7146428199482247,\n        \"min\": 3.5,\n        \"max\": 8.5,\n        \"num_unique_values\": 9,\n        \"samples\": [\n          8.0,\n          5.5,\n          7.5\n        ],\n        \"semantic_type\": \"\",\n        \"description\": \"\"\n      }\n    },\n    {\n      \"column\": \"After removing suger\",\n      \"properties\": {\n        \"dtype\": \"number\",\n        \"std\": 1.439618004888797,\n        \"min\": 4.0,\n        \"max\": 8.5,\n        \"num_unique_values\": 9,\n        \"samples\": [\n          8.5,\n          7.0,\n          5.0\n        ],\n        \"semantic_type\": \"\",\n        \"description\": \"\"\n      }\n    }\n  ]\n}"
            }
          },
          "metadata": {},
          "execution_count": 54
        }
      ]
    },
    {
      "cell_type": "code",
      "source": [
        "s1 = coffee_dataset['Before removing suger'].std()\n",
        "s2 = coffee_dataset['After removing suger'].std()\n",
        "t = round((mean[1] - mean[0]) / (((s1**2 + s1**2)/n)**0.5), 5)\n",
        "print(f'The t is: {t}')"
      ],
      "metadata": {
        "colab": {
          "base_uri": "https://localhost:8080/"
        },
        "id": "wKvJrpMJ0Q1u",
        "outputId": "487c47b4-2d37-4ea3-cfcc-b05a1f353672"
      },
      "execution_count": 56,
      "outputs": [
        {
          "output_type": "stream",
          "name": "stdout",
          "text": [
            "The t is: 0.45644\n"
          ]
        }
      ]
    },
    {
      "cell_type": "code",
      "source": [
        "significance_level=0.05\n",
        "degree_of_freedom= n-1\n",
        "cv = round(stats.t.ppf(1- significance_level, degree_of_freedom), 5)\n",
        "if cv <= t :\n",
        "  print(f'Critical Value is: {cv}, and T-Statistics is: {t} ({cv} <= {t}). So we will reject the H0')\n",
        "else:\n",
        "   print(f'Critical Value is: {cv}, and T-Statistics is: {t} ({cv} > {t}). So we cannot reject the H0')"
      ],
      "metadata": {
        "colab": {
          "base_uri": "https://localhost:8080/"
        },
        "id": "bJEqkJhJ10Th",
        "outputId": "1c17ddbb-6739-415e-c7aa-4b77b809bc89"
      },
      "execution_count": 57,
      "outputs": [
        {
          "output_type": "stream",
          "name": "stdout",
          "text": [
            "Critical Value is: 1.83311, and T-Statistics is: 0.45644 (1.83311 > 0.45644). So we cannot reject the H0\n"
          ]
        }
      ]
    },
    {
      "cell_type": "code",
      "source": [
        "p_value = round(1-stats.t.cdf(significance_level, degree_of_freedom), 5)\n",
        "print(f'Significant level is: {significance_level}')\n",
        "print(f'We can check the truth by P-Value: {p_value}')"
      ],
      "metadata": {
        "colab": {
          "base_uri": "https://localhost:8080/"
        },
        "id": "NV8FTfWP3VJI",
        "outputId": "31558677-36ee-4d8e-8c50-3c9e1bbc21fe"
      },
      "execution_count": 59,
      "outputs": [
        {
          "output_type": "stream",
          "name": "stdout",
          "text": [
            "Significant level is: 0.05\n",
            "We can check the truth by P-Value: 0.48061\n"
          ]
        }
      ]
    },
    {
      "cell_type": "markdown",
      "source": [
        "**Conclusion: We rejected the H0. This means that the two types of coffee are significantly different.**"
      ],
      "metadata": {
        "id": "F9ni9kp8RH5R"
      }
    }
  ]
}